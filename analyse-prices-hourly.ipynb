{
 "cells": [
  {
   "cell_type": "code",
   "execution_count": 4,
   "metadata": {
    "ExecuteTime": {
     "end_time": "2024-01-26T18:27:29.737820Z",
     "start_time": "2024-01-26T18:27:16.798494Z"
    },
    "colab": {
     "base_uri": "https://localhost:8080/"
    },
    "id": "4kMo6W1p5SMO",
    "outputId": "e249ee53-b2a5-4724-efdc-392594676e02"
   },
   "outputs": [
    {
     "name": "stdout",
     "output_type": "stream",
     "text": [
      "\u001b[34mUpdating dependencies\u001b[39m\n",
      "\u001b[2K\u001b[34mResolving dependencies...\u001b[39m \u001b[39;2m(2.3s)\u001b[39;22m\n",
      "\n",
      "No dependencies to install or update\n"
     ]
    }
   ],
   "source": [
    "!bash --login -c \"poetry update\""
   ]
  },
  {
   "cell_type": "markdown",
   "metadata": {
    "collapsed": false,
    "id": "h-A4kPps5SMQ"
   },
   "source": [
    "# Option valuation model based on historical prices"
   ]
  },
  {
   "cell_type": "markdown",
   "metadata": {},
   "source": [
    "This code assumes `aws configure` has been run in the environment of the notebook."
   ]
  },
  {
   "cell_type": "code",
   "execution_count": 1,
   "metadata": {
    "ExecuteTime": {
     "end_time": "2024-01-28T09:44:12.952782Z",
     "start_time": "2024-01-28T09:44:10.909325Z"
    },
    "colab": {
     "base_uri": "https://localhost:8080/",
     "height": 443
    },
    "id": "nxChr0ny5SMS",
    "metadata": {},
    "outputId": "2a84f330-be20-4baf-edb1-95e8b7d4f4ab"
   },
   "outputs": [],
   "source": [
    "import optionspricing\n",
    "import boto3\n",
    "import helpers\n",
    "import pandas\n",
    "import dotenv\n",
    "\n",
    "dotenv.load_dotenv()\n",
    "\n",
    "BINANCE_ETH = \"ETHUSDT\"\n",
    "BINANCE_BTC = \"BTCUSDT\"\n",
    "BINANCE_XRP = \"XRPUSDC\"\n",
    "BINANCE_SOL = \"SOLUSDC\"\n",
    "BINANCE_BNB = \"BNBUSDC\"\n",
    "\n",
    "BINANCE_SYMBOL = BINANCE_ETH\n",
    "  \n",
    "USD_QUOTES = [\"SOL\", \"XRP\", \"BNB\"]\n",
    "quote_in_usd = len([prefix for prefix in USD_QUOTES if BINANCE_SYMBOL.upper().startswith(prefix)]) > 0\n",
    "\n",
    "s3 = boto3.resource('s3')\n",
    "\n",
    "data_file = helpers.fetch_object(s3, \"test-binance-prices-255120844515\", f\"{BINANCE_SYMBOL}-full.csv.zip\")\n",
    "prices_df = pandas.read_csv(data_file, compression='zip', header=0, index_col=\"dateTime\")\n",
    "prices_df.index = pandas.to_datetime(prices_df.index)"
   ]
  },
  {
   "cell_type": "markdown",
   "metadata": {
    "id": "-cJhFZGk5SMS"
   },
   "source": [
    "## Option valuation model: input parameters here"
   ]
  },
  {
   "cell_type": "code",
   "execution_count": 27,
   "metadata": {
    "ExecuteTime": {
     "end_time": "2024-01-29T10:28:52.874110Z",
     "start_time": "2024-01-29T10:28:49.030564Z"
    },
    "collapsed": false,
    "metadata": {}
   },
   "outputs": [
    {
     "name": "stderr",
     "output_type": "stream",
     "text": [
      "WARNING:root:calling option chain: https://www.deribit.com/api/v2/public/get_instruments?currency=ETH&kind=option&expired=false\n"
     ]
    },
    {
     "name": "stdout",
     "output_type": "stream",
     "text": [
      "target expiry: Fri 28 Mar, 08:00 (551 hours left)\n",
      "current price: 2244.49\n",
      "-------------------------------\n",
      "hit ratio: 38%\n",
      "cost: 0.105 / value: 0.111, gain% = 0.65%\n",
      "($) cost: 235.67 / value: 250.24, average gain = 14.57\n",
      "buy put 2100.0\n",
      "buy call 2300.0\n",
      "-------------------------------\n",
      "hit ratio: 35%\n",
      "cost: 0.073 / value: 0.083, gain% = 0.94%\n",
      "($) cost: 164.97 / value: 186.12, average gain = 21.15\n",
      "buy put 2000.0\n",
      "buy call 2400.0\n",
      "-------------------------------\n",
      "hit ratio: 29%\n",
      "cost: 0.046 / value: 0.057, gain% = 1.08%\n",
      "($) cost: 103.25 / value: 127.47, average gain = 24.22\n",
      "buy put 1800.0\n",
      "buy call 2500.0\n",
      "-------------------------------\n",
      "hit ratio: 22%\n",
      "cost: 0.029 / value: 0.038, gain% = 0.98%\n",
      "($) cost: 64.19 / value: 86.11, average gain = 21.91\n",
      "buy put 1500.0\n",
      "buy call 2600.0\n"
     ]
    }
   ],
   "source": [
    "target_period_hours = 24 * 24\n",
    "strikes_universe_size = 4\n",
    "CUT_OFF_YEAR_MONTH = (2021, 1)\n",
    "\n",
    "instrument_code = BINANCE_SYMBOL[:-4]\n",
    "\n",
    "headers = {\"Content-Type\": \"application/json\"}\n",
    "base_url = \"https://www.deribit.com/api/v2/public\"\n",
    "\n",
    "trading_model = optionspricing.TradingModel(base_url, headers, instrument_code, target_period_hours)\n",
    "trading_model.cutoff_year_month(CUT_OFF_YEAR_MONTH)\n",
    "\n",
    "option_chain_df = trading_model.evaluate(prices_df, strikes_universe_size)\n",
    "simulation = trading_model.simulate_strategy_long_straddle(option_chain_df, strikes_universe_size, quote_in_usd=quote_in_usd)\n",
    "print(simulation)"
   ]
  },
  {
   "cell_type": "markdown",
   "metadata": {},
   "source": [
    "# Data for covered calls"
   ]
  },
  {
   "cell_type": "code",
   "execution_count": 28,
   "metadata": {
    "ExecuteTime": {
     "end_time": "2024-01-29T10:28:53.839639Z",
     "start_time": "2024-01-29T10:28:53.814899Z"
    },
    "id": "Nwr0Hlj75SMV",
    "outputId": "430484f0-9bd3-4b6e-e0da-5c9891594905"
   },
   "outputs": [
    {
     "data": {
      "text/html": [
       "<div>\n",
       "<style scoped>\n",
       "    .dataframe tbody tr th:only-of-type {\n",
       "        vertical-align: middle;\n",
       "    }\n",
       "\n",
       "    .dataframe tbody tr th {\n",
       "        vertical-align: top;\n",
       "    }\n",
       "\n",
       "    .dataframe thead th {\n",
       "        text-align: right;\n",
       "    }\n",
       "</style>\n",
       "<table border=\"1\" class=\"dataframe\">\n",
       "  <thead>\n",
       "    <tr style=\"text-align: right;\">\n",
       "      <th></th>\n",
       "      <th>value_call</th>\n",
       "      <th>call_bid_usd</th>\n",
       "    </tr>\n",
       "    <tr>\n",
       "      <th>strike</th>\n",
       "      <th></th>\n",
       "      <th></th>\n",
       "    </tr>\n",
       "  </thead>\n",
       "  <tbody>\n",
       "    <tr>\n",
       "      <th>1500.0</th>\n",
       "      <td>826.772090</td>\n",
       "      <td>NaN</td>\n",
       "    </tr>\n",
       "    <tr>\n",
       "      <th>1800.0</th>\n",
       "      <td>542.241775</td>\n",
       "      <td>NaN</td>\n",
       "    </tr>\n",
       "    <tr>\n",
       "      <th>2000.0</th>\n",
       "      <td>369.100529</td>\n",
       "      <td>NaN</td>\n",
       "    </tr>\n",
       "    <tr>\n",
       "      <th>2100.0</th>\n",
       "      <td>294.264653</td>\n",
       "      <td>NaN</td>\n",
       "    </tr>\n",
       "    <tr>\n",
       "      <th>2200.0</th>\n",
       "      <td>230.117537</td>\n",
       "      <td>NaN</td>\n",
       "    </tr>\n",
       "    <tr>\n",
       "      <th>2300.0</th>\n",
       "      <td>180.015267</td>\n",
       "      <td>136.913890</td>\n",
       "    </tr>\n",
       "    <tr>\n",
       "      <th>2400.0</th>\n",
       "      <td>141.062626</td>\n",
       "      <td>101.002050</td>\n",
       "    </tr>\n",
       "    <tr>\n",
       "      <th>2500.0</th>\n",
       "      <td>109.267750</td>\n",
       "      <td>72.945925</td>\n",
       "    </tr>\n",
       "    <tr>\n",
       "      <th>2600.0</th>\n",
       "      <td>83.372017</td>\n",
       "      <td>52.745515</td>\n",
       "    </tr>\n",
       "  </tbody>\n",
       "</table>\n",
       "</div>"
      ],
      "text/plain": [
       "        value_call  call_bid_usd\n",
       "strike                          \n",
       "1500.0  826.772090           NaN\n",
       "1800.0  542.241775           NaN\n",
       "2000.0  369.100529           NaN\n",
       "2100.0  294.264653           NaN\n",
       "2200.0  230.117537           NaN\n",
       "2300.0  180.015267    136.913890\n",
       "2400.0  141.062626    101.002050\n",
       "2500.0  109.267750     72.945925\n",
       "2600.0   83.372017     52.745515"
      ]
     },
     "execution_count": 28,
     "metadata": {},
     "output_type": "execute_result"
    }
   ],
   "source": [
    "call_data = option_chain_df[[\"value_call\", \"value_call_pct\", \"call_bid\"]].copy()\n",
    "call_data[\"call_bid_usd\"] = option_chain_df[\"value_call\"].mul(option_chain_df[\"call_bid\"].div(option_chain_df[\"value_call_pct\"]))\n",
    "call_data[[\"value_call\", \"call_bid_usd\"]]"
   ]
  },
  {
   "cell_type": "markdown",
   "metadata": {},
   "source": [
    "# Sanity checks"
   ]
  },
  {
   "cell_type": "code",
   "execution_count": 14,
   "metadata": {},
   "outputs": [
    {
     "name": "stderr",
     "output_type": "stream",
     "text": [
      "WARNING:root:calling option chain: https://www.deribit.com/api/v2/public/get_instruments?currency=ETH&kind=option&expired=false\n"
     ]
    },
    {
     "name": "stdout",
     "output_type": "stream",
     "text": [
      "target expiry: Sun 07 Jul, 08:00 (49 hours left)\n",
      "current price: 2858.15\n",
      "-------------------------------\n",
      "hit ratio: 58%\n",
      "cost: -0.021 / value: -0.020, gain% = 0.15%\n",
      "($) cost: -61.45 / value: -57.16, average gain = 4.29\n",
      "buy put 2600.0\n",
      "sell put 2800.0\n",
      "sell call 2900.0\n",
      "buy call 3000.0\n"
     ]
    }
   ],
   "source": [
    "\n",
    "trading_model = optionspricing.TradingModel(base_url, headers, instrument_code, target_period_hours)\n",
    "size = 6\n",
    "option_chain_df = trading_model.evaluate(prices_df, strikes_universe_size=size)\n",
    "put_weights = [0.] * (2 * size + 1)\n",
    "call_weights = [0.] * (2 * size + 1)\n",
    "put_weights[size - 5] = +1.\n",
    "put_weights[size - 1] = -1.\n",
    "call_weights[size + 1] = -1.\n",
    "call_weights[size + 5] = +1.\n",
    "\n",
    "simulation = trading_model.simulate_strategy(option_chain_df, put_weights, call_weights, quote_in_usd=quote_in_usd)\n",
    "print(simulation)"
   ]
  },
  {
   "cell_type": "code",
   "execution_count": null,
   "metadata": {},
   "outputs": [
    {
     "data": {
      "text/html": [
       "<div>\n",
       "<style scoped>\n",
       "    .dataframe tbody tr th:only-of-type {\n",
       "        vertical-align: middle;\n",
       "    }\n",
       "\n",
       "    .dataframe tbody tr th {\n",
       "        vertical-align: top;\n",
       "    }\n",
       "\n",
       "    .dataframe thead th {\n",
       "        text-align: right;\n",
       "    }\n",
       "</style>\n",
       "<table border=\"1\" class=\"dataframe\">\n",
       "  <thead>\n",
       "    <tr style=\"text-align: right;\">\n",
       "      <th></th>\n",
       "      <th>value_call</th>\n",
       "      <th>call_bid_usd</th>\n",
       "    </tr>\n",
       "    <tr>\n",
       "      <th>strike</th>\n",
       "      <th></th>\n",
       "      <th></th>\n",
       "    </tr>\n",
       "  </thead>\n",
       "  <tbody>\n",
       "    <tr>\n",
       "      <th>2050.0</th>\n",
       "      <td>157.277626</td>\n",
       "      <td>NaN</td>\n",
       "    </tr>\n",
       "    <tr>\n",
       "      <th>2100.0</th>\n",
       "      <td>113.535697</td>\n",
       "      <td>NaN</td>\n",
       "    </tr>\n",
       "    <tr>\n",
       "      <th>2150.0</th>\n",
       "      <td>74.588607</td>\n",
       "      <td>NaN</td>\n",
       "    </tr>\n",
       "    <tr>\n",
       "      <th>2200.0</th>\n",
       "      <td>44.719136</td>\n",
       "      <td>56.956900</td>\n",
       "    </tr>\n",
       "    <tr>\n",
       "      <th>2250.0</th>\n",
       "      <td>26.295392</td>\n",
       "      <td>35.050400</td>\n",
       "    </tr>\n",
       "    <tr>\n",
       "      <th>2300.0</th>\n",
       "      <td>15.408865</td>\n",
       "      <td>20.811175</td>\n",
       "    </tr>\n",
       "    <tr>\n",
       "      <th>2350.0</th>\n",
       "      <td>9.048906</td>\n",
       "      <td>13.143900</td>\n",
       "    </tr>\n",
       "  </tbody>\n",
       "</table>\n",
       "</div>"
      ],
      "text/plain": [
       "        value_call  call_bid_usd\n",
       "strike                          \n",
       "2050.0  157.277626           NaN\n",
       "2100.0  113.535697           NaN\n",
       "2150.0   74.588607           NaN\n",
       "2200.0   44.719136     56.956900\n",
       "2250.0   26.295392     35.050400\n",
       "2300.0   15.408865     20.811175\n",
       "2350.0    9.048906     13.143900"
      ]
     },
     "execution_count": 16,
     "metadata": {},
     "output_type": "execute_result"
    }
   ],
   "source": []
  }
 ],
 "metadata": {
  "colab": {
   "provenance": []
  },
  "kernelspec": {
   "display_name": "option-valuation-HwRl6Esb-py3.12",
   "language": "python",
   "name": "python3"
  },
  "language_info": {
   "codemirror_mode": {
    "name": "ipython",
    "version": 3
   },
   "file_extension": ".py",
   "mimetype": "text/x-python",
   "name": "python",
   "nbconvert_exporter": "python",
   "pygments_lexer": "ipython3",
   "version": "3.12.1"
  }
 },
 "nbformat": 4,
 "nbformat_minor": 4
}
