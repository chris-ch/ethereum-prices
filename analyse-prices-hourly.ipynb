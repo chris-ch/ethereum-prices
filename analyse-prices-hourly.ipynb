{
 "cells": [
  {
   "cell_type": "code",
   "execution_count": 1,
   "metadata": {
    "ExecuteTime": {
     "end_time": "2023-10-24T00:58:07.533317Z",
     "start_time": "2023-10-24T00:58:00.419011Z"
    },
    "colab": {
     "base_uri": "https://localhost:8080/"
    },
    "id": "4kMo6W1p5SMO",
    "outputId": "e249ee53-b2a5-4724-efdc-392594676e02"
   },
   "outputs": [
    {
     "name": "stdout",
     "output_type": "stream",
     "text": [
      "Requirement already satisfied: pip in ./.venv/lib/python3.11/site-packages (23.3.1)\n",
      "Requirement already satisfied: python-binance in ./.venv/lib/python3.11/site-packages (1.0.19)\n",
      "Requirement already satisfied: requests in ./.venv/lib/python3.11/site-packages (from python-binance) (2.31.0)\n",
      "Requirement already satisfied: six in ./.venv/lib/python3.11/site-packages (from python-binance) (1.16.0)\n",
      "Requirement already satisfied: dateparser in ./.venv/lib/python3.11/site-packages (from python-binance) (1.2.0)\n",
      "Requirement already satisfied: aiohttp in ./.venv/lib/python3.11/site-packages (from python-binance) (3.9.0)\n",
      "Requirement already satisfied: ujson in ./.venv/lib/python3.11/site-packages (from python-binance) (5.8.0)\n",
      "Requirement already satisfied: websockets in ./.venv/lib/python3.11/site-packages (from python-binance) (12.0)\n",
      "Requirement already satisfied: pycryptodome in ./.venv/lib/python3.11/site-packages (from python-binance) (3.19.0)\n",
      "Requirement already satisfied: attrs>=17.3.0 in ./.venv/lib/python3.11/site-packages (from aiohttp->python-binance) (23.1.0)\n",
      "Requirement already satisfied: multidict<7.0,>=4.5 in ./.venv/lib/python3.11/site-packages (from aiohttp->python-binance) (6.0.4)\n",
      "Requirement already satisfied: yarl<2.0,>=1.0 in ./.venv/lib/python3.11/site-packages (from aiohttp->python-binance) (1.9.3)\n",
      "Requirement already satisfied: frozenlist>=1.1.1 in ./.venv/lib/python3.11/site-packages (from aiohttp->python-binance) (1.4.0)\n",
      "Requirement already satisfied: aiosignal>=1.1.2 in ./.venv/lib/python3.11/site-packages (from aiohttp->python-binance) (1.3.1)\n",
      "Requirement already satisfied: python-dateutil in ./.venv/lib/python3.11/site-packages (from dateparser->python-binance) (2.8.2)\n",
      "Requirement already satisfied: pytz in ./.venv/lib/python3.11/site-packages (from dateparser->python-binance) (2023.3.post1)\n",
      "Requirement already satisfied: regex!=2019.02.19,!=2021.8.27 in ./.venv/lib/python3.11/site-packages (from dateparser->python-binance) (2023.10.3)\n",
      "Requirement already satisfied: tzlocal in ./.venv/lib/python3.11/site-packages (from dateparser->python-binance) (5.2)\n",
      "Requirement already satisfied: charset-normalizer<4,>=2 in ./.venv/lib/python3.11/site-packages (from requests->python-binance) (3.3.2)\n",
      "Requirement already satisfied: idna<4,>=2.5 in ./.venv/lib/python3.11/site-packages (from requests->python-binance) (3.4)\n",
      "Requirement already satisfied: urllib3<3,>=1.21.1 in ./.venv/lib/python3.11/site-packages (from requests->python-binance) (2.1.0)\n",
      "Requirement already satisfied: certifi>=2017.4.17 in ./.venv/lib/python3.11/site-packages (from requests->python-binance) (2023.11.17)\n",
      "Requirement already satisfied: data_cache in ./.venv/lib/python3.11/site-packages (0.1.6)\n",
      "Requirement already satisfied: h5py in ./.venv/lib/python3.11/site-packages (from data_cache) (3.10.0)\n",
      "Requirement already satisfied: numpy in ./.venv/lib/python3.11/site-packages (from data_cache) (1.26.2)\n",
      "Requirement already satisfied: pandas in ./.venv/lib/python3.11/site-packages (from data_cache) (2.1.3)\n",
      "Requirement already satisfied: tables in ./.venv/lib/python3.11/site-packages (from data_cache) (3.9.1)\n",
      "Requirement already satisfied: python-dateutil>=2.8.2 in ./.venv/lib/python3.11/site-packages (from pandas->data_cache) (2.8.2)\n",
      "Requirement already satisfied: pytz>=2020.1 in ./.venv/lib/python3.11/site-packages (from pandas->data_cache) (2023.3.post1)\n",
      "Requirement already satisfied: tzdata>=2022.1 in ./.venv/lib/python3.11/site-packages (from pandas->data_cache) (2023.3)\n",
      "Requirement already satisfied: numexpr>=2.6.2 in ./.venv/lib/python3.11/site-packages (from tables->data_cache) (2.8.7)\n",
      "Requirement already satisfied: packaging in ./.venv/lib/python3.11/site-packages (from tables->data_cache) (23.2)\n",
      "Requirement already satisfied: py-cpuinfo in ./.venv/lib/python3.11/site-packages (from tables->data_cache) (9.0.0)\n",
      "Requirement already satisfied: blosc2>=2.2.8 in ./.venv/lib/python3.11/site-packages (from tables->data_cache) (2.3.1)\n",
      "Requirement already satisfied: ndindex>=1.4 in ./.venv/lib/python3.11/site-packages (from blosc2>=2.2.8->tables->data_cache) (1.7)\n",
      "Requirement already satisfied: msgpack in ./.venv/lib/python3.11/site-packages (from blosc2>=2.2.8->tables->data_cache) (1.0.7)\n",
      "Requirement already satisfied: six>=1.5 in ./.venv/lib/python3.11/site-packages (from python-dateutil>=2.8.2->pandas->data_cache) (1.16.0)\n"
     ]
    }
   ],
   "source": [
    "!pip install --upgrade pip\n",
    "!pip install python-binance"
   ]
  },
  {
   "cell_type": "markdown",
   "metadata": {
    "collapsed": false,
    "id": "h-A4kPps5SMQ"
   },
   "source": [
    "# Option valuation model based on historical prices"
   ]
  },
  {
   "cell_type": "code",
   "execution_count": 1,
   "metadata": {
    "colab": {
     "base_uri": "https://localhost:8080/",
     "height": 443
    },
    "id": "nxChr0ny5SMS",
    "outputId": "2a84f330-be20-4baf-edb1-95e8b7d4f4ab",
    "ExecuteTime": {
     "end_time": "2024-01-26T10:02:41.433955Z",
     "start_time": "2024-01-26T10:02:39.388593Z"
    }
   },
   "outputs": [
    {
     "name": "stdout",
     "output_type": "stream",
     "text": [
      "\n",
      "loading 2014 ............\n",
      "loading 2015 ............\n",
      "loading 2016 ............\n",
      "loading 2017 ............\n",
      "loading 2018 ............\n",
      "loading 2019 ............\n",
      "loading 2020 ............\n",
      "loading 2021 ............\n",
      "loading 2022 ............\n",
      "loading 2023 ............\n",
      "loading 2024 \n",
      "interrupting at 2024/01\n"
     ]
    }
   ],
   "source": [
    "import importlib.util\n",
    "import os\n",
    "google_colab_spec = importlib.util.find_spec(\"google\") and importlib.util.find_spec(\"google.colab\")\n",
    "if google_colab_spec:\n",
    "    from google.colab import drive\n",
    "    drive.mount('/content/drive', force_remount=True)\n",
    "    path = '/content/drive/MyDrive/Colab Notebooks/Ethereum Prices'\n",
    "else:\n",
    "    path = f'{os.environ[\"HOME\"]}/Library/CloudStorage/GoogleDrive-chris.perso@gmail.com/My Drive/Colab Notebooks/Ethereum Prices'\n",
    "\n",
    "from datetime import timezone\n",
    "\n",
    "import optionspricing\n",
    "import binanceprices\n",
    "\n",
    "COUNT_YEARS = 10\n",
    "BINANCE_DATETIME_FORMAT = \"%Y-%m-%d %H-%M-%S\"\n",
    "BINANCE_SYMBOL = 'ETHUSDT'\n",
    "\n",
    "prices_df = binanceprices.load_prices(path, BINANCE_SYMBOL, COUNT_YEARS)\n"
   ]
  },
  {
   "cell_type": "markdown",
   "metadata": {
    "id": "-cJhFZGk5SMS"
   },
   "source": [
    "## Option valuation model: input parameters here"
   ]
  },
  {
   "cell_type": "code",
   "outputs": [],
   "source": [
    "target_period_hours = 20 * 24 + 23\n",
    "strikes_universe_size = 4\n",
    "CUT_OFF_YEAR_MONTH = (2021, 7)\n",
    "\n",
    "instrument_code = BINANCE_SYMBOL[:3]\n",
    "\n",
    "headers = {\"Content-Type\": \"application/json\"}\n",
    "base_url = 'https://www.deribit.com/api/v2/public'\n",
    "\n",
    "trading_model = optionspricing.TradingModel(base_url, headers, instrument_code, target_period_hours)\n",
    "trading_model.cutoff_year_month(CUT_OFF_YEAR_MONTH)\n",
    "\n",
    "puts = trading_model.puts\n",
    "calls = trading_model.calls\n",
    "target_expiry = trading_model.target_expiry\n",
    "put_strikes = trading_model.put_strikes\n",
    "call_strikes = trading_model.call_strikes\n",
    "underlying_price = trading_model.underlying_price\n",
    "remaining_hours = trading_model.remaining_hours\n",
    "\n",
    "option_chain_df = trading_model.evaluate(prices_df, strikes_universe_size)"
   ],
   "metadata": {
    "collapsed": false,
    "ExecuteTime": {
     "end_time": "2024-01-26T10:02:47.572446Z",
     "start_time": "2024-01-26T10:02:45.370579Z"
    }
   },
   "execution_count": 2
  },
  {
   "cell_type": "code",
   "outputs": [
    {
     "name": "stdout",
     "output_type": "stream",
     "text": [
      "target expiry: 2024-02-16 08:00:00+00:00 (502 hours left)\n",
      "current price: 2208.0\n",
      "trading put 2100 and call 2300\n",
      "cost: 0.043 / value: 0.093, benefit/cost = 2.2x\n",
      "($) cost: 94.94 / value: 205.42, average gain = 110.48\n"
     ]
    },
    {
     "data": {
      "text/plain": "        value_call   value_put  value_call_median  value_put_median  \\\nstrike                                                                \n2000.0  300.472245   53.516773         206.035361          0.000000   \n2050.0  262.916821   65.961349         156.035361          0.000000   \n2100.0  227.735064   80.779592         106.035361          0.000000   \n2150.0  195.870168   98.914695          56.035361          0.000000   \n2200.0  168.410156  121.454683           6.035361          0.000000   \n2250.0  144.883420  147.927947           0.000000         43.964639   \n2300.0  124.643280  177.687807           0.000000         93.964639   \n2350.0  106.696941  209.741469           0.000000        143.964639   \n2400.0   90.856296  243.900824           0.000000        193.964639   \n\n        value_call_pct  call_ask  value_put_pct  put_ask  \nstrike                                                    \n2000.0             NaN    0.1155       0.024238   0.0110  \n2050.0             NaN    0.0965       0.029874   0.0145  \n2100.0             NaN    0.0790       0.036585   0.0200  \n2150.0             NaN    0.0570       0.044798   0.0270  \n2200.0             NaN    0.0435       0.055007   0.0360  \n2250.0        0.065617    0.0315            NaN   0.0475  \n2300.0        0.056451    0.0230            NaN   0.0625  \n2350.0        0.048323    0.0165            NaN  15.0000  \n2400.0        0.041149    0.0120            NaN  15.0000  ",
      "text/html": "<div>\n<style scoped>\n    .dataframe tbody tr th:only-of-type {\n        vertical-align: middle;\n    }\n\n    .dataframe tbody tr th {\n        vertical-align: top;\n    }\n\n    .dataframe thead th {\n        text-align: right;\n    }\n</style>\n<table border=\"1\" class=\"dataframe\">\n  <thead>\n    <tr style=\"text-align: right;\">\n      <th></th>\n      <th>value_call</th>\n      <th>value_put</th>\n      <th>value_call_median</th>\n      <th>value_put_median</th>\n      <th>value_call_pct</th>\n      <th>call_ask</th>\n      <th>value_put_pct</th>\n      <th>put_ask</th>\n    </tr>\n    <tr>\n      <th>strike</th>\n      <th></th>\n      <th></th>\n      <th></th>\n      <th></th>\n      <th></th>\n      <th></th>\n      <th></th>\n      <th></th>\n    </tr>\n  </thead>\n  <tbody>\n    <tr>\n      <th>2000.0</th>\n      <td>300.472245</td>\n      <td>53.516773</td>\n      <td>206.035361</td>\n      <td>0.000000</td>\n      <td>NaN</td>\n      <td>0.1155</td>\n      <td>0.024238</td>\n      <td>0.0110</td>\n    </tr>\n    <tr>\n      <th>2050.0</th>\n      <td>262.916821</td>\n      <td>65.961349</td>\n      <td>156.035361</td>\n      <td>0.000000</td>\n      <td>NaN</td>\n      <td>0.0965</td>\n      <td>0.029874</td>\n      <td>0.0145</td>\n    </tr>\n    <tr>\n      <th>2100.0</th>\n      <td>227.735064</td>\n      <td>80.779592</td>\n      <td>106.035361</td>\n      <td>0.000000</td>\n      <td>NaN</td>\n      <td>0.0790</td>\n      <td>0.036585</td>\n      <td>0.0200</td>\n    </tr>\n    <tr>\n      <th>2150.0</th>\n      <td>195.870168</td>\n      <td>98.914695</td>\n      <td>56.035361</td>\n      <td>0.000000</td>\n      <td>NaN</td>\n      <td>0.0570</td>\n      <td>0.044798</td>\n      <td>0.0270</td>\n    </tr>\n    <tr>\n      <th>2200.0</th>\n      <td>168.410156</td>\n      <td>121.454683</td>\n      <td>6.035361</td>\n      <td>0.000000</td>\n      <td>NaN</td>\n      <td>0.0435</td>\n      <td>0.055007</td>\n      <td>0.0360</td>\n    </tr>\n    <tr>\n      <th>2250.0</th>\n      <td>144.883420</td>\n      <td>147.927947</td>\n      <td>0.000000</td>\n      <td>43.964639</td>\n      <td>0.065617</td>\n      <td>0.0315</td>\n      <td>NaN</td>\n      <td>0.0475</td>\n    </tr>\n    <tr>\n      <th>2300.0</th>\n      <td>124.643280</td>\n      <td>177.687807</td>\n      <td>0.000000</td>\n      <td>93.964639</td>\n      <td>0.056451</td>\n      <td>0.0230</td>\n      <td>NaN</td>\n      <td>0.0625</td>\n    </tr>\n    <tr>\n      <th>2350.0</th>\n      <td>106.696941</td>\n      <td>209.741469</td>\n      <td>0.000000</td>\n      <td>143.964639</td>\n      <td>0.048323</td>\n      <td>0.0165</td>\n      <td>NaN</td>\n      <td>15.0000</td>\n    </tr>\n    <tr>\n      <th>2400.0</th>\n      <td>90.856296</td>\n      <td>243.900824</td>\n      <td>0.000000</td>\n      <td>193.964639</td>\n      <td>0.041149</td>\n      <td>0.0120</td>\n      <td>NaN</td>\n      <td>15.0000</td>\n    </tr>\n  </tbody>\n</table>\n</div>"
     },
     "execution_count": 4,
     "metadata": {},
     "output_type": "execute_result"
    }
   ],
   "source": [
    "#\n",
    "index_put = strikes_universe_size - 2\n",
    "index_call = strikes_universe_size + 2\n",
    "#\n",
    "cost, value = (option_chain_df.iloc[index_put]['put_ask'] + option_chain_df.iloc[index_call]['call_ask'], \n",
    " option_chain_df.iloc[index_put]['value_put_pct'] + option_chain_df.iloc[index_call]['value_call_pct']\n",
    ")\n",
    "print(f'target expiry: {target_expiry.astimezone(timezone.utc)} ({remaining_hours} hours left)')\n",
    "print(f'current price: {underlying_price}')\n",
    "print(f'trading put {option_chain_df.iloc[index_put].name:.0f} and call {option_chain_df.iloc[index_call].name:.0f}')\n",
    "print(f'cost: {cost:.3f} / value: {value:.3f}, benefit/cost = {value / cost:.1f}x')\n",
    "print(f'($) cost: {cost * underlying_price:.2f} / value: {value * underlying_price:.2f}, average gain = {(value - cost) * underlying_price:.2f}')\n",
    "\n",
    "option_chain_df"
   ],
   "metadata": {
    "id": "Nwr0Hlj75SMV",
    "outputId": "430484f0-9bd3-4b6e-e0da-5c9891594905",
    "ExecuteTime": {
     "end_time": "2024-01-26T10:03:54.741043Z",
     "start_time": "2024-01-26T10:03:54.718136Z"
    }
   },
   "execution_count": 4
  },
  {
   "cell_type": "code",
   "outputs": [],
   "source": [],
   "metadata": {
    "collapsed": false
   }
  }
 ],
 "metadata": {
  "colab": {
   "provenance": []
  },
  "kernelspec": {
   "display_name": "Python 3 (ipykernel)",
   "language": "python",
   "name": "python3"
  },
  "language_info": {
   "codemirror_mode": {
    "name": "ipython",
    "version": 3
   },
   "file_extension": ".py",
   "mimetype": "text/x-python",
   "name": "python",
   "nbconvert_exporter": "python",
   "pygments_lexer": "ipython3",
   "version": "3.12.1"
  }
 },
 "nbformat": 4,
 "nbformat_minor": 4
}
