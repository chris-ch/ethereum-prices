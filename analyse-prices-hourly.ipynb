{
 "cells": [
  {
   "cell_type": "code",
   "execution_count": 1,
   "metadata": {
    "ExecuteTime": {
     "end_time": "2024-01-26T18:27:29.737820Z",
     "start_time": "2024-01-26T18:27:16.798494Z"
    },
    "colab": {
     "base_uri": "https://localhost:8080/"
    },
    "id": "4kMo6W1p5SMO",
    "outputId": "e249ee53-b2a5-4724-efdc-392594676e02"
   },
   "outputs": [
    {
     "name": "stdout",
     "output_type": "stream",
     "text": [
      "\u001b[34mUpdating dependencies\u001b[39m\n",
      "\u001b[2K\u001b[34mResolving dependencies...\u001b[39m \u001b[39;2m(21.8s)\u001b[39;22m[34mResolving dependencies...\u001b[39m \u001b[39;2m(0.4s)\u001b[39;22m\u001b[34mResolving dependencies...\u001b[39m \u001b[39;2m(4.0s)\u001b[39;22m\u001b[34mResolving dependencies...\u001b[39m \u001b[39;2m(4.1s)\u001b[39;22m\u001b[34mResolving dependencies...\u001b[39m \u001b[39;2m(5.1s)\u001b[39;22m\u001b[34mResolving dependencies...\u001b[39m \u001b[39;2m(5.3s)\u001b[39;22m\u001b[34mResolving dependencies...\u001b[39m \u001b[39;2m(11.4s)\u001b[39;22m\u001b[34mResolving dependencies...\u001b[39m \u001b[39;2m(17.2s)\u001b[39;22m\u001b[34mResolving dependencies...\u001b[39m \u001b[39;2m(20.1s)\u001b[39;22m\n",
      "\n",
      "No dependencies to install or update\n"
     ]
    }
   ],
   "source": [
    "!bash --login -c \"poetry update\""
   ]
  },
  {
   "cell_type": "markdown",
   "metadata": {
    "collapsed": false,
    "id": "h-A4kPps5SMQ"
   },
   "source": [
    "# Option valuation model based on historical prices"
   ]
  },
  {
   "cell_type": "markdown",
   "metadata": {},
   "source": [
    "This code assumes `aws configure` has been run in the environment of the notebook."
   ]
  },
  {
   "cell_type": "code",
   "execution_count": 1,
   "metadata": {
    "ExecuteTime": {
     "end_time": "2024-01-28T09:44:12.952782Z",
     "start_time": "2024-01-28T09:44:10.909325Z"
    },
    "colab": {
     "base_uri": "https://localhost:8080/",
     "height": 443
    },
    "id": "nxChr0ny5SMS",
    "outputId": "2a84f330-be20-4baf-edb1-95e8b7d4f4ab"
   },
   "outputs": [],
   "source": [
    "import optionspricing\n",
    "import boto3\n",
    "import helpers\n",
    "import pandas\n",
    "from dotenv import load_dotenv\n",
    "\n",
    "load_dotenv()\n",
    "\n",
    "BINANCE_SYMBOL = 'ETHUSDT'\n",
    "\n",
    "s3 = boto3.resource('s3')\n",
    "\n",
    "data_file = helpers.fetch_object(s3, \"test-binance-prices-255120844515\", f\"{BINANCE_SYMBOL}-full.csv.zip\")\n",
    "prices_df = pandas.read_csv(data_file, compression='zip', header=0, index_col=\"dateTime\")\n",
    "prices_df.index = pandas.to_datetime(prices_df.index)"
   ]
  },
  {
   "cell_type": "markdown",
   "metadata": {
    "id": "-cJhFZGk5SMS"
   },
   "source": [
    "## Option valuation model: input parameters here"
   ]
  },
  {
   "cell_type": "code",
   "execution_count": 3,
   "metadata": {
    "ExecuteTime": {
     "end_time": "2024-01-29T10:28:52.874110Z",
     "start_time": "2024-01-29T10:28:49.030564Z"
    },
    "collapsed": false
   },
   "outputs": [
    {
     "name": "stdout",
     "output_type": "stream",
     "text": [
      "target expiry: Sat 10 Feb, 08:00 (71 hours left)\n",
      "current price: 2361.71\n",
      "-------------------------------\n",
      "trading put 2325 and call 2375 (hit ratio: 53%)\n",
      "cost: 0.017 / value: 0.035, benefit/cost = 2.0x\n",
      "($) cost: 40.15 / value: 81.82, average gain = 41.67\n",
      "-------------------------------\n",
      "trading put 2300 and call 2400 (hit ratio: 47%)\n",
      "cost: 0.011 / value: 0.027, benefit/cost = 2.4x\n",
      "($) cost: 27.16 / value: 64.36, average gain = 37.20\n",
      "-------------------------------\n",
      "trading put 2275 and call 2425 (hit ratio: 41%)\n",
      "cost: 0.007 / value: 0.021, benefit/cost = 3.0x\n",
      "($) cost: 17.00 / value: 50.74, average gain = 33.74\n",
      "-------------------------------\n",
      "trading put 2250 and call 2450 (hit ratio: 34%)\n",
      "cost: 0.005 / value: 0.017, benefit/cost = 3.7x\n",
      "($) cost: 10.86 / value: 40.00, average gain = 29.13\n"
     ]
    },
    {
     "data": {
      "text/plain": [
       "[{'put': 2300.0, 'call': 2400.0, 'quantity': 1},\n",
       " {'put': 2275.0, 'call': 2425.0, 'quantity': 1}]"
      ]
     },
     "execution_count": 3,
     "metadata": {},
     "output_type": "execute_result"
    }
   ],
   "source": [
    "target_period_hours = 3 * 24\n",
    "strikes_universe_size = 4\n",
    "CUT_OFF_YEAR_MONTH = (2022, 1)\n",
    "\n",
    "instrument_code = BINANCE_SYMBOL[:3]\n",
    "\n",
    "headers = {\"Content-Type\": \"application/json\"}\n",
    "base_url = \"https://www.deribit.com/api/v2/public\"\n",
    "\n",
    "trading_model = optionspricing.TradingModel(base_url, headers, instrument_code, target_period_hours)\n",
    "trading_model.cutoff_year_month(CUT_OFF_YEAR_MONTH)\n",
    "target_expiry = trading_model.target_expiry\n",
    "underlying_price = trading_model.underlying_price\n",
    "remaining_hours = trading_model.remaining_hours\n",
    "\n",
    "simulation = trading_model.evaluate(prices_df, strikes_universe_size)\n",
    "print(simulation)\n",
    "simulation.allocate([1, 2], 1500. * 2./100.)"
   ]
  },
  {
   "cell_type": "code",
   "execution_count": 10,
   "metadata": {
    "ExecuteTime": {
     "end_time": "2024-01-29T10:28:53.839639Z",
     "start_time": "2024-01-29T10:28:53.814899Z"
    },
    "id": "Nwr0Hlj75SMV",
    "outputId": "430484f0-9bd3-4b6e-e0da-5c9891594905"
   },
   "outputs": [
    {
     "data": {
      "text/html": [
       "<div>\n",
       "<style scoped>\n",
       "    .dataframe tbody tr th:only-of-type {\n",
       "        vertical-align: middle;\n",
       "    }\n",
       "\n",
       "    .dataframe tbody tr th {\n",
       "        vertical-align: top;\n",
       "    }\n",
       "\n",
       "    .dataframe thead th {\n",
       "        text-align: right;\n",
       "    }\n",
       "</style>\n",
       "<table border=\"1\" class=\"dataframe\">\n",
       "  <thead>\n",
       "    <tr style=\"text-align: right;\">\n",
       "      <th></th>\n",
       "      <th>value_call</th>\n",
       "      <th>value_call_pct</th>\n",
       "      <th>call_ask</th>\n",
       "      <th>value_put</th>\n",
       "      <th>value_put_pct</th>\n",
       "      <th>put_ask</th>\n",
       "    </tr>\n",
       "    <tr>\n",
       "      <th>strike</th>\n",
       "      <th></th>\n",
       "      <th></th>\n",
       "      <th></th>\n",
       "      <th></th>\n",
       "      <th></th>\n",
       "      <th></th>\n",
       "    </tr>\n",
       "  </thead>\n",
       "  <tbody>\n",
       "    <tr>\n",
       "      <th>2200.0</th>\n",
       "      <td>119.496607</td>\n",
       "      <td>NaN</td>\n",
       "      <td>NaN</td>\n",
       "      <td>11.417727</td>\n",
       "      <td>0.004947</td>\n",
       "      <td>0.0017</td>\n",
       "    </tr>\n",
       "    <tr>\n",
       "      <th>2225.0</th>\n",
       "      <td>98.182189</td>\n",
       "      <td>NaN</td>\n",
       "      <td>NaN</td>\n",
       "      <td>15.103309</td>\n",
       "      <td>0.006544</td>\n",
       "      <td>0.0026</td>\n",
       "    </tr>\n",
       "    <tr>\n",
       "      <th>2250.0</th>\n",
       "      <td>78.169593</td>\n",
       "      <td>NaN</td>\n",
       "      <td>NaN</td>\n",
       "      <td>20.090713</td>\n",
       "      <td>0.008705</td>\n",
       "      <td>0.0041</td>\n",
       "    </tr>\n",
       "    <tr>\n",
       "      <th>2275.0</th>\n",
       "      <td>60.035915</td>\n",
       "      <td>NaN</td>\n",
       "      <td>0.0235</td>\n",
       "      <td>26.957035</td>\n",
       "      <td>0.011680</td>\n",
       "      <td>0.0065</td>\n",
       "    </tr>\n",
       "    <tr>\n",
       "      <th>2300.0</th>\n",
       "      <td>44.676752</td>\n",
       "      <td>NaN</td>\n",
       "      <td>0.0140</td>\n",
       "      <td>36.597872</td>\n",
       "      <td>0.015857</td>\n",
       "      <td>0.0105</td>\n",
       "    </tr>\n",
       "    <tr>\n",
       "      <th>2325.0</th>\n",
       "      <td>33.083453</td>\n",
       "      <td>0.014334</td>\n",
       "      <td>0.0090</td>\n",
       "      <td>50.004572</td>\n",
       "      <td>NaN</td>\n",
       "      <td>0.0160</td>\n",
       "    </tr>\n",
       "    <tr>\n",
       "      <th>2350.0</th>\n",
       "      <td>24.656508</td>\n",
       "      <td>0.010683</td>\n",
       "      <td>0.0055</td>\n",
       "      <td>66.577628</td>\n",
       "      <td>NaN</td>\n",
       "      <td>NaN</td>\n",
       "    </tr>\n",
       "    <tr>\n",
       "      <th>2375.0</th>\n",
       "      <td>18.426109</td>\n",
       "      <td>0.007984</td>\n",
       "      <td>0.0029</td>\n",
       "      <td>85.347229</td>\n",
       "      <td>NaN</td>\n",
       "      <td>NaN</td>\n",
       "    </tr>\n",
       "    <tr>\n",
       "      <th>2400.0</th>\n",
       "      <td>13.820155</td>\n",
       "      <td>0.005988</td>\n",
       "      <td>0.0017</td>\n",
       "      <td>105.741275</td>\n",
       "      <td>NaN</td>\n",
       "      <td>NaN</td>\n",
       "    </tr>\n",
       "  </tbody>\n",
       "</table>\n",
       "</div>"
      ],
      "text/plain": [
       "        value_call  value_call_pct  call_ask   value_put  value_put_pct  \\\n",
       "strike                                                                    \n",
       "2200.0  119.496607             NaN       NaN   11.417727       0.004947   \n",
       "2225.0   98.182189             NaN       NaN   15.103309       0.006544   \n",
       "2250.0   78.169593             NaN       NaN   20.090713       0.008705   \n",
       "2275.0   60.035915             NaN    0.0235   26.957035       0.011680   \n",
       "2300.0   44.676752             NaN    0.0140   36.597872       0.015857   \n",
       "2325.0   33.083453        0.014334    0.0090   50.004572            NaN   \n",
       "2350.0   24.656508        0.010683    0.0055   66.577628            NaN   \n",
       "2375.0   18.426109        0.007984    0.0029   85.347229            NaN   \n",
       "2400.0   13.820155        0.005988    0.0017  105.741275            NaN   \n",
       "\n",
       "        put_ask  \n",
       "strike           \n",
       "2200.0   0.0017  \n",
       "2225.0   0.0026  \n",
       "2250.0   0.0041  \n",
       "2275.0   0.0065  \n",
       "2300.0   0.0105  \n",
       "2325.0   0.0160  \n",
       "2350.0      NaN  \n",
       "2375.0      NaN  \n",
       "2400.0      NaN  "
      ]
     },
     "execution_count": 10,
     "metadata": {},
     "output_type": "execute_result"
    }
   ],
   "source": [
    "simulation.options_chain"
   ]
  }
 ],
 "metadata": {
  "colab": {
   "provenance": []
  },
  "kernelspec": {
   "display_name": "Python 3 (ipykernel)",
   "language": "python",
   "name": "python3"
  },
  "language_info": {
   "codemirror_mode": {
    "name": "ipython",
    "version": 3
   },
   "file_extension": ".py",
   "mimetype": "text/x-python",
   "name": "python",
   "nbconvert_exporter": "python",
   "pygments_lexer": "ipython3",
   "version": "3.12.1"
  }
 },
 "nbformat": 4,
 "nbformat_minor": 4
}
