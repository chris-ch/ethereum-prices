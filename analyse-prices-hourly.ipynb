{
 "cells": [
  {
   "cell_type": "code",
   "execution_count": 8,
   "metadata": {
    "ExecuteTime": {
     "end_time": "2024-01-26T18:27:29.737820Z",
     "start_time": "2024-01-26T18:27:16.798494Z"
    },
    "colab": {
     "base_uri": "https://localhost:8080/"
    },
    "id": "4kMo6W1p5SMO",
    "outputId": "e249ee53-b2a5-4724-efdc-392594676e02"
   },
   "outputs": [
    {
     "name": "stdout",
     "output_type": "stream",
     "text": [
      "\u001b[34mUpdating dependencies\u001b[39m\n",
      "\u001b[2K\u001b[34mResolving dependencies...\u001b[39m \u001b[39;2m(9.0s)\u001b[39;22m\n",
      "\n",
      "No dependencies to install or update\n"
     ]
    }
   ],
   "source": [
    "!bash --login -c \"poetry update\""
   ]
  },
  {
   "cell_type": "markdown",
   "metadata": {
    "collapsed": false,
    "id": "h-A4kPps5SMQ"
   },
   "source": [
    "# Option valuation model based on historical prices"
   ]
  },
  {
   "cell_type": "markdown",
   "metadata": {},
   "source": [
    "This code assumes `aws configure` has been run in the environment of the notebook."
   ]
  },
  {
   "cell_type": "code",
   "execution_count": 1,
   "metadata": {
    "ExecuteTime": {
     "end_time": "2024-01-28T09:44:12.952782Z",
     "start_time": "2024-01-28T09:44:10.909325Z"
    },
    "colab": {
     "base_uri": "https://localhost:8080/",
     "height": 443
    },
    "id": "nxChr0ny5SMS",
    "outputId": "2a84f330-be20-4baf-edb1-95e8b7d4f4ab"
   },
   "outputs": [],
   "source": [
    "import optionspricing\n",
    "import boto3\n",
    "import helpers\n",
    "import pandas\n",
    "from dotenv import load_dotenv\n",
    "\n",
    "load_dotenv()\n",
    "\n",
    "BINANCE_SYMBOL = 'ETHUSDT'\n",
    "\n",
    "s3 = boto3.resource('s3')\n",
    "\n",
    "data_file = helpers.fetch_object(s3, \"test-binance-prices-255120844515\", f\"{BINANCE_SYMBOL}-full.csv.zip\")\n",
    "prices_df = pandas.read_csv(data_file, compression='zip', header=0, index_col=\"dateTime\")\n",
    "prices_df.index = pandas.to_datetime(prices_df.index)"
   ]
  },
  {
   "cell_type": "markdown",
   "metadata": {
    "id": "-cJhFZGk5SMS"
   },
   "source": [
    "## Option valuation model: input parameters here"
   ]
  },
  {
   "cell_type": "code",
   "execution_count": 2,
   "metadata": {
    "ExecuteTime": {
     "end_time": "2024-01-29T10:28:52.874110Z",
     "start_time": "2024-01-29T10:28:49.030564Z"
    },
    "collapsed": false
   },
   "outputs": [
    {
     "name": "stderr",
     "output_type": "stream",
     "text": [
      "WARNING:root:calling option chain: https://www.deribit.com/api/v2/public/get_instruments?currency=ETH&kind=option&expired=false\n"
     ]
    },
    {
     "name": "stdout",
     "output_type": "stream",
     "text": [
      "target expiry: Mon 11 Mar, 08:00 (63 hours left)\n",
      "current price: 3911.76\n",
      "-------------------------------\n",
      "hit ratio: 41%\n",
      "cost: 0.038 / value: 0.044, benefit/cost = 1.2x\n",
      "($) cost: 146.69 / value: 170.54, average gain = 23.85\n",
      "buy put 3875.0\n",
      "buy call 3925.0\n",
      "-------------------------------\n",
      "hit ratio: 41%\n",
      "cost: 0.032 / value: 0.038, benefit/cost = 1.2x\n",
      "($) cost: 125.18 / value: 149.97, average gain = 24.80\n",
      "buy put 3850.0\n",
      "buy call 3950.0\n",
      "-------------------------------\n",
      "hit ratio: 39%\n",
      "cost: 0.028 / value: 0.034, benefit/cost = 1.2x\n",
      "($) cost: 107.57 / value: 131.91, average gain = 24.34\n",
      "buy put 3825.0\n",
      "buy call 3975.0\n",
      "-------------------------------\n",
      "hit ratio: 38%\n",
      "cost: 0.023 / value: 0.030, benefit/cost = 1.3x\n",
      "($) cost: 89.97 / value: 116.06, average gain = 26.09\n",
      "buy put 3800.0\n",
      "buy call 4000.0\n"
     ]
    }
   ],
   "source": [
    "target_period_hours = 3 * 24\n",
    "strikes_universe_size = 4\n",
    "CUT_OFF_YEAR_MONTH = (2021, 1)\n",
    "\n",
    "instrument_code = BINANCE_SYMBOL[:3]\n",
    "\n",
    "headers = {\"Content-Type\": \"application/json\"}\n",
    "base_url = \"https://www.deribit.com/api/v2/public\"\n",
    "\n",
    "trading_model = optionspricing.TradingModel(base_url, headers, instrument_code, target_period_hours)\n",
    "trading_model.cutoff_year_month(CUT_OFF_YEAR_MONTH)\n",
    "target_expiry = trading_model.target_expiry\n",
    "underlying_price = trading_model.underlying_price\n",
    "remaining_hours = trading_model.remaining_hours\n",
    "\n",
    "option_chain_df = trading_model.evaluate(prices_df, strikes_universe_size)\n",
    "simulation = trading_model.simulate_strategy_long_straddle(option_chain_df, strikes_universe_size)\n",
    "print(simulation)"
   ]
  },
  {
   "cell_type": "code",
   "execution_count": 61,
   "metadata": {
    "ExecuteTime": {
     "end_time": "2024-01-29T10:28:53.839639Z",
     "start_time": "2024-01-29T10:28:53.814899Z"
    },
    "id": "Nwr0Hlj75SMV",
    "outputId": "430484f0-9bd3-4b6e-e0da-5c9891594905"
   },
   "outputs": [
    {
     "data": {
      "text/html": [
       "<div>\n",
       "<style scoped>\n",
       "    .dataframe tbody tr th:only-of-type {\n",
       "        vertical-align: middle;\n",
       "    }\n",
       "\n",
       "    .dataframe tbody tr th {\n",
       "        vertical-align: top;\n",
       "    }\n",
       "\n",
       "    .dataframe thead th {\n",
       "        text-align: right;\n",
       "    }\n",
       "</style>\n",
       "<table border=\"1\" class=\"dataframe\">\n",
       "  <thead>\n",
       "    <tr style=\"text-align: right;\">\n",
       "      <th></th>\n",
       "      <th>value_call</th>\n",
       "      <th>value_call_pct</th>\n",
       "      <th>call_bid</th>\n",
       "      <th>call_ask</th>\n",
       "      <th>value_put</th>\n",
       "      <th>value_put_pct</th>\n",
       "      <th>put_bid</th>\n",
       "      <th>put_ask</th>\n",
       "    </tr>\n",
       "    <tr>\n",
       "      <th>strike</th>\n",
       "      <th></th>\n",
       "      <th></th>\n",
       "      <th></th>\n",
       "      <th></th>\n",
       "      <th></th>\n",
       "      <th></th>\n",
       "      <th></th>\n",
       "      <th></th>\n",
       "    </tr>\n",
       "  </thead>\n",
       "  <tbody>\n",
       "    <tr>\n",
       "      <th>3675.0</th>\n",
       "      <td>165.970299</td>\n",
       "      <td>NaN</td>\n",
       "      <td>0.0385</td>\n",
       "      <td>0.0445</td>\n",
       "      <td>36.721278</td>\n",
       "      <td>0.009715</td>\n",
       "      <td>0.0115</td>\n",
       "      <td>0.0120</td>\n",
       "    </tr>\n",
       "    <tr>\n",
       "      <th>3700.0</th>\n",
       "      <td>147.100489</td>\n",
       "      <td>NaN</td>\n",
       "      <td>0.0340</td>\n",
       "      <td>0.0400</td>\n",
       "      <td>42.851468</td>\n",
       "      <td>0.011337</td>\n",
       "      <td>0.0135</td>\n",
       "      <td>0.0145</td>\n",
       "    </tr>\n",
       "    <tr>\n",
       "      <th>3725.0</th>\n",
       "      <td>129.417127</td>\n",
       "      <td>NaN</td>\n",
       "      <td>0.0315</td>\n",
       "      <td>0.0340</td>\n",
       "      <td>50.168105</td>\n",
       "      <td>0.013273</td>\n",
       "      <td>0.0160</td>\n",
       "      <td>0.0170</td>\n",
       "    </tr>\n",
       "    <tr>\n",
       "      <th>3750.0</th>\n",
       "      <td>113.098046</td>\n",
       "      <td>NaN</td>\n",
       "      <td>0.0280</td>\n",
       "      <td>0.0305</td>\n",
       "      <td>58.849025</td>\n",
       "      <td>0.015569</td>\n",
       "      <td>0.0190</td>\n",
       "      <td>0.0200</td>\n",
       "    </tr>\n",
       "    <tr>\n",
       "      <th>3775.0</th>\n",
       "      <td>98.406021</td>\n",
       "      <td>NaN</td>\n",
       "      <td>0.0255</td>\n",
       "      <td>0.0265</td>\n",
       "      <td>69.157000</td>\n",
       "      <td>0.018297</td>\n",
       "      <td>0.0220</td>\n",
       "      <td>0.0235</td>\n",
       "    </tr>\n",
       "    <tr>\n",
       "      <th>3800.0</th>\n",
       "      <td>85.527160</td>\n",
       "      <td>0.022627</td>\n",
       "      <td>0.0225</td>\n",
       "      <td>0.0235</td>\n",
       "      <td>81.278139</td>\n",
       "      <td>NaN</td>\n",
       "      <td>0.0255</td>\n",
       "      <td>0.0270</td>\n",
       "    </tr>\n",
       "    <tr>\n",
       "      <th>3825.0</th>\n",
       "      <td>74.329739</td>\n",
       "      <td>0.019665</td>\n",
       "      <td>0.0195</td>\n",
       "      <td>0.0210</td>\n",
       "      <td>95.080717</td>\n",
       "      <td>NaN</td>\n",
       "      <td>0.0285</td>\n",
       "      <td>0.0315</td>\n",
       "    </tr>\n",
       "    <tr>\n",
       "      <th>3850.0</th>\n",
       "      <td>64.558905</td>\n",
       "      <td>0.017080</td>\n",
       "      <td>0.0170</td>\n",
       "      <td>0.0180</td>\n",
       "      <td>110.309884</td>\n",
       "      <td>NaN</td>\n",
       "      <td>0.0325</td>\n",
       "      <td>0.0355</td>\n",
       "    </tr>\n",
       "    <tr>\n",
       "      <th>3875.0</th>\n",
       "      <td>55.989082</td>\n",
       "      <td>0.014813</td>\n",
       "      <td>0.0150</td>\n",
       "      <td>0.0160</td>\n",
       "      <td>126.740061</td>\n",
       "      <td>NaN</td>\n",
       "      <td>0.0370</td>\n",
       "      <td>0.0405</td>\n",
       "    </tr>\n",
       "  </tbody>\n",
       "</table>\n",
       "</div>"
      ],
      "text/plain": [
       "        value_call  value_call_pct  call_bid  call_ask   value_put  \\\n",
       "strike                                                               \n",
       "3675.0  165.970299             NaN    0.0385    0.0445   36.721278   \n",
       "3700.0  147.100489             NaN    0.0340    0.0400   42.851468   \n",
       "3725.0  129.417127             NaN    0.0315    0.0340   50.168105   \n",
       "3750.0  113.098046             NaN    0.0280    0.0305   58.849025   \n",
       "3775.0   98.406021             NaN    0.0255    0.0265   69.157000   \n",
       "3800.0   85.527160        0.022627    0.0225    0.0235   81.278139   \n",
       "3825.0   74.329739        0.019665    0.0195    0.0210   95.080717   \n",
       "3850.0   64.558905        0.017080    0.0170    0.0180  110.309884   \n",
       "3875.0   55.989082        0.014813    0.0150    0.0160  126.740061   \n",
       "\n",
       "        value_put_pct  put_bid  put_ask  \n",
       "strike                                   \n",
       "3675.0       0.009715   0.0115   0.0120  \n",
       "3700.0       0.011337   0.0135   0.0145  \n",
       "3725.0       0.013273   0.0160   0.0170  \n",
       "3750.0       0.015569   0.0190   0.0200  \n",
       "3775.0       0.018297   0.0220   0.0235  \n",
       "3800.0            NaN   0.0255   0.0270  \n",
       "3825.0            NaN   0.0285   0.0315  \n",
       "3850.0            NaN   0.0325   0.0355  \n",
       "3875.0            NaN   0.0370   0.0405  "
      ]
     },
     "execution_count": 61,
     "metadata": {},
     "output_type": "execute_result"
    }
   ],
   "source": [
    "simulation.options_chain"
   ]
  },
  {
   "cell_type": "markdown",
   "metadata": {},
   "source": [
    "# Sanity checks"
   ]
  },
  {
   "cell_type": "code",
   "execution_count": 16,
   "metadata": {},
   "outputs": [
    {
     "name": "stderr",
     "output_type": "stream",
     "text": [
      "/workspaces/ethereum-prices/src/optionspricing.py:221: PerformanceWarning: DataFrame is highly fragmented.  This is usually the result of calling `frame.insert` many times, which has poor performance.  Consider joining all columns at once using pd.concat(axis=1) instead. To get a de-fragmented frame, use `newframe = frame.copy()`\n",
      "  df[f'put_value_pct_{count}'] = put_values.divide(df['prices'])\n"
     ]
    },
    {
     "name": "stdout",
     "output_type": "stream",
     "text": [
      "-0.011501863455724307 -0.0107 1.0749405098807763\n"
     ]
    }
   ],
   "source": [
    "size = 12\n",
    "option_chain_df = trading_model.evaluate(prices_df, strikes_universe_size=size)\n",
    "put_weights = [0.] * (2 * size + 1)\n",
    "call_weights = [0.] * (2 * size + 1)\n",
    "put_weights[6] = 1.\n",
    "put_weights[10] = -1.\n",
    "call_weights[14] = -1.\n",
    "call_weights[18] = 1.\n",
    "strategy_value_pct, cost = trading_model.backtest(option_chain_df, put_weights, call_weights)\n",
    "value = strategy_value_pct.mean()\n",
    "print(value, cost, value/cost)"
   ]
  }
 ],
 "metadata": {
  "colab": {
   "provenance": []
  },
  "kernelspec": {
   "display_name": "Python 3 (ipykernel)",
   "language": "python",
   "name": "python3"
  },
  "language_info": {
   "codemirror_mode": {
    "name": "ipython",
    "version": 3
   },
   "file_extension": ".py",
   "mimetype": "text/x-python",
   "name": "python",
   "nbconvert_exporter": "python",
   "pygments_lexer": "ipython3",
   "version": "3.12.1"
  }
 },
 "nbformat": 4,
 "nbformat_minor": 4
}
