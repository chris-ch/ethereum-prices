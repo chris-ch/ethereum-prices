{
 "cells": [
  {
   "cell_type": "code",
   "execution_count": 1,
   "metadata": {
    "ExecuteTime": {
     "end_time": "2023-10-24T00:58:07.533317Z",
     "start_time": "2023-10-24T00:58:00.419011Z"
    },
    "colab": {
     "base_uri": "https://localhost:8080/"
    },
    "id": "4kMo6W1p5SMO",
    "outputId": "e249ee53-b2a5-4724-efdc-392594676e02"
   },
   "outputs": [
    {
     "name": "stdout",
     "output_type": "stream",
     "text": [
      "Requirement already satisfied: pip in ./.venv/lib/python3.11/site-packages (23.3.1)\n",
      "Requirement already satisfied: python-binance in ./.venv/lib/python3.11/site-packages (1.0.19)\n",
      "Requirement already satisfied: requests in ./.venv/lib/python3.11/site-packages (from python-binance) (2.31.0)\n",
      "Requirement already satisfied: six in ./.venv/lib/python3.11/site-packages (from python-binance) (1.16.0)\n",
      "Requirement already satisfied: dateparser in ./.venv/lib/python3.11/site-packages (from python-binance) (1.2.0)\n",
      "Requirement already satisfied: aiohttp in ./.venv/lib/python3.11/site-packages (from python-binance) (3.9.0)\n",
      "Requirement already satisfied: ujson in ./.venv/lib/python3.11/site-packages (from python-binance) (5.8.0)\n",
      "Requirement already satisfied: websockets in ./.venv/lib/python3.11/site-packages (from python-binance) (12.0)\n",
      "Requirement already satisfied: pycryptodome in ./.venv/lib/python3.11/site-packages (from python-binance) (3.19.0)\n",
      "Requirement already satisfied: attrs>=17.3.0 in ./.venv/lib/python3.11/site-packages (from aiohttp->python-binance) (23.1.0)\n",
      "Requirement already satisfied: multidict<7.0,>=4.5 in ./.venv/lib/python3.11/site-packages (from aiohttp->python-binance) (6.0.4)\n",
      "Requirement already satisfied: yarl<2.0,>=1.0 in ./.venv/lib/python3.11/site-packages (from aiohttp->python-binance) (1.9.3)\n",
      "Requirement already satisfied: frozenlist>=1.1.1 in ./.venv/lib/python3.11/site-packages (from aiohttp->python-binance) (1.4.0)\n",
      "Requirement already satisfied: aiosignal>=1.1.2 in ./.venv/lib/python3.11/site-packages (from aiohttp->python-binance) (1.3.1)\n",
      "Requirement already satisfied: python-dateutil in ./.venv/lib/python3.11/site-packages (from dateparser->python-binance) (2.8.2)\n",
      "Requirement already satisfied: pytz in ./.venv/lib/python3.11/site-packages (from dateparser->python-binance) (2023.3.post1)\n",
      "Requirement already satisfied: regex!=2019.02.19,!=2021.8.27 in ./.venv/lib/python3.11/site-packages (from dateparser->python-binance) (2023.10.3)\n",
      "Requirement already satisfied: tzlocal in ./.venv/lib/python3.11/site-packages (from dateparser->python-binance) (5.2)\n",
      "Requirement already satisfied: charset-normalizer<4,>=2 in ./.venv/lib/python3.11/site-packages (from requests->python-binance) (3.3.2)\n",
      "Requirement already satisfied: idna<4,>=2.5 in ./.venv/lib/python3.11/site-packages (from requests->python-binance) (3.4)\n",
      "Requirement already satisfied: urllib3<3,>=1.21.1 in ./.venv/lib/python3.11/site-packages (from requests->python-binance) (2.1.0)\n",
      "Requirement already satisfied: certifi>=2017.4.17 in ./.venv/lib/python3.11/site-packages (from requests->python-binance) (2023.11.17)\n",
      "Requirement already satisfied: data_cache in ./.venv/lib/python3.11/site-packages (0.1.6)\n",
      "Requirement already satisfied: h5py in ./.venv/lib/python3.11/site-packages (from data_cache) (3.10.0)\n",
      "Requirement already satisfied: numpy in ./.venv/lib/python3.11/site-packages (from data_cache) (1.26.2)\n",
      "Requirement already satisfied: pandas in ./.venv/lib/python3.11/site-packages (from data_cache) (2.1.3)\n",
      "Requirement already satisfied: tables in ./.venv/lib/python3.11/site-packages (from data_cache) (3.9.1)\n",
      "Requirement already satisfied: python-dateutil>=2.8.2 in ./.venv/lib/python3.11/site-packages (from pandas->data_cache) (2.8.2)\n",
      "Requirement already satisfied: pytz>=2020.1 in ./.venv/lib/python3.11/site-packages (from pandas->data_cache) (2023.3.post1)\n",
      "Requirement already satisfied: tzdata>=2022.1 in ./.venv/lib/python3.11/site-packages (from pandas->data_cache) (2023.3)\n",
      "Requirement already satisfied: numexpr>=2.6.2 in ./.venv/lib/python3.11/site-packages (from tables->data_cache) (2.8.7)\n",
      "Requirement already satisfied: packaging in ./.venv/lib/python3.11/site-packages (from tables->data_cache) (23.2)\n",
      "Requirement already satisfied: py-cpuinfo in ./.venv/lib/python3.11/site-packages (from tables->data_cache) (9.0.0)\n",
      "Requirement already satisfied: blosc2>=2.2.8 in ./.venv/lib/python3.11/site-packages (from tables->data_cache) (2.3.1)\n",
      "Requirement already satisfied: ndindex>=1.4 in ./.venv/lib/python3.11/site-packages (from blosc2>=2.2.8->tables->data_cache) (1.7)\n",
      "Requirement already satisfied: msgpack in ./.venv/lib/python3.11/site-packages (from blosc2>=2.2.8->tables->data_cache) (1.0.7)\n",
      "Requirement already satisfied: six>=1.5 in ./.venv/lib/python3.11/site-packages (from python-dateutil>=2.8.2->pandas->data_cache) (1.16.0)\n"
     ]
    }
   ],
   "source": [
    "!pip install --upgrade pip\n",
    "!pip install python-binance"
   ]
  },
  {
   "cell_type": "markdown",
   "metadata": {
    "collapsed": false,
    "id": "h-A4kPps5SMQ"
   },
   "source": [
    "# Option valuation model based on historical prices"
   ]
  },
  {
   "cell_type": "code",
   "execution_count": 1,
   "metadata": {
    "colab": {
     "base_uri": "https://localhost:8080/",
     "height": 443
    },
    "id": "nxChr0ny5SMS",
    "outputId": "2a84f330-be20-4baf-edb1-95e8b7d4f4ab",
    "ExecuteTime": {
     "end_time": "2024-01-26T10:44:40.778333Z",
     "start_time": "2024-01-26T10:44:38.689656Z"
    }
   },
   "outputs": [
    {
     "name": "stdout",
     "output_type": "stream",
     "text": [
      "\n",
      "loading 2014 ............\n",
      "loading 2015 ............\n",
      "loading 2016 ............\n",
      "loading 2017 ............\n",
      "loading 2018 ............\n",
      "loading 2019 ............\n",
      "loading 2020 ............\n",
      "loading 2021 ............\n",
      "loading 2022 ............\n",
      "loading 2023 ............\n",
      "loading 2024 \n",
      "interrupting at 2024/01\n"
     ]
    }
   ],
   "source": [
    "import importlib.util\n",
    "import os\n",
    "google_colab_spec = importlib.util.find_spec(\"google\") and importlib.util.find_spec(\"google.colab\")\n",
    "if google_colab_spec:\n",
    "    from google.colab import drive\n",
    "    drive.mount('/content/drive', force_remount=True)\n",
    "    path = '/content/drive/MyDrive/Colab Notebooks/Ethereum Prices'\n",
    "else:\n",
    "    path = f'{os.environ[\"HOME\"]}/Library/CloudStorage/GoogleDrive-chris.perso@gmail.com/My Drive/Colab Notebooks/Ethereum Prices'\n",
    "\n",
    "from datetime import timezone\n",
    "\n",
    "import optionspricing\n",
    "import binanceprices\n",
    "\n",
    "COUNT_YEARS = 10\n",
    "BINANCE_DATETIME_FORMAT = \"%Y-%m-%d %H-%M-%S\"\n",
    "BINANCE_SYMBOL = 'ETHUSDT'\n",
    "\n",
    "prices_df = binanceprices.load_prices(path, BINANCE_SYMBOL, COUNT_YEARS)\n"
   ]
  },
  {
   "cell_type": "markdown",
   "metadata": {
    "id": "-cJhFZGk5SMS"
   },
   "source": [
    "## Option valuation model: input parameters here"
   ]
  },
  {
   "cell_type": "code",
   "outputs": [
    {
     "data": {
      "text/plain": "        value_call  value_call_pct  call_ask   value_put  value_put_pct  \\\nstrike                                                                    \n2125.0  122.231721             NaN    0.0590    9.972284       0.004464   \n2150.0  100.743081             NaN    0.0475   13.483644       0.006036   \n2175.0   80.582299             NaN    0.0440   18.322863       0.008202   \n2200.0   62.263859             NaN    0.0210   25.004423       0.011193   \n2225.0   46.561978             NaN    0.0135   34.302542       0.015355   \n2250.0   34.530852        0.015457    0.0075   47.271415            NaN   \n2275.0   25.661484        0.011487    0.0040   63.402048            NaN   \n2300.0   18.968047        0.008491    0.0022   81.708610            NaN   \n2325.0   13.953752        0.006246    0.0015  101.694316            NaN   \n\n        put_ask  \nstrike           \n2125.0   0.0013  \n2150.0   0.0020  \n2175.0   0.0033  \n2200.0   0.0055  \n2225.0   0.0090  \n2250.0   0.0150  \n2275.0      NaN  \n2300.0      NaN  \n2325.0   0.0545  ",
      "text/html": "<div>\n<style scoped>\n    .dataframe tbody tr th:only-of-type {\n        vertical-align: middle;\n    }\n\n    .dataframe tbody tr th {\n        vertical-align: top;\n    }\n\n    .dataframe thead th {\n        text-align: right;\n    }\n</style>\n<table border=\"1\" class=\"dataframe\">\n  <thead>\n    <tr style=\"text-align: right;\">\n      <th></th>\n      <th>value_call</th>\n      <th>value_call_pct</th>\n      <th>call_ask</th>\n      <th>value_put</th>\n      <th>value_put_pct</th>\n      <th>put_ask</th>\n    </tr>\n    <tr>\n      <th>strike</th>\n      <th></th>\n      <th></th>\n      <th></th>\n      <th></th>\n      <th></th>\n      <th></th>\n    </tr>\n  </thead>\n  <tbody>\n    <tr>\n      <th>2125.0</th>\n      <td>122.231721</td>\n      <td>NaN</td>\n      <td>0.0590</td>\n      <td>9.972284</td>\n      <td>0.004464</td>\n      <td>0.0013</td>\n    </tr>\n    <tr>\n      <th>2150.0</th>\n      <td>100.743081</td>\n      <td>NaN</td>\n      <td>0.0475</td>\n      <td>13.483644</td>\n      <td>0.006036</td>\n      <td>0.0020</td>\n    </tr>\n    <tr>\n      <th>2175.0</th>\n      <td>80.582299</td>\n      <td>NaN</td>\n      <td>0.0440</td>\n      <td>18.322863</td>\n      <td>0.008202</td>\n      <td>0.0033</td>\n    </tr>\n    <tr>\n      <th>2200.0</th>\n      <td>62.263859</td>\n      <td>NaN</td>\n      <td>0.0210</td>\n      <td>25.004423</td>\n      <td>0.011193</td>\n      <td>0.0055</td>\n    </tr>\n    <tr>\n      <th>2225.0</th>\n      <td>46.561978</td>\n      <td>NaN</td>\n      <td>0.0135</td>\n      <td>34.302542</td>\n      <td>0.015355</td>\n      <td>0.0090</td>\n    </tr>\n    <tr>\n      <th>2250.0</th>\n      <td>34.530852</td>\n      <td>0.015457</td>\n      <td>0.0075</td>\n      <td>47.271415</td>\n      <td>NaN</td>\n      <td>0.0150</td>\n    </tr>\n    <tr>\n      <th>2275.0</th>\n      <td>25.661484</td>\n      <td>0.011487</td>\n      <td>0.0040</td>\n      <td>63.402048</td>\n      <td>NaN</td>\n      <td>NaN</td>\n    </tr>\n    <tr>\n      <th>2300.0</th>\n      <td>18.968047</td>\n      <td>0.008491</td>\n      <td>0.0022</td>\n      <td>81.708610</td>\n      <td>NaN</td>\n      <td>NaN</td>\n    </tr>\n    <tr>\n      <th>2325.0</th>\n      <td>13.953752</td>\n      <td>0.006246</td>\n      <td>0.0015</td>\n      <td>101.694316</td>\n      <td>NaN</td>\n      <td>0.0545</td>\n    </tr>\n  </tbody>\n</table>\n</div>"
     },
     "execution_count": 4,
     "metadata": {},
     "output_type": "execute_result"
    }
   ],
   "source": [
    "target_period_hours = 1 * 24 + 10\n",
    "strikes_universe_size = 4\n",
    "CUT_OFF_YEAR_MONTH = (2021, 7)\n",
    "\n",
    "instrument_code = BINANCE_SYMBOL[:3]\n",
    "\n",
    "headers = {\"Content-Type\": \"application/json\"}\n",
    "base_url = \"https://www.deribit.com/api/v2/public\"\n",
    "\n",
    "trading_model = optionspricing.TradingModel(base_url, headers, instrument_code, target_period_hours)\n",
    "trading_model.cutoff_year_month(CUT_OFF_YEAR_MONTH)\n",
    "target_expiry = trading_model.target_expiry\n",
    "underlying_price = trading_model.underlying_price\n",
    "remaining_hours = trading_model.remaining_hours\n",
    "\n",
    "option_chain_df = trading_model.evaluate(prices_df, strikes_universe_size)\n",
    "option_chain_df"
   ],
   "metadata": {
    "collapsed": false,
    "ExecuteTime": {
     "end_time": "2024-01-26T10:45:08.986483Z",
     "start_time": "2024-01-26T10:45:06.931002Z"
    }
   },
   "execution_count": 4
  },
  {
   "cell_type": "code",
   "outputs": [
    {
     "name": "stdout",
     "output_type": "stream",
     "text": [
      "target expiry: 2024-01-28 08:00:00+00:00 (45 hours left)\n",
      "current price: 2233.94\n",
      "trading put 2175 and call 2275\n",
      "cost: 0.007 / value: 0.020, benefit/cost = 2.7x\n",
      "($) cost: 16.31 / value: 43.98, average gain = 27.68\n"
     ]
    }
   ],
   "source": [
    "#\n",
    "index_put = strikes_universe_size - 2\n",
    "index_call = strikes_universe_size + 2\n",
    "#\n",
    "cost, value = (option_chain_df.iloc[index_put]['put_ask'] + option_chain_df.iloc[index_call]['call_ask'], \n",
    " option_chain_df.iloc[index_put]['value_put_pct'] + option_chain_df.iloc[index_call]['value_call_pct']\n",
    ")\n",
    "print(f'target expiry: {target_expiry.astimezone(timezone.utc)} ({remaining_hours} hours left)')\n",
    "print(f'current price: {underlying_price}')\n",
    "print(f'trading put {option_chain_df.iloc[index_put].name:.0f} and call {option_chain_df.iloc[index_call].name:.0f}')\n",
    "print(f'cost: {cost:.3f} / value: {value:.3f}, benefit/cost = {value / cost:.1f}x')\n",
    "print(f'($) cost: {cost * underlying_price:.2f} / value: {value * underlying_price:.2f}, average gain = {(value - cost) * underlying_price:.2f}')\n"
   ],
   "metadata": {
    "id": "Nwr0Hlj75SMV",
    "outputId": "430484f0-9bd3-4b6e-e0da-5c9891594905",
    "ExecuteTime": {
     "end_time": "2024-01-26T10:45:09.934948Z",
     "start_time": "2024-01-26T10:45:09.922267Z"
    }
   },
   "execution_count": 5
  },
  {
   "cell_type": "code",
   "outputs": [],
   "source": [
    "strategy_value_pct = trading_model.valuation[f\"put_value_pct_{index_put}\"] + trading_model.valuation[f\"call_value_pct_{index_call}\"]"
   ],
   "metadata": {
    "collapsed": false,
    "ExecuteTime": {
     "end_time": "2024-01-26T10:46:59.758199Z",
     "start_time": "2024-01-26T10:46:59.736019Z"
    }
   },
   "execution_count": 9
  },
  {
   "cell_type": "code",
   "outputs": [
    {
     "data": {
      "text/plain": "dateTime\n2021-07-01 00:00:00    0.036346\n2021-07-01 01:00:00    0.001498\n2021-07-01 02:00:00    0.009515\n2021-07-01 03:00:00    0.000000\n2021-07-01 04:00:00    0.000000\n                         ...   \n2023-12-29 22:00:00    0.000000\n2023-12-29 23:00:00    0.000000\n2023-12-30 00:00:00    0.000000\n2023-12-30 01:00:00    0.000000\n2023-12-30 02:00:00    0.000000\nLength: 21884, dtype: float64"
     },
     "execution_count": 10,
     "metadata": {},
     "output_type": "execute_result"
    }
   ],
   "source": [
    "strategy_value_pct"
   ],
   "metadata": {
    "collapsed": false,
    "ExecuteTime": {
     "end_time": "2024-01-26T10:47:00.314128Z",
     "start_time": "2024-01-26T10:47:00.310005Z"
    }
   },
   "execution_count": 10
  },
  {
   "cell_type": "code",
   "outputs": [],
   "source": [],
   "metadata": {
    "collapsed": false
   }
  }
 ],
 "metadata": {
  "colab": {
   "provenance": []
  },
  "kernelspec": {
   "display_name": "Python 3 (ipykernel)",
   "language": "python",
   "name": "python3"
  },
  "language_info": {
   "codemirror_mode": {
    "name": "ipython",
    "version": 3
   },
   "file_extension": ".py",
   "mimetype": "text/x-python",
   "name": "python",
   "nbconvert_exporter": "python",
   "pygments_lexer": "ipython3",
   "version": "3.12.1"
  }
 },
 "nbformat": 4,
 "nbformat_minor": 4
}
