{
 "cells": [
  {
   "cell_type": "code",
   "execution_count": 8,
   "metadata": {
    "ExecuteTime": {
     "end_time": "2024-01-26T18:27:29.737820Z",
     "start_time": "2024-01-26T18:27:16.798494Z"
    },
    "colab": {
     "base_uri": "https://localhost:8080/"
    },
    "id": "4kMo6W1p5SMO",
    "outputId": "e249ee53-b2a5-4724-efdc-392594676e02"
   },
   "outputs": [
    {
     "name": "stdout",
     "output_type": "stream",
     "text": [
      "\u001b[34mUpdating dependencies\u001b[39m\n",
      "\u001b[2K\u001b[34mResolving dependencies...\u001b[39m \u001b[39;2m(9.0s)\u001b[39;22m\n",
      "\n",
      "No dependencies to install or update\n"
     ]
    }
   ],
   "source": [
    "!bash --login -c \"poetry update\""
   ]
  },
  {
   "cell_type": "markdown",
   "metadata": {
    "collapsed": false,
    "id": "h-A4kPps5SMQ"
   },
   "source": [
    "# Option valuation model based on historical prices"
   ]
  },
  {
   "cell_type": "markdown",
   "metadata": {},
   "source": [
    "This code assumes `aws configure` has been run in the environment of the notebook."
   ]
  },
  {
   "cell_type": "code",
   "execution_count": 6,
   "metadata": {
    "ExecuteTime": {
     "end_time": "2024-01-28T09:44:12.952782Z",
     "start_time": "2024-01-28T09:44:10.909325Z"
    },
    "colab": {
     "base_uri": "https://localhost:8080/",
     "height": 443
    },
    "id": "nxChr0ny5SMS",
    "outputId": "2a84f330-be20-4baf-edb1-95e8b7d4f4ab"
   },
   "outputs": [],
   "source": [
    "import optionspricing\n",
    "import boto3\n",
    "import helpers\n",
    "import pandas\n",
    "from dotenv import load_dotenv\n",
    "\n",
    "load_dotenv()\n",
    "\n",
    "BINANCE_SYMBOL = 'ETHUSDT'\n",
    "quote_in_usd = False\n",
    "\n",
    "s3 = boto3.resource('s3')\n",
    "\n",
    "data_file = helpers.fetch_object(s3, \"test-binance-prices-255120844515\", f\"{BINANCE_SYMBOL}-full.csv.zip\")\n",
    "prices_df = pandas.read_csv(data_file, compression='zip', header=0, index_col=\"dateTime\")\n",
    "prices_df.index = pandas.to_datetime(prices_df.index)"
   ]
  },
  {
   "cell_type": "markdown",
   "metadata": {
    "id": "-cJhFZGk5SMS"
   },
   "source": [
    "## Option valuation model: input parameters here"
   ]
  },
  {
   "cell_type": "code",
   "execution_count": 7,
   "metadata": {
    "ExecuteTime": {
     "end_time": "2024-01-29T10:28:52.874110Z",
     "start_time": "2024-01-29T10:28:49.030564Z"
    },
    "collapsed": false
   },
   "outputs": [
    {
     "name": "stderr",
     "output_type": "stream",
     "text": [
      "WARNING:root:calling option chain: https://www.deribit.com/api/v2/public/get_instruments?currency=ETH&kind=option&expired=false\n"
     ]
    },
    {
     "name": "stdout",
     "output_type": "stream",
     "text": [
      "target expiry: Mon 18 Mar, 08:00 (18 hours left)\n",
      "current price: 3565.29\n",
      "-------------------------------\n",
      "hit ratio: 34%\n",
      "cost: 0.020 / value: 0.020, gain% = -0.05%\n",
      "($) cost: 73.09 / value: 71.29, average gain = -1.80\n",
      "buy put 3550.0\n",
      "buy call 3600.0\n",
      "-------------------------------\n",
      "hit ratio: 32%\n",
      "cost: 0.015 / value: 0.015, gain% = 0.04%\n",
      "($) cost: 53.48 / value: 54.88, average gain = 1.40\n",
      "buy put 3525.0\n",
      "buy call 3625.0\n",
      "-------------------------------\n",
      "hit ratio: 29%\n",
      "cost: 0.011 / value: 0.012, gain% = 0.11%\n",
      "($) cost: 38.51 / value: 42.41, average gain = 3.91\n",
      "buy put 3500.0\n",
      "buy call 3650.0\n",
      "-------------------------------\n",
      "hit ratio: 25%\n",
      "cost: 0.008 / value: 0.009, gain% = 0.10%\n",
      "($) cost: 29.24 / value: 32.87, average gain = 3.63\n",
      "buy put 3475.0\n",
      "buy call 3675.0\n"
     ]
    }
   ],
   "source": [
    "target_period_hours = 1 * 24\n",
    "strikes_universe_size = 4\n",
    "CUT_OFF_YEAR_MONTH = (2021, 1)\n",
    "\n",
    "instrument_code = BINANCE_SYMBOL[:3]\n",
    "\n",
    "headers = {\"Content-Type\": \"application/json\"}\n",
    "base_url = \"https://www.deribit.com/api/v2/public\"\n",
    "\n",
    "trading_model = optionspricing.TradingModel(base_url, headers, instrument_code, target_period_hours)\n",
    "trading_model.cutoff_year_month(CUT_OFF_YEAR_MONTH)\n",
    "target_expiry = trading_model.target_expiry\n",
    "underlying_price = trading_model.underlying_price\n",
    "remaining_hours = trading_model.remaining_hours\n",
    "\n",
    "option_chain_df = trading_model.evaluate(prices_df, strikes_universe_size)\n",
    "simulation = trading_model.simulate_strategy_long_straddle(option_chain_df, strikes_universe_size, quote_in_usd=quote_in_usd)\n",
    "print(simulation)"
   ]
  },
  {
   "cell_type": "code",
   "execution_count": 8,
   "metadata": {
    "ExecuteTime": {
     "end_time": "2024-01-29T10:28:53.839639Z",
     "start_time": "2024-01-29T10:28:53.814899Z"
    },
    "id": "Nwr0Hlj75SMV",
    "outputId": "430484f0-9bd3-4b6e-e0da-5c9891594905"
   },
   "outputs": [
    {
     "data": {
      "text/html": [
       "<div>\n",
       "<style scoped>\n",
       "    .dataframe tbody tr th:only-of-type {\n",
       "        vertical-align: middle;\n",
       "    }\n",
       "\n",
       "    .dataframe tbody tr th {\n",
       "        vertical-align: top;\n",
       "    }\n",
       "\n",
       "    .dataframe thead th {\n",
       "        text-align: right;\n",
       "    }\n",
       "</style>\n",
       "<table border=\"1\" class=\"dataframe\">\n",
       "  <thead>\n",
       "    <tr style=\"text-align: right;\">\n",
       "      <th></th>\n",
       "      <th>value_call</th>\n",
       "      <th>value_call_pct</th>\n",
       "      <th>call_bid</th>\n",
       "      <th>call_ask</th>\n",
       "      <th>value_put</th>\n",
       "      <th>value_put_pct</th>\n",
       "      <th>put_bid</th>\n",
       "      <th>put_ask</th>\n",
       "    </tr>\n",
       "    <tr>\n",
       "      <th>strike</th>\n",
       "      <th></th>\n",
       "      <th></th>\n",
       "      <th></th>\n",
       "      <th></th>\n",
       "      <th></th>\n",
       "      <th></th>\n",
       "      <th></th>\n",
       "      <th></th>\n",
       "    </tr>\n",
       "  </thead>\n",
       "  <tbody>\n",
       "    <tr>\n",
       "      <th>3475.0</th>\n",
       "      <td>113.335095</td>\n",
       "      <td>NaN</td>\n",
       "      <td>0.0070</td>\n",
       "      <td>NaN</td>\n",
       "      <td>16.694296</td>\n",
       "      <td>0.004682</td>\n",
       "      <td>0.0041</td>\n",
       "      <td>0.0049</td>\n",
       "    </tr>\n",
       "    <tr>\n",
       "      <th>3500.0</th>\n",
       "      <td>93.136215</td>\n",
       "      <td>NaN</td>\n",
       "      <td>0.0215</td>\n",
       "      <td>0.0285</td>\n",
       "      <td>21.495416</td>\n",
       "      <td>0.006029</td>\n",
       "      <td>0.0050</td>\n",
       "      <td>0.0060</td>\n",
       "    </tr>\n",
       "    <tr>\n",
       "      <th>3525.0</th>\n",
       "      <td>74.519162</td>\n",
       "      <td>NaN</td>\n",
       "      <td>NaN</td>\n",
       "      <td>0.0300</td>\n",
       "      <td>27.878363</td>\n",
       "      <td>0.007819</td>\n",
       "      <td>0.0070</td>\n",
       "      <td>0.0080</td>\n",
       "    </tr>\n",
       "    <tr>\n",
       "      <th>3550.0</th>\n",
       "      <td>58.144609</td>\n",
       "      <td>NaN</td>\n",
       "      <td>0.0150</td>\n",
       "      <td>0.0170</td>\n",
       "      <td>36.503810</td>\n",
       "      <td>0.010239</td>\n",
       "      <td>0.0090</td>\n",
       "      <td>0.0110</td>\n",
       "    </tr>\n",
       "    <tr>\n",
       "      <th>3575.0</th>\n",
       "      <td>44.852502</td>\n",
       "      <td>0.012580</td>\n",
       "      <td>0.0110</td>\n",
       "      <td>0.0130</td>\n",
       "      <td>48.211703</td>\n",
       "      <td>NaN</td>\n",
       "      <td>0.0125</td>\n",
       "      <td>0.0140</td>\n",
       "    </tr>\n",
       "    <tr>\n",
       "      <th>3600.0</th>\n",
       "      <td>34.785057</td>\n",
       "      <td>0.009757</td>\n",
       "      <td>0.0085</td>\n",
       "      <td>0.0095</td>\n",
       "      <td>63.144258</td>\n",
       "      <td>NaN</td>\n",
       "      <td>0.0140</td>\n",
       "      <td>0.0190</td>\n",
       "    </tr>\n",
       "    <tr>\n",
       "      <th>3625.0</th>\n",
       "      <td>26.997842</td>\n",
       "      <td>0.007572</td>\n",
       "      <td>0.0060</td>\n",
       "      <td>0.0070</td>\n",
       "      <td>80.357043</td>\n",
       "      <td>NaN</td>\n",
       "      <td>0.0006</td>\n",
       "      <td>NaN</td>\n",
       "    </tr>\n",
       "    <tr>\n",
       "      <th>3650.0</th>\n",
       "      <td>20.914908</td>\n",
       "      <td>0.005866</td>\n",
       "      <td>0.0041</td>\n",
       "      <td>0.0048</td>\n",
       "      <td>99.274109</td>\n",
       "      <td>NaN</td>\n",
       "      <td>0.0220</td>\n",
       "      <td>0.0295</td>\n",
       "    </tr>\n",
       "    <tr>\n",
       "      <th>3675.0</th>\n",
       "      <td>16.170905</td>\n",
       "      <td>0.004536</td>\n",
       "      <td>0.0027</td>\n",
       "      <td>0.0033</td>\n",
       "      <td>119.530106</td>\n",
       "      <td>NaN</td>\n",
       "      <td>0.0290</td>\n",
       "      <td>0.0350</td>\n",
       "    </tr>\n",
       "  </tbody>\n",
       "</table>\n",
       "</div>"
      ],
      "text/plain": [
       "        value_call  value_call_pct  call_bid  call_ask   value_put  \\\n",
       "strike                                                               \n",
       "3475.0  113.335095             NaN    0.0070       NaN   16.694296   \n",
       "3500.0   93.136215             NaN    0.0215    0.0285   21.495416   \n",
       "3525.0   74.519162             NaN       NaN    0.0300   27.878363   \n",
       "3550.0   58.144609             NaN    0.0150    0.0170   36.503810   \n",
       "3575.0   44.852502        0.012580    0.0110    0.0130   48.211703   \n",
       "3600.0   34.785057        0.009757    0.0085    0.0095   63.144258   \n",
       "3625.0   26.997842        0.007572    0.0060    0.0070   80.357043   \n",
       "3650.0   20.914908        0.005866    0.0041    0.0048   99.274109   \n",
       "3675.0   16.170905        0.004536    0.0027    0.0033  119.530106   \n",
       "\n",
       "        value_put_pct  put_bid  put_ask  \n",
       "strike                                   \n",
       "3475.0       0.004682   0.0041   0.0049  \n",
       "3500.0       0.006029   0.0050   0.0060  \n",
       "3525.0       0.007819   0.0070   0.0080  \n",
       "3550.0       0.010239   0.0090   0.0110  \n",
       "3575.0            NaN   0.0125   0.0140  \n",
       "3600.0            NaN   0.0140   0.0190  \n",
       "3625.0            NaN   0.0006      NaN  \n",
       "3650.0            NaN   0.0220   0.0295  \n",
       "3675.0            NaN   0.0290   0.0350  "
      ]
     },
     "execution_count": 8,
     "metadata": {},
     "output_type": "execute_result"
    }
   ],
   "source": [
    "simulation.options_chain"
   ]
  },
  {
   "cell_type": "markdown",
   "metadata": {},
   "source": [
    "# Sanity checks"
   ]
  },
  {
   "cell_type": "code",
   "execution_count": 9,
   "metadata": {},
   "outputs": [
    {
     "name": "stdout",
     "output_type": "stream",
     "text": [
      "target expiry: Mon 18 Mar, 08:00 (18 hours left)\n",
      "current price: 3565.29\n",
      "-------------------------------\n",
      "hit ratio: 61%\n",
      "cost: -0.010 / value: -0.012, gain% = -0.23%\n",
      "($) cost: -36.01 / value: -44.20, average gain = -8.19\n",
      "buy put 3350.0\n",
      "sell put 3525.0\n",
      "sell call 3625.0\n",
      "buy call 3775.0\n"
     ]
    }
   ],
   "source": [
    "size = 8\n",
    "option_chain_df = trading_model.evaluate(prices_df, strikes_universe_size=size)\n",
    "put_weights = [0.] * (2 * size + 1)\n",
    "call_weights = [0.] * (2 * size + 1)\n",
    "put_weights[size - 8] = 1.\n",
    "put_weights[size - 2] = -1.\n",
    "call_weights[size + 2] = -1.\n",
    "call_weights[size + 8] = 1.\n",
    "\n",
    "simulation = trading_model.simulate_strategy(option_chain_df, put_weights, call_weights, quote_in_usd=quote_in_usd)\n",
    "print(simulation)"
   ]
  }
 ],
 "metadata": {
  "colab": {
   "provenance": []
  },
  "kernelspec": {
   "display_name": "Python 3 (ipykernel)",
   "language": "python",
   "name": "python3"
  },
  "language_info": {
   "codemirror_mode": {
    "name": "ipython",
    "version": 3
   },
   "file_extension": ".py",
   "mimetype": "text/x-python",
   "name": "python",
   "nbconvert_exporter": "python",
   "pygments_lexer": "ipython3",
   "version": "3.12.1"
  }
 },
 "nbformat": 4,
 "nbformat_minor": 4
}
