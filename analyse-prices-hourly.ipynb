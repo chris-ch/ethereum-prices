{
 "cells": [
  {
   "cell_type": "code",
   "execution_count": 4,
   "metadata": {
    "ExecuteTime": {
     "end_time": "2024-01-26T18:27:29.737820Z",
     "start_time": "2024-01-26T18:27:16.798494Z"
    },
    "colab": {
     "base_uri": "https://localhost:8080/"
    },
    "id": "4kMo6W1p5SMO",
    "outputId": "e249ee53-b2a5-4724-efdc-392594676e02"
   },
   "outputs": [
    {
     "name": "stdout",
     "output_type": "stream",
     "text": [
      "\u001b[34mUpdating dependencies\u001b[39m\n",
      "\u001b[2K\u001b[34mResolving dependencies...\u001b[39m \u001b[39;2m(13.9s)\u001b[39;22m\n",
      "\n",
      "No dependencies to install or update\n"
     ]
    }
   ],
   "source": [
    "!bash --login -c \"poetry update\""
   ]
  },
  {
   "cell_type": "markdown",
   "metadata": {
    "collapsed": false,
    "id": "h-A4kPps5SMQ"
   },
   "source": [
    "# Option valuation model based on historical prices"
   ]
  },
  {
   "cell_type": "code",
   "execution_count": 2,
   "metadata": {
    "ExecuteTime": {
     "end_time": "2024-01-28T09:44:12.952782Z",
     "start_time": "2024-01-28T09:44:10.909325Z"
    },
    "colab": {
     "base_uri": "https://localhost:8080/",
     "height": 443
    },
    "id": "nxChr0ny5SMS",
    "outputId": "2a84f330-be20-4baf-edb1-95e8b7d4f4ab"
   },
   "outputs": [
    {
     "name": "stdout",
     "output_type": "stream",
     "text": [
      "\n",
      "loading 2014 ............\n",
      "loading 2015 ............\n",
      "loading 2016 ............\n",
      "loading 2017 ............\n",
      "loading 2018 ............\n",
      "loading 2019 ............\n",
      "loading 2020 ............\n",
      "loading 2021 ............\n",
      "loading 2022 ............\n",
      "loading 2023 ............\n",
      "loading 2024 \n",
      "interrupting at 2024/01\n"
     ]
    }
   ],
   "source": [
    "import importlib.util\n",
    "import os\n",
    "google_colab_spec = importlib.util.find_spec(\"google\") and importlib.util.find_spec(\"google.colab\")\n",
    "if google_colab_spec:\n",
    "    google_colab = importlib.import_module('google.colab')\n",
    "    google_colab.drive.mount('/content/drive', force_remount=True)\n",
    "    path = '/content/drive/MyDrive/Colab Notebooks/Ethereum Prices'\n",
    "else:\n",
    "    path = f'{os.environ[\"HOME\"]}/Library/CloudStorage/GoogleDrive-chris.perso@gmail.com/My Drive/Colab Notebooks/Ethereum Prices'\n",
    "\n",
    "import optionspricing\n",
    "import binanceprices\n",
    "\n",
    "COUNT_YEARS = 10\n",
    "BINANCE_DATETIME_FORMAT = \"%Y-%m-%d %H-%M-%S\"\n",
    "BINANCE_SYMBOL = 'ETHUSDT'\n",
    "\n",
    "prices_df = binanceprices.load_prices(path, BINANCE_SYMBOL, COUNT_YEARS)\n"
   ]
  },
  {
   "cell_type": "markdown",
   "metadata": {
    "id": "-cJhFZGk5SMS"
   },
   "source": [
    "## Option valuation model: input parameters here"
   ]
  },
  {
   "cell_type": "code",
   "execution_count": 6,
   "metadata": {
    "ExecuteTime": {
     "end_time": "2024-01-29T10:28:52.874110Z",
     "start_time": "2024-01-29T10:28:49.030564Z"
    },
    "collapsed": false
   },
   "outputs": [
    {
     "name": "stdout",
     "output_type": "stream",
     "text": [
      "target expiry: 2024-02-03 08:00:00+00:00 (71 hours left)\n",
      "current price: 2336.84\n",
      "-------------------------------\n",
      "trading put 2300 and call 2350 (hit ratio: 45%)\n",
      "cost: 0.025 / value: 0.035, benefit/cost = 1.4x\n",
      "($) cost: 57.25 / value: 81.07, average gain = 23.81\n",
      "-------------------------------\n",
      "trading put 2275 and call 2375 (hit ratio: 41%)\n",
      "cost: 0.017 / value: 0.027, benefit/cost = 1.6x\n",
      "($) cost: 40.89 / value: 63.75, average gain = 22.85\n",
      "-------------------------------\n",
      "trading put 2250 and call 2400 (hit ratio: 37%)\n",
      "cost: 0.012 / value: 0.021, benefit/cost = 1.7x\n",
      "($) cost: 28.98 / value: 50.21, average gain = 21.23\n",
      "-------------------------------\n",
      "trading put 2225 and call 2425 (hit ratio: 31%)\n",
      "cost: 0.009 / value: 0.017, benefit/cost = 2.0x\n",
      "($) cost: 20.10 / value: 39.50, average gain = 19.40\n"
     ]
    },
    {
     "data": {
      "text/plain": [
       "[{'put': 2275.0, 'call': 2375.0, 'quantity': 0},\n",
       " {'put': 2250.0, 'call': 2400.0, 'quantity': 1}]"
      ]
     },
     "execution_count": 6,
     "metadata": {},
     "output_type": "execute_result"
    }
   ],
   "source": [
    "target_period_hours = 3 * 24\n",
    "strikes_universe_size = 4\n",
    "CUT_OFF_YEAR_MONTH = (2022, 1)\n",
    "\n",
    "instrument_code = BINANCE_SYMBOL[:3]\n",
    "\n",
    "headers = {\"Content-Type\": \"application/json\"}\n",
    "base_url = \"https://www.deribit.com/api/v2/public\"\n",
    "\n",
    "trading_model = optionspricing.TradingModel(base_url, headers, instrument_code, target_period_hours)\n",
    "trading_model.cutoff_year_month(CUT_OFF_YEAR_MONTH)\n",
    "target_expiry = trading_model.target_expiry\n",
    "underlying_price = trading_model.underlying_price\n",
    "remaining_hours = trading_model.remaining_hours\n",
    "\n",
    "simulation = trading_model.evaluate(prices_df, strikes_universe_size)\n",
    "print(simulation)\n",
    "simulation.allocate([1, 2], 1500. * 2./100.)"
   ]
  },
  {
   "cell_type": "code",
   "execution_count": 5,
   "metadata": {
    "ExecuteTime": {
     "end_time": "2024-01-29T10:28:53.839639Z",
     "start_time": "2024-01-29T10:28:53.814899Z"
    },
    "id": "Nwr0Hlj75SMV",
    "outputId": "430484f0-9bd3-4b6e-e0da-5c9891594905"
   },
   "outputs": [
    {
     "data": {
      "text/html": [
       "<div>\n",
       "<style scoped>\n",
       "    .dataframe tbody tr th:only-of-type {\n",
       "        vertical-align: middle;\n",
       "    }\n",
       "\n",
       "    .dataframe tbody tr th {\n",
       "        vertical-align: top;\n",
       "    }\n",
       "\n",
       "    .dataframe thead th {\n",
       "        text-align: right;\n",
       "    }\n",
       "</style>\n",
       "<table border=\"1\" class=\"dataframe\">\n",
       "  <thead>\n",
       "    <tr style=\"text-align: right;\">\n",
       "      <th></th>\n",
       "      <th>value_call</th>\n",
       "      <th>value_call_pct</th>\n",
       "      <th>call_ask</th>\n",
       "      <th>value_put</th>\n",
       "      <th>value_put_pct</th>\n",
       "      <th>put_ask</th>\n",
       "    </tr>\n",
       "    <tr>\n",
       "      <th>strike</th>\n",
       "      <th></th>\n",
       "      <th></th>\n",
       "      <th></th>\n",
       "      <th></th>\n",
       "      <th></th>\n",
       "      <th></th>\n",
       "    </tr>\n",
       "  </thead>\n",
       "  <tbody>\n",
       "    <tr>\n",
       "      <th>2150.0</th>\n",
       "      <td>190.873426</td>\n",
       "      <td>NaN</td>\n",
       "      <td>0.0895</td>\n",
       "      <td>5.157967</td>\n",
       "      <td>0.002208</td>\n",
       "      <td>0.0006</td>\n",
       "    </tr>\n",
       "    <tr>\n",
       "      <th>2200.0</th>\n",
       "      <td>144.401912</td>\n",
       "      <td>NaN</td>\n",
       "      <td>0.0630</td>\n",
       "      <td>8.686452</td>\n",
       "      <td>0.003719</td>\n",
       "      <td>0.0012</td>\n",
       "    </tr>\n",
       "    <tr>\n",
       "      <th>2250.0</th>\n",
       "      <td>100.562868</td>\n",
       "      <td>NaN</td>\n",
       "      <td>0.0430</td>\n",
       "      <td>14.847408</td>\n",
       "      <td>0.006356</td>\n",
       "      <td>0.0027</td>\n",
       "    </tr>\n",
       "    <tr>\n",
       "      <th>2300.0</th>\n",
       "      <td>62.035920</td>\n",
       "      <td>NaN</td>\n",
       "      <td>0.0260</td>\n",
       "      <td>26.320460</td>\n",
       "      <td>0.011268</td>\n",
       "      <td>0.0070</td>\n",
       "    </tr>\n",
       "    <tr>\n",
       "      <th>2325.0</th>\n",
       "      <td>46.283084</td>\n",
       "      <td>NaN</td>\n",
       "      <td>0.0170</td>\n",
       "      <td>35.567624</td>\n",
       "      <td>0.015227</td>\n",
       "      <td>0.0110</td>\n",
       "    </tr>\n",
       "    <tr>\n",
       "      <th>2350.0</th>\n",
       "      <td>34.259760</td>\n",
       "      <td>0.014667</td>\n",
       "      <td>0.0115</td>\n",
       "      <td>48.544300</td>\n",
       "      <td>NaN</td>\n",
       "      <td>0.0165</td>\n",
       "    </tr>\n",
       "    <tr>\n",
       "      <th>2375.0</th>\n",
       "      <td>25.545124</td>\n",
       "      <td>0.010936</td>\n",
       "      <td>0.0080</td>\n",
       "      <td>64.829664</td>\n",
       "      <td>NaN</td>\n",
       "      <td>0.0260</td>\n",
       "    </tr>\n",
       "    <tr>\n",
       "      <th>2400.0</th>\n",
       "      <td>19.084275</td>\n",
       "      <td>0.008170</td>\n",
       "      <td>0.0050</td>\n",
       "      <td>83.368815</td>\n",
       "      <td>NaN</td>\n",
       "      <td>0.0330</td>\n",
       "    </tr>\n",
       "    <tr>\n",
       "      <th>2450.0</th>\n",
       "      <td>10.723790</td>\n",
       "      <td>0.004591</td>\n",
       "      <td>0.0023</td>\n",
       "      <td>125.008330</td>\n",
       "      <td>NaN</td>\n",
       "      <td>0.0525</td>\n",
       "    </tr>\n",
       "  </tbody>\n",
       "</table>\n",
       "</div>"
      ],
      "text/plain": [
       "        value_call  value_call_pct  call_ask   value_put  value_put_pct  \\\n",
       "strike                                                                    \n",
       "2150.0  190.873426             NaN    0.0895    5.157967       0.002208   \n",
       "2200.0  144.401912             NaN    0.0630    8.686452       0.003719   \n",
       "2250.0  100.562868             NaN    0.0430   14.847408       0.006356   \n",
       "2300.0   62.035920             NaN    0.0260   26.320460       0.011268   \n",
       "2325.0   46.283084             NaN    0.0170   35.567624       0.015227   \n",
       "2350.0   34.259760        0.014667    0.0115   48.544300            NaN   \n",
       "2375.0   25.545124        0.010936    0.0080   64.829664            NaN   \n",
       "2400.0   19.084275        0.008170    0.0050   83.368815            NaN   \n",
       "2450.0   10.723790        0.004591    0.0023  125.008330            NaN   \n",
       "\n",
       "        put_ask  \n",
       "strike           \n",
       "2150.0   0.0006  \n",
       "2200.0   0.0012  \n",
       "2250.0   0.0027  \n",
       "2300.0   0.0070  \n",
       "2325.0   0.0110  \n",
       "2350.0   0.0165  \n",
       "2375.0   0.0260  \n",
       "2400.0   0.0330  \n",
       "2450.0   0.0525  "
      ]
     },
     "execution_count": 5,
     "metadata": {},
     "output_type": "execute_result"
    }
   ],
   "source": [
    "simulation.options_chain"
   ]
  },
  {
   "cell_type": "code",
   "execution_count": 3,
   "metadata": {
    "ExecuteTime": {
     "end_time": "2024-01-27T08:01:21.174652Z",
     "start_time": "2024-01-27T08:01:21.143165Z"
    },
    "collapsed": false
   },
   "outputs": [],
   "source": []
  }
 ],
 "metadata": {
  "colab": {
   "provenance": []
  },
  "kernelspec": {
   "display_name": "Python 3 (ipykernel)",
   "language": "python",
   "name": "python3"
  },
  "language_info": {
   "codemirror_mode": {
    "name": "ipython",
    "version": 3
   },
   "file_extension": ".py",
   "mimetype": "text/x-python",
   "name": "python",
   "nbconvert_exporter": "python",
   "pygments_lexer": "ipython3",
   "version": "3.12.1"
  }
 },
 "nbformat": 4,
 "nbformat_minor": 4
}
