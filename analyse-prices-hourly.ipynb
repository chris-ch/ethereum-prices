{
 "cells": [
  {
   "cell_type": "code",
   "execution_count": 4,
   "metadata": {
    "ExecuteTime": {
     "end_time": "2024-01-26T18:27:29.737820Z",
     "start_time": "2024-01-26T18:27:16.798494Z"
    },
    "colab": {
     "base_uri": "https://localhost:8080/"
    },
    "id": "4kMo6W1p5SMO",
    "outputId": "e249ee53-b2a5-4724-efdc-392594676e02"
   },
   "outputs": [
    {
     "name": "stdout",
     "output_type": "stream",
     "text": [
      "\u001b[34mUpdating dependencies\u001b[39m\n",
      "\u001b[2K\u001b[34mResolving dependencies...\u001b[39m \u001b[39;2m(13.9s)\u001b[39;22m\n",
      "\n",
      "No dependencies to install or update\n"
     ]
    }
   ],
   "source": [
    "!bash --login -c \"poetry update\""
   ]
  },
  {
   "cell_type": "markdown",
   "metadata": {
    "collapsed": false,
    "id": "h-A4kPps5SMQ"
   },
   "source": [
    "# Option valuation model based on historical prices"
   ]
  },
  {
   "cell_type": "code",
   "execution_count": 1,
   "metadata": {
    "ExecuteTime": {
     "end_time": "2024-01-28T09:44:12.952782Z",
     "start_time": "2024-01-28T09:44:10.909325Z"
    },
    "colab": {
     "base_uri": "https://localhost:8080/",
     "height": 443
    },
    "id": "nxChr0ny5SMS",
    "outputId": "2a84f330-be20-4baf-edb1-95e8b7d4f4ab"
   },
   "outputs": [
    {
     "name": "stdout",
     "output_type": "stream",
     "text": [
      "\n",
      "loading 2014 .no previous data found in /home/python/Library/CloudStorage/GoogleDrive-chris.perso@gmail.com/My Drive/Colab Notebooks/Ethereum Prices/ETHUSDT/2014, loading from binance\n",
      ".no previous data found in /home/python/Library/CloudStorage/GoogleDrive-chris.perso@gmail.com/My Drive/Colab Notebooks/Ethereum Prices/ETHUSDT/2014, loading from binance\n",
      ".no previous data found in /home/python/Library/CloudStorage/GoogleDrive-chris.perso@gmail.com/My Drive/Colab Notebooks/Ethereum Prices/ETHUSDT/2014, loading from binance\n",
      ".no previous data found in /home/python/Library/CloudStorage/GoogleDrive-chris.perso@gmail.com/My Drive/Colab Notebooks/Ethereum Prices/ETHUSDT/2014, loading from binance\n",
      ".no previous data found in /home/python/Library/CloudStorage/GoogleDrive-chris.perso@gmail.com/My Drive/Colab Notebooks/Ethereum Prices/ETHUSDT/2014, loading from binance\n",
      ".no previous data found in /home/python/Library/CloudStorage/GoogleDrive-chris.perso@gmail.com/My Drive/Colab Notebooks/Ethereum Prices/ETHUSDT/2014, loading from binance\n",
      ".no previous data found in /home/python/Library/CloudStorage/GoogleDrive-chris.perso@gmail.com/My Drive/Colab Notebooks/Ethereum Prices/ETHUSDT/2014, loading from binance\n",
      ".no previous data found in /home/python/Library/CloudStorage/GoogleDrive-chris.perso@gmail.com/My Drive/Colab Notebooks/Ethereum Prices/ETHUSDT/2014, loading from binance\n",
      ".no previous data found in /home/python/Library/CloudStorage/GoogleDrive-chris.perso@gmail.com/My Drive/Colab Notebooks/Ethereum Prices/ETHUSDT/2014, loading from binance\n",
      ".no previous data found in /home/python/Library/CloudStorage/GoogleDrive-chris.perso@gmail.com/My Drive/Colab Notebooks/Ethereum Prices/ETHUSDT/2014, loading from binance\n",
      ".no previous data found in /home/python/Library/CloudStorage/GoogleDrive-chris.perso@gmail.com/My Drive/Colab Notebooks/Ethereum Prices/ETHUSDT/2014, loading from binance\n",
      ".no previous data found in /home/python/Library/CloudStorage/GoogleDrive-chris.perso@gmail.com/My Drive/Colab Notebooks/Ethereum Prices/ETHUSDT/2014, loading from binance\n",
      "\n",
      "loading 2015 .no previous data found in /home/python/Library/CloudStorage/GoogleDrive-chris.perso@gmail.com/My Drive/Colab Notebooks/Ethereum Prices/ETHUSDT/2015, loading from binance\n",
      ".no previous data found in /home/python/Library/CloudStorage/GoogleDrive-chris.perso@gmail.com/My Drive/Colab Notebooks/Ethereum Prices/ETHUSDT/2015, loading from binance\n",
      ".no previous data found in /home/python/Library/CloudStorage/GoogleDrive-chris.perso@gmail.com/My Drive/Colab Notebooks/Ethereum Prices/ETHUSDT/2015, loading from binance\n",
      ".no previous data found in /home/python/Library/CloudStorage/GoogleDrive-chris.perso@gmail.com/My Drive/Colab Notebooks/Ethereum Prices/ETHUSDT/2015, loading from binance\n",
      ".no previous data found in /home/python/Library/CloudStorage/GoogleDrive-chris.perso@gmail.com/My Drive/Colab Notebooks/Ethereum Prices/ETHUSDT/2015, loading from binance\n",
      ".no previous data found in /home/python/Library/CloudStorage/GoogleDrive-chris.perso@gmail.com/My Drive/Colab Notebooks/Ethereum Prices/ETHUSDT/2015, loading from binance\n",
      ".no previous data found in /home/python/Library/CloudStorage/GoogleDrive-chris.perso@gmail.com/My Drive/Colab Notebooks/Ethereum Prices/ETHUSDT/2015, loading from binance\n",
      ".no previous data found in /home/python/Library/CloudStorage/GoogleDrive-chris.perso@gmail.com/My Drive/Colab Notebooks/Ethereum Prices/ETHUSDT/2015, loading from binance\n",
      ".no previous data found in /home/python/Library/CloudStorage/GoogleDrive-chris.perso@gmail.com/My Drive/Colab Notebooks/Ethereum Prices/ETHUSDT/2015, loading from binance\n",
      ".no previous data found in /home/python/Library/CloudStorage/GoogleDrive-chris.perso@gmail.com/My Drive/Colab Notebooks/Ethereum Prices/ETHUSDT/2015, loading from binance\n",
      ".no previous data found in /home/python/Library/CloudStorage/GoogleDrive-chris.perso@gmail.com/My Drive/Colab Notebooks/Ethereum Prices/ETHUSDT/2015, loading from binance\n",
      ".no previous data found in /home/python/Library/CloudStorage/GoogleDrive-chris.perso@gmail.com/My Drive/Colab Notebooks/Ethereum Prices/ETHUSDT/2015, loading from binance\n",
      "\n",
      "loading 2016 .no previous data found in /home/python/Library/CloudStorage/GoogleDrive-chris.perso@gmail.com/My Drive/Colab Notebooks/Ethereum Prices/ETHUSDT/2016, loading from binance\n",
      ".no previous data found in /home/python/Library/CloudStorage/GoogleDrive-chris.perso@gmail.com/My Drive/Colab Notebooks/Ethereum Prices/ETHUSDT/2016, loading from binance\n",
      ".no previous data found in /home/python/Library/CloudStorage/GoogleDrive-chris.perso@gmail.com/My Drive/Colab Notebooks/Ethereum Prices/ETHUSDT/2016, loading from binance\n",
      ".no previous data found in /home/python/Library/CloudStorage/GoogleDrive-chris.perso@gmail.com/My Drive/Colab Notebooks/Ethereum Prices/ETHUSDT/2016, loading from binance\n",
      ".no previous data found in /home/python/Library/CloudStorage/GoogleDrive-chris.perso@gmail.com/My Drive/Colab Notebooks/Ethereum Prices/ETHUSDT/2016, loading from binance\n",
      ".no previous data found in /home/python/Library/CloudStorage/GoogleDrive-chris.perso@gmail.com/My Drive/Colab Notebooks/Ethereum Prices/ETHUSDT/2016, loading from binance\n",
      ".no previous data found in /home/python/Library/CloudStorage/GoogleDrive-chris.perso@gmail.com/My Drive/Colab Notebooks/Ethereum Prices/ETHUSDT/2016, loading from binance\n",
      ".no previous data found in /home/python/Library/CloudStorage/GoogleDrive-chris.perso@gmail.com/My Drive/Colab Notebooks/Ethereum Prices/ETHUSDT/2016, loading from binance\n",
      ".no previous data found in /home/python/Library/CloudStorage/GoogleDrive-chris.perso@gmail.com/My Drive/Colab Notebooks/Ethereum Prices/ETHUSDT/2016, loading from binance\n",
      ".no previous data found in /home/python/Library/CloudStorage/GoogleDrive-chris.perso@gmail.com/My Drive/Colab Notebooks/Ethereum Prices/ETHUSDT/2016, loading from binance\n",
      ".no previous data found in /home/python/Library/CloudStorage/GoogleDrive-chris.perso@gmail.com/My Drive/Colab Notebooks/Ethereum Prices/ETHUSDT/2016, loading from binance\n",
      ".no previous data found in /home/python/Library/CloudStorage/GoogleDrive-chris.perso@gmail.com/My Drive/Colab Notebooks/Ethereum Prices/ETHUSDT/2016, loading from binance\n",
      "\n",
      "loading 2017 .no previous data found in /home/python/Library/CloudStorage/GoogleDrive-chris.perso@gmail.com/My Drive/Colab Notebooks/Ethereum Prices/ETHUSDT/2017, loading from binance\n",
      ".no previous data found in /home/python/Library/CloudStorage/GoogleDrive-chris.perso@gmail.com/My Drive/Colab Notebooks/Ethereum Prices/ETHUSDT/2017, loading from binance\n",
      ".no previous data found in /home/python/Library/CloudStorage/GoogleDrive-chris.perso@gmail.com/My Drive/Colab Notebooks/Ethereum Prices/ETHUSDT/2017, loading from binance\n",
      ".no previous data found in /home/python/Library/CloudStorage/GoogleDrive-chris.perso@gmail.com/My Drive/Colab Notebooks/Ethereum Prices/ETHUSDT/2017, loading from binance\n",
      ".no previous data found in /home/python/Library/CloudStorage/GoogleDrive-chris.perso@gmail.com/My Drive/Colab Notebooks/Ethereum Prices/ETHUSDT/2017, loading from binance\n",
      ".no previous data found in /home/python/Library/CloudStorage/GoogleDrive-chris.perso@gmail.com/My Drive/Colab Notebooks/Ethereum Prices/ETHUSDT/2017, loading from binance\n",
      ".no previous data found in /home/python/Library/CloudStorage/GoogleDrive-chris.perso@gmail.com/My Drive/Colab Notebooks/Ethereum Prices/ETHUSDT/2017, loading from binance\n",
      ".no previous data found in /home/python/Library/CloudStorage/GoogleDrive-chris.perso@gmail.com/My Drive/Colab Notebooks/Ethereum Prices/ETHUSDT/2017, loading from binance\n",
      ".no previous data found in /home/python/Library/CloudStorage/GoogleDrive-chris.perso@gmail.com/My Drive/Colab Notebooks/Ethereum Prices/ETHUSDT/2017, loading from binance\n",
      ".no previous data found in /home/python/Library/CloudStorage/GoogleDrive-chris.perso@gmail.com/My Drive/Colab Notebooks/Ethereum Prices/ETHUSDT/2017, loading from binance\n",
      ".no previous data found in /home/python/Library/CloudStorage/GoogleDrive-chris.perso@gmail.com/My Drive/Colab Notebooks/Ethereum Prices/ETHUSDT/2017, loading from binance\n",
      ".no previous data found in /home/python/Library/CloudStorage/GoogleDrive-chris.perso@gmail.com/My Drive/Colab Notebooks/Ethereum Prices/ETHUSDT/2017, loading from binance\n",
      "\n",
      "loading 2018 .no previous data found in /home/python/Library/CloudStorage/GoogleDrive-chris.perso@gmail.com/My Drive/Colab Notebooks/Ethereum Prices/ETHUSDT/2018, loading from binance\n",
      ".no previous data found in /home/python/Library/CloudStorage/GoogleDrive-chris.perso@gmail.com/My Drive/Colab Notebooks/Ethereum Prices/ETHUSDT/2018, loading from binance\n",
      ".no previous data found in /home/python/Library/CloudStorage/GoogleDrive-chris.perso@gmail.com/My Drive/Colab Notebooks/Ethereum Prices/ETHUSDT/2018, loading from binance\n",
      ".no previous data found in /home/python/Library/CloudStorage/GoogleDrive-chris.perso@gmail.com/My Drive/Colab Notebooks/Ethereum Prices/ETHUSDT/2018, loading from binance\n",
      ".no previous data found in /home/python/Library/CloudStorage/GoogleDrive-chris.perso@gmail.com/My Drive/Colab Notebooks/Ethereum Prices/ETHUSDT/2018, loading from binance\n",
      ".no previous data found in /home/python/Library/CloudStorage/GoogleDrive-chris.perso@gmail.com/My Drive/Colab Notebooks/Ethereum Prices/ETHUSDT/2018, loading from binance\n",
      ".no previous data found in /home/python/Library/CloudStorage/GoogleDrive-chris.perso@gmail.com/My Drive/Colab Notebooks/Ethereum Prices/ETHUSDT/2018, loading from binance\n",
      ".no previous data found in /home/python/Library/CloudStorage/GoogleDrive-chris.perso@gmail.com/My Drive/Colab Notebooks/Ethereum Prices/ETHUSDT/2018, loading from binance\n",
      ".no previous data found in /home/python/Library/CloudStorage/GoogleDrive-chris.perso@gmail.com/My Drive/Colab Notebooks/Ethereum Prices/ETHUSDT/2018, loading from binance\n",
      ".no previous data found in /home/python/Library/CloudStorage/GoogleDrive-chris.perso@gmail.com/My Drive/Colab Notebooks/Ethereum Prices/ETHUSDT/2018, loading from binance\n",
      ".no previous data found in /home/python/Library/CloudStorage/GoogleDrive-chris.perso@gmail.com/My Drive/Colab Notebooks/Ethereum Prices/ETHUSDT/2018, loading from binance\n",
      ".no previous data found in /home/python/Library/CloudStorage/GoogleDrive-chris.perso@gmail.com/My Drive/Colab Notebooks/Ethereum Prices/ETHUSDT/2018, loading from binance\n",
      "\n",
      "loading 2019 .no previous data found in /home/python/Library/CloudStorage/GoogleDrive-chris.perso@gmail.com/My Drive/Colab Notebooks/Ethereum Prices/ETHUSDT/2019, loading from binance\n",
      ".no previous data found in /home/python/Library/CloudStorage/GoogleDrive-chris.perso@gmail.com/My Drive/Colab Notebooks/Ethereum Prices/ETHUSDT/2019, loading from binance\n",
      ".no previous data found in /home/python/Library/CloudStorage/GoogleDrive-chris.perso@gmail.com/My Drive/Colab Notebooks/Ethereum Prices/ETHUSDT/2019, loading from binance\n",
      ".no previous data found in /home/python/Library/CloudStorage/GoogleDrive-chris.perso@gmail.com/My Drive/Colab Notebooks/Ethereum Prices/ETHUSDT/2019, loading from binance\n",
      ".no previous data found in /home/python/Library/CloudStorage/GoogleDrive-chris.perso@gmail.com/My Drive/Colab Notebooks/Ethereum Prices/ETHUSDT/2019, loading from binance\n",
      ".no previous data found in /home/python/Library/CloudStorage/GoogleDrive-chris.perso@gmail.com/My Drive/Colab Notebooks/Ethereum Prices/ETHUSDT/2019, loading from binance\n",
      ".no previous data found in /home/python/Library/CloudStorage/GoogleDrive-chris.perso@gmail.com/My Drive/Colab Notebooks/Ethereum Prices/ETHUSDT/2019, loading from binance\n",
      ".no previous data found in /home/python/Library/CloudStorage/GoogleDrive-chris.perso@gmail.com/My Drive/Colab Notebooks/Ethereum Prices/ETHUSDT/2019, loading from binance\n",
      ".no previous data found in /home/python/Library/CloudStorage/GoogleDrive-chris.perso@gmail.com/My Drive/Colab Notebooks/Ethereum Prices/ETHUSDT/2019, loading from binance\n",
      ".no previous data found in /home/python/Library/CloudStorage/GoogleDrive-chris.perso@gmail.com/My Drive/Colab Notebooks/Ethereum Prices/ETHUSDT/2019, loading from binance\n",
      ".no previous data found in /home/python/Library/CloudStorage/GoogleDrive-chris.perso@gmail.com/My Drive/Colab Notebooks/Ethereum Prices/ETHUSDT/2019, loading from binance\n",
      ".no previous data found in /home/python/Library/CloudStorage/GoogleDrive-chris.perso@gmail.com/My Drive/Colab Notebooks/Ethereum Prices/ETHUSDT/2019, loading from binance\n",
      "\n",
      "loading 2020 .no previous data found in /home/python/Library/CloudStorage/GoogleDrive-chris.perso@gmail.com/My Drive/Colab Notebooks/Ethereum Prices/ETHUSDT/2020, loading from binance\n",
      ".no previous data found in /home/python/Library/CloudStorage/GoogleDrive-chris.perso@gmail.com/My Drive/Colab Notebooks/Ethereum Prices/ETHUSDT/2020, loading from binance\n",
      ".no previous data found in /home/python/Library/CloudStorage/GoogleDrive-chris.perso@gmail.com/My Drive/Colab Notebooks/Ethereum Prices/ETHUSDT/2020, loading from binance\n",
      ".no previous data found in /home/python/Library/CloudStorage/GoogleDrive-chris.perso@gmail.com/My Drive/Colab Notebooks/Ethereum Prices/ETHUSDT/2020, loading from binance\n",
      ".no previous data found in /home/python/Library/CloudStorage/GoogleDrive-chris.perso@gmail.com/My Drive/Colab Notebooks/Ethereum Prices/ETHUSDT/2020, loading from binance\n",
      ".no previous data found in /home/python/Library/CloudStorage/GoogleDrive-chris.perso@gmail.com/My Drive/Colab Notebooks/Ethereum Prices/ETHUSDT/2020, loading from binance\n",
      ".no previous data found in /home/python/Library/CloudStorage/GoogleDrive-chris.perso@gmail.com/My Drive/Colab Notebooks/Ethereum Prices/ETHUSDT/2020, loading from binance\n",
      ".no previous data found in /home/python/Library/CloudStorage/GoogleDrive-chris.perso@gmail.com/My Drive/Colab Notebooks/Ethereum Prices/ETHUSDT/2020, loading from binance\n",
      ".no previous data found in /home/python/Library/CloudStorage/GoogleDrive-chris.perso@gmail.com/My Drive/Colab Notebooks/Ethereum Prices/ETHUSDT/2020, loading from binance\n",
      ".no previous data found in /home/python/Library/CloudStorage/GoogleDrive-chris.perso@gmail.com/My Drive/Colab Notebooks/Ethereum Prices/ETHUSDT/2020, loading from binance\n",
      ".no previous data found in /home/python/Library/CloudStorage/GoogleDrive-chris.perso@gmail.com/My Drive/Colab Notebooks/Ethereum Prices/ETHUSDT/2020, loading from binance\n",
      ".no previous data found in /home/python/Library/CloudStorage/GoogleDrive-chris.perso@gmail.com/My Drive/Colab Notebooks/Ethereum Prices/ETHUSDT/2020, loading from binance\n",
      "\n",
      "loading 2021 .no previous data found in /home/python/Library/CloudStorage/GoogleDrive-chris.perso@gmail.com/My Drive/Colab Notebooks/Ethereum Prices/ETHUSDT/2021, loading from binance\n",
      ".no previous data found in /home/python/Library/CloudStorage/GoogleDrive-chris.perso@gmail.com/My Drive/Colab Notebooks/Ethereum Prices/ETHUSDT/2021, loading from binance\n",
      ".no previous data found in /home/python/Library/CloudStorage/GoogleDrive-chris.perso@gmail.com/My Drive/Colab Notebooks/Ethereum Prices/ETHUSDT/2021, loading from binance\n",
      ".no previous data found in /home/python/Library/CloudStorage/GoogleDrive-chris.perso@gmail.com/My Drive/Colab Notebooks/Ethereum Prices/ETHUSDT/2021, loading from binance\n",
      ".no previous data found in /home/python/Library/CloudStorage/GoogleDrive-chris.perso@gmail.com/My Drive/Colab Notebooks/Ethereum Prices/ETHUSDT/2021, loading from binance\n",
      ".no previous data found in /home/python/Library/CloudStorage/GoogleDrive-chris.perso@gmail.com/My Drive/Colab Notebooks/Ethereum Prices/ETHUSDT/2021, loading from binance\n",
      ".no previous data found in /home/python/Library/CloudStorage/GoogleDrive-chris.perso@gmail.com/My Drive/Colab Notebooks/Ethereum Prices/ETHUSDT/2021, loading from binance\n",
      ".no previous data found in /home/python/Library/CloudStorage/GoogleDrive-chris.perso@gmail.com/My Drive/Colab Notebooks/Ethereum Prices/ETHUSDT/2021, loading from binance\n",
      ".no previous data found in /home/python/Library/CloudStorage/GoogleDrive-chris.perso@gmail.com/My Drive/Colab Notebooks/Ethereum Prices/ETHUSDT/2021, loading from binance\n",
      ".no previous data found in /home/python/Library/CloudStorage/GoogleDrive-chris.perso@gmail.com/My Drive/Colab Notebooks/Ethereum Prices/ETHUSDT/2021, loading from binance\n",
      ".no previous data found in /home/python/Library/CloudStorage/GoogleDrive-chris.perso@gmail.com/My Drive/Colab Notebooks/Ethereum Prices/ETHUSDT/2021, loading from binance\n",
      ".no previous data found in /home/python/Library/CloudStorage/GoogleDrive-chris.perso@gmail.com/My Drive/Colab Notebooks/Ethereum Prices/ETHUSDT/2021, loading from binance\n",
      "\n",
      "loading 2022 .no previous data found in /home/python/Library/CloudStorage/GoogleDrive-chris.perso@gmail.com/My Drive/Colab Notebooks/Ethereum Prices/ETHUSDT/2022, loading from binance\n",
      ".no previous data found in /home/python/Library/CloudStorage/GoogleDrive-chris.perso@gmail.com/My Drive/Colab Notebooks/Ethereum Prices/ETHUSDT/2022, loading from binance\n",
      ".no previous data found in /home/python/Library/CloudStorage/GoogleDrive-chris.perso@gmail.com/My Drive/Colab Notebooks/Ethereum Prices/ETHUSDT/2022, loading from binance\n",
      ".no previous data found in /home/python/Library/CloudStorage/GoogleDrive-chris.perso@gmail.com/My Drive/Colab Notebooks/Ethereum Prices/ETHUSDT/2022, loading from binance\n",
      ".no previous data found in /home/python/Library/CloudStorage/GoogleDrive-chris.perso@gmail.com/My Drive/Colab Notebooks/Ethereum Prices/ETHUSDT/2022, loading from binance\n",
      ".no previous data found in /home/python/Library/CloudStorage/GoogleDrive-chris.perso@gmail.com/My Drive/Colab Notebooks/Ethereum Prices/ETHUSDT/2022, loading from binance\n",
      ".no previous data found in /home/python/Library/CloudStorage/GoogleDrive-chris.perso@gmail.com/My Drive/Colab Notebooks/Ethereum Prices/ETHUSDT/2022, loading from binance\n",
      ".no previous data found in /home/python/Library/CloudStorage/GoogleDrive-chris.perso@gmail.com/My Drive/Colab Notebooks/Ethereum Prices/ETHUSDT/2022, loading from binance\n",
      ".no previous data found in /home/python/Library/CloudStorage/GoogleDrive-chris.perso@gmail.com/My Drive/Colab Notebooks/Ethereum Prices/ETHUSDT/2022, loading from binance\n",
      ".no previous data found in /home/python/Library/CloudStorage/GoogleDrive-chris.perso@gmail.com/My Drive/Colab Notebooks/Ethereum Prices/ETHUSDT/2022, loading from binance\n",
      ".no previous data found in /home/python/Library/CloudStorage/GoogleDrive-chris.perso@gmail.com/My Drive/Colab Notebooks/Ethereum Prices/ETHUSDT/2022, loading from binance\n",
      ".no previous data found in /home/python/Library/CloudStorage/GoogleDrive-chris.perso@gmail.com/My Drive/Colab Notebooks/Ethereum Prices/ETHUSDT/2022, loading from binance\n",
      "\n",
      "loading 2023 .no previous data found in /home/python/Library/CloudStorage/GoogleDrive-chris.perso@gmail.com/My Drive/Colab Notebooks/Ethereum Prices/ETHUSDT/2023, loading from binance\n",
      ".no previous data found in /home/python/Library/CloudStorage/GoogleDrive-chris.perso@gmail.com/My Drive/Colab Notebooks/Ethereum Prices/ETHUSDT/2023, loading from binance\n",
      ".no previous data found in /home/python/Library/CloudStorage/GoogleDrive-chris.perso@gmail.com/My Drive/Colab Notebooks/Ethereum Prices/ETHUSDT/2023, loading from binance\n",
      ".no previous data found in /home/python/Library/CloudStorage/GoogleDrive-chris.perso@gmail.com/My Drive/Colab Notebooks/Ethereum Prices/ETHUSDT/2023, loading from binance\n",
      ".no previous data found in /home/python/Library/CloudStorage/GoogleDrive-chris.perso@gmail.com/My Drive/Colab Notebooks/Ethereum Prices/ETHUSDT/2023, loading from binance\n",
      ".no previous data found in /home/python/Library/CloudStorage/GoogleDrive-chris.perso@gmail.com/My Drive/Colab Notebooks/Ethereum Prices/ETHUSDT/2023, loading from binance\n",
      ".no previous data found in /home/python/Library/CloudStorage/GoogleDrive-chris.perso@gmail.com/My Drive/Colab Notebooks/Ethereum Prices/ETHUSDT/2023, loading from binance\n",
      ".no previous data found in /home/python/Library/CloudStorage/GoogleDrive-chris.perso@gmail.com/My Drive/Colab Notebooks/Ethereum Prices/ETHUSDT/2023, loading from binance\n",
      ".no previous data found in /home/python/Library/CloudStorage/GoogleDrive-chris.perso@gmail.com/My Drive/Colab Notebooks/Ethereum Prices/ETHUSDT/2023, loading from binance\n",
      ".no previous data found in /home/python/Library/CloudStorage/GoogleDrive-chris.perso@gmail.com/My Drive/Colab Notebooks/Ethereum Prices/ETHUSDT/2023, loading from binance\n",
      ".no previous data found in /home/python/Library/CloudStorage/GoogleDrive-chris.perso@gmail.com/My Drive/Colab Notebooks/Ethereum Prices/ETHUSDT/2023, loading from binance\n",
      ".no previous data found in /home/python/Library/CloudStorage/GoogleDrive-chris.perso@gmail.com/My Drive/Colab Notebooks/Ethereum Prices/ETHUSDT/2023, loading from binance\n",
      "\n",
      "loading 2024 \n",
      "interrupting at 2024/01\n"
     ]
    }
   ],
   "source": [
    "import importlib.util\n",
    "import os\n",
    "google_colab_spec = importlib.util.find_spec(\"google\") and importlib.util.find_spec(\"google.colab\")\n",
    "if google_colab_spec:\n",
    "    google_colab = importlib.import_module('google.colab')\n",
    "    google_colab.drive.mount('/content/drive', force_remount=True)\n",
    "    path = '/content/drive/MyDrive/Colab Notebooks/Ethereum Prices'\n",
    "else:\n",
    "    path = f'{os.environ[\"HOME\"]}/Library/CloudStorage/GoogleDrive-chris.perso@gmail.com/My Drive/Colab Notebooks/Ethereum Prices'\n",
    "\n",
    "import optionspricing\n",
    "import binanceprices\n",
    "\n",
    "COUNT_YEARS = 10\n",
    "BINANCE_DATETIME_FORMAT = \"%Y-%m-%d %H-%M-%S\"\n",
    "BINANCE_SYMBOL = 'ETHUSDT'\n",
    "\n",
    "prices_df = binanceprices.load_prices(path, BINANCE_SYMBOL, COUNT_YEARS)\n"
   ]
  },
  {
   "cell_type": "markdown",
   "metadata": {
    "id": "-cJhFZGk5SMS"
   },
   "source": [
    "## Option valuation model: input parameters here"
   ]
  },
  {
   "cell_type": "code",
   "execution_count": 6,
   "metadata": {
    "ExecuteTime": {
     "end_time": "2024-01-29T10:28:52.874110Z",
     "start_time": "2024-01-29T10:28:49.030564Z"
    },
    "collapsed": false
   },
   "outputs": [
    {
     "name": "stdout",
     "output_type": "stream",
     "text": [
      "target expiry: 2024-02-02 08:00:00+00:00 (72 hours left)\n",
      "current price: 2310.99\n",
      "-------------------------------\n",
      "trading put 2250 and call 2350 (hit ratio: 45%)\n",
      "cost: 0.014 / value: 0.027, benefit/cost = 1.9x\n",
      "($) cost: 33.51 / value: 63.41, average gain = 29.90\n",
      "-------------------------------\n",
      "trading put 2200 and call 2400 (hit ratio: 32%)\n",
      "cost: 0.007 / value: 0.017, benefit/cost = 2.5x\n",
      "($) cost: 15.95 / value: 39.13, average gain = 23.18\n",
      "-------------------------------\n",
      "trading put 2150 and call 2450 (hit ratio: 21%)\n",
      "cost: 0.004 / value: 0.010, benefit/cost = 3.0x\n",
      "($) cost: 8.09 / value: 24.26, average gain = 16.17\n",
      "-------------------------------\n",
      "trading put 2100 and call 2500 (hit ratio: 14%)\n",
      "cost: 0.002 / value: 0.007, benefit/cost = 3.0x\n",
      "($) cost: 5.08 / value: 15.10, average gain = 10.01\n"
     ]
    },
    {
     "data": {
      "text/plain": [
       "[{'put': 2200.0, 'call': 2400.0, 'quantity': 1},\n",
       " {'put': 2150.0, 'call': 2450.0, 'quantity': 2}]"
      ]
     },
     "execution_count": 6,
     "metadata": {},
     "output_type": "execute_result"
    }
   ],
   "source": [
    "target_period_hours = 3 * 24\n",
    "strikes_universe_size = 4\n",
    "CUT_OFF_YEAR_MONTH = (2022, 1)\n",
    "\n",
    "instrument_code = BINANCE_SYMBOL[:3]\n",
    "\n",
    "headers = {\"Content-Type\": \"application/json\"}\n",
    "base_url = \"https://www.deribit.com/api/v2/public\"\n",
    "\n",
    "trading_model = optionspricing.TradingModel(base_url, headers, instrument_code, target_period_hours)\n",
    "trading_model.cutoff_year_month(CUT_OFF_YEAR_MONTH)\n",
    "target_expiry = trading_model.target_expiry\n",
    "underlying_price = trading_model.underlying_price\n",
    "remaining_hours = trading_model.remaining_hours\n",
    "\n",
    "simulation = trading_model.evaluate(prices_df, strikes_universe_size)\n",
    "print(simulation)\n",
    "simulation.allocate([1, 2], 1500. * 2./100.)"
   ]
  },
  {
   "cell_type": "code",
   "execution_count": 7,
   "metadata": {
    "ExecuteTime": {
     "end_time": "2024-01-29T10:28:53.839639Z",
     "start_time": "2024-01-29T10:28:53.814899Z"
    },
    "id": "Nwr0Hlj75SMV",
    "outputId": "430484f0-9bd3-4b6e-e0da-5c9891594905"
   },
   "outputs": [
    {
     "data": {
      "text/html": [
       "<div>\n",
       "<style scoped>\n",
       "    .dataframe tbody tr th:only-of-type {\n",
       "        vertical-align: middle;\n",
       "    }\n",
       "\n",
       "    .dataframe tbody tr th {\n",
       "        vertical-align: top;\n",
       "    }\n",
       "\n",
       "    .dataframe thead th {\n",
       "        text-align: right;\n",
       "    }\n",
       "</style>\n",
       "<table border=\"1\" class=\"dataframe\">\n",
       "  <thead>\n",
       "    <tr style=\"text-align: right;\">\n",
       "      <th></th>\n",
       "      <th>value_call</th>\n",
       "      <th>value_call_pct</th>\n",
       "      <th>call_ask</th>\n",
       "      <th>value_put</th>\n",
       "      <th>value_put_pct</th>\n",
       "      <th>put_ask</th>\n",
       "    </tr>\n",
       "    <tr>\n",
       "      <th>strike</th>\n",
       "      <th></th>\n",
       "      <th></th>\n",
       "      <th></th>\n",
       "      <th></th>\n",
       "      <th></th>\n",
       "      <th></th>\n",
       "    </tr>\n",
       "  </thead>\n",
       "  <tbody>\n",
       "    <tr>\n",
       "      <th>2100.0</th>\n",
       "      <td>218.636304</td>\n",
       "      <td>NaN</td>\n",
       "      <td>1.0000</td>\n",
       "      <td>7.641673</td>\n",
       "      <td>0.003307</td>\n",
       "      <td>0.0008</td>\n",
       "    </tr>\n",
       "    <tr>\n",
       "      <th>2150.0</th>\n",
       "      <td>172.949599</td>\n",
       "      <td>NaN</td>\n",
       "      <td>1.0000</td>\n",
       "      <td>11.954968</td>\n",
       "      <td>0.005173</td>\n",
       "      <td>0.0013</td>\n",
       "    </tr>\n",
       "    <tr>\n",
       "      <th>2200.0</th>\n",
       "      <td>129.374657</td>\n",
       "      <td>NaN</td>\n",
       "      <td>0.0525</td>\n",
       "      <td>18.380027</td>\n",
       "      <td>0.007953</td>\n",
       "      <td>0.0026</td>\n",
       "    </tr>\n",
       "    <tr>\n",
       "      <th>2250.0</th>\n",
       "      <td>89.684222</td>\n",
       "      <td>NaN</td>\n",
       "      <td>0.0360</td>\n",
       "      <td>28.689592</td>\n",
       "      <td>0.012414</td>\n",
       "      <td>0.0055</td>\n",
       "    </tr>\n",
       "    <tr>\n",
       "      <th>2300.0</th>\n",
       "      <td>56.909161</td>\n",
       "      <td>NaN</td>\n",
       "      <td>0.0185</td>\n",
       "      <td>45.914531</td>\n",
       "      <td>0.019868</td>\n",
       "      <td>0.0120</td>\n",
       "    </tr>\n",
       "    <tr>\n",
       "      <th>2350.0</th>\n",
       "      <td>34.724747</td>\n",
       "      <td>0.015026</td>\n",
       "      <td>0.0090</td>\n",
       "      <td>73.730116</td>\n",
       "      <td>NaN</td>\n",
       "      <td>0.0250</td>\n",
       "    </tr>\n",
       "    <tr>\n",
       "      <th>2400.0</th>\n",
       "      <td>20.747206</td>\n",
       "      <td>0.008978</td>\n",
       "      <td>0.0043</td>\n",
       "      <td>109.752575</td>\n",
       "      <td>NaN</td>\n",
       "      <td>0.0450</td>\n",
       "    </tr>\n",
       "    <tr>\n",
       "      <th>2450.0</th>\n",
       "      <td>12.302602</td>\n",
       "      <td>0.005324</td>\n",
       "      <td>0.0022</td>\n",
       "      <td>151.307971</td>\n",
       "      <td>NaN</td>\n",
       "      <td>0.0650</td>\n",
       "    </tr>\n",
       "    <tr>\n",
       "      <th>2500.0</th>\n",
       "      <td>7.453503</td>\n",
       "      <td>0.003225</td>\n",
       "      <td>0.0014</td>\n",
       "      <td>196.458873</td>\n",
       "      <td>NaN</td>\n",
       "      <td>0.0855</td>\n",
       "    </tr>\n",
       "  </tbody>\n",
       "</table>\n",
       "</div>"
      ],
      "text/plain": [
       "        value_call  value_call_pct  call_ask   value_put  value_put_pct  \\\n",
       "strike                                                                    \n",
       "2100.0  218.636304             NaN    1.0000    7.641673       0.003307   \n",
       "2150.0  172.949599             NaN    1.0000   11.954968       0.005173   \n",
       "2200.0  129.374657             NaN    0.0525   18.380027       0.007953   \n",
       "2250.0   89.684222             NaN    0.0360   28.689592       0.012414   \n",
       "2300.0   56.909161             NaN    0.0185   45.914531       0.019868   \n",
       "2350.0   34.724747        0.015026    0.0090   73.730116            NaN   \n",
       "2400.0   20.747206        0.008978    0.0043  109.752575            NaN   \n",
       "2450.0   12.302602        0.005324    0.0022  151.307971            NaN   \n",
       "2500.0    7.453503        0.003225    0.0014  196.458873            NaN   \n",
       "\n",
       "        put_ask  \n",
       "strike           \n",
       "2100.0   0.0008  \n",
       "2150.0   0.0013  \n",
       "2200.0   0.0026  \n",
       "2250.0   0.0055  \n",
       "2300.0   0.0120  \n",
       "2350.0   0.0250  \n",
       "2400.0   0.0450  \n",
       "2450.0   0.0650  \n",
       "2500.0   0.0855  "
      ]
     },
     "execution_count": 7,
     "metadata": {},
     "output_type": "execute_result"
    }
   ],
   "source": [
    "simulation.options_chain"
   ]
  },
  {
   "cell_type": "code",
   "execution_count": 3,
   "metadata": {
    "ExecuteTime": {
     "end_time": "2024-01-27T08:01:21.174652Z",
     "start_time": "2024-01-27T08:01:21.143165Z"
    },
    "collapsed": false
   },
   "outputs": [],
   "source": []
  }
 ],
 "metadata": {
  "colab": {
   "provenance": []
  },
  "kernelspec": {
   "display_name": "Python 3 (ipykernel)",
   "language": "python",
   "name": "python3"
  },
  "language_info": {
   "codemirror_mode": {
    "name": "ipython",
    "version": 3
   },
   "file_extension": ".py",
   "mimetype": "text/x-python",
   "name": "python",
   "nbconvert_exporter": "python",
   "pygments_lexer": "ipython3",
   "version": "3.12.1"
  }
 },
 "nbformat": 4,
 "nbformat_minor": 4
}
