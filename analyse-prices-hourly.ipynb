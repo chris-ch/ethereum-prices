{
 "cells": [
  {
   "cell_type": "code",
   "execution_count": 1,
   "metadata": {
    "ExecuteTime": {
     "end_time": "2023-10-24T00:58:07.533317Z",
     "start_time": "2023-10-24T00:58:00.419011Z"
    },
    "colab": {
     "base_uri": "https://localhost:8080/"
    },
    "id": "4kMo6W1p5SMO",
    "outputId": "e249ee53-b2a5-4724-efdc-392594676e02"
   },
   "outputs": [
    {
     "name": "stdout",
     "output_type": "stream",
     "text": [
      "Requirement already satisfied: pip in ./.venv/lib/python3.11/site-packages (23.3.1)\n",
      "Requirement already satisfied: python-binance in ./.venv/lib/python3.11/site-packages (1.0.19)\n",
      "Requirement already satisfied: requests in ./.venv/lib/python3.11/site-packages (from python-binance) (2.31.0)\n",
      "Requirement already satisfied: six in ./.venv/lib/python3.11/site-packages (from python-binance) (1.16.0)\n",
      "Requirement already satisfied: dateparser in ./.venv/lib/python3.11/site-packages (from python-binance) (1.2.0)\n",
      "Requirement already satisfied: aiohttp in ./.venv/lib/python3.11/site-packages (from python-binance) (3.9.0)\n",
      "Requirement already satisfied: ujson in ./.venv/lib/python3.11/site-packages (from python-binance) (5.8.0)\n",
      "Requirement already satisfied: websockets in ./.venv/lib/python3.11/site-packages (from python-binance) (12.0)\n",
      "Requirement already satisfied: pycryptodome in ./.venv/lib/python3.11/site-packages (from python-binance) (3.19.0)\n",
      "Requirement already satisfied: attrs>=17.3.0 in ./.venv/lib/python3.11/site-packages (from aiohttp->python-binance) (23.1.0)\n",
      "Requirement already satisfied: multidict<7.0,>=4.5 in ./.venv/lib/python3.11/site-packages (from aiohttp->python-binance) (6.0.4)\n",
      "Requirement already satisfied: yarl<2.0,>=1.0 in ./.venv/lib/python3.11/site-packages (from aiohttp->python-binance) (1.9.3)\n",
      "Requirement already satisfied: frozenlist>=1.1.1 in ./.venv/lib/python3.11/site-packages (from aiohttp->python-binance) (1.4.0)\n",
      "Requirement already satisfied: aiosignal>=1.1.2 in ./.venv/lib/python3.11/site-packages (from aiohttp->python-binance) (1.3.1)\n",
      "Requirement already satisfied: python-dateutil in ./.venv/lib/python3.11/site-packages (from dateparser->python-binance) (2.8.2)\n",
      "Requirement already satisfied: pytz in ./.venv/lib/python3.11/site-packages (from dateparser->python-binance) (2023.3.post1)\n",
      "Requirement already satisfied: regex!=2019.02.19,!=2021.8.27 in ./.venv/lib/python3.11/site-packages (from dateparser->python-binance) (2023.10.3)\n",
      "Requirement already satisfied: tzlocal in ./.venv/lib/python3.11/site-packages (from dateparser->python-binance) (5.2)\n",
      "Requirement already satisfied: charset-normalizer<4,>=2 in ./.venv/lib/python3.11/site-packages (from requests->python-binance) (3.3.2)\n",
      "Requirement already satisfied: idna<4,>=2.5 in ./.venv/lib/python3.11/site-packages (from requests->python-binance) (3.4)\n",
      "Requirement already satisfied: urllib3<3,>=1.21.1 in ./.venv/lib/python3.11/site-packages (from requests->python-binance) (2.1.0)\n",
      "Requirement already satisfied: certifi>=2017.4.17 in ./.venv/lib/python3.11/site-packages (from requests->python-binance) (2023.11.17)\n",
      "Requirement already satisfied: data_cache in ./.venv/lib/python3.11/site-packages (0.1.6)\n",
      "Requirement already satisfied: h5py in ./.venv/lib/python3.11/site-packages (from data_cache) (3.10.0)\n",
      "Requirement already satisfied: numpy in ./.venv/lib/python3.11/site-packages (from data_cache) (1.26.2)\n",
      "Requirement already satisfied: pandas in ./.venv/lib/python3.11/site-packages (from data_cache) (2.1.3)\n",
      "Requirement already satisfied: tables in ./.venv/lib/python3.11/site-packages (from data_cache) (3.9.1)\n",
      "Requirement already satisfied: python-dateutil>=2.8.2 in ./.venv/lib/python3.11/site-packages (from pandas->data_cache) (2.8.2)\n",
      "Requirement already satisfied: pytz>=2020.1 in ./.venv/lib/python3.11/site-packages (from pandas->data_cache) (2023.3.post1)\n",
      "Requirement already satisfied: tzdata>=2022.1 in ./.venv/lib/python3.11/site-packages (from pandas->data_cache) (2023.3)\n",
      "Requirement already satisfied: numexpr>=2.6.2 in ./.venv/lib/python3.11/site-packages (from tables->data_cache) (2.8.7)\n",
      "Requirement already satisfied: packaging in ./.venv/lib/python3.11/site-packages (from tables->data_cache) (23.2)\n",
      "Requirement already satisfied: py-cpuinfo in ./.venv/lib/python3.11/site-packages (from tables->data_cache) (9.0.0)\n",
      "Requirement already satisfied: blosc2>=2.2.8 in ./.venv/lib/python3.11/site-packages (from tables->data_cache) (2.3.1)\n",
      "Requirement already satisfied: ndindex>=1.4 in ./.venv/lib/python3.11/site-packages (from blosc2>=2.2.8->tables->data_cache) (1.7)\n",
      "Requirement already satisfied: msgpack in ./.venv/lib/python3.11/site-packages (from blosc2>=2.2.8->tables->data_cache) (1.0.7)\n",
      "Requirement already satisfied: six>=1.5 in ./.venv/lib/python3.11/site-packages (from python-dateutil>=2.8.2->pandas->data_cache) (1.16.0)\n"
     ]
    }
   ],
   "source": [
    "!pip install --upgrade pip\n",
    "!pip install python-binance"
   ]
  },
  {
   "cell_type": "markdown",
   "metadata": {
    "collapsed": false,
    "id": "h-A4kPps5SMQ"
   },
   "source": [
    "# Option valuation model based on historical prices"
   ]
  },
  {
   "cell_type": "code",
   "execution_count": 1,
   "metadata": {
    "colab": {
     "base_uri": "https://localhost:8080/",
     "height": 443
    },
    "id": "nxChr0ny5SMS",
    "outputId": "2a84f330-be20-4baf-edb1-95e8b7d4f4ab",
    "ExecuteTime": {
     "end_time": "2024-01-26T08:09:43.010344Z",
     "start_time": "2024-01-26T08:09:40.969579Z"
    }
   },
   "outputs": [
    {
     "name": "stdout",
     "output_type": "stream",
     "text": [
      "\n",
      "loading 2014 ............\n",
      "loading 2015 ............\n",
      "loading 2016 ............\n",
      "loading 2017 ............\n",
      "loading 2018 ............\n",
      "loading 2019 ............\n",
      "loading 2020 ............\n",
      "loading 2021 ............\n",
      "loading 2022 ............\n",
      "loading 2023 ............\n",
      "loading 2024 \n",
      "interrupting at 2024/01\n"
     ]
    }
   ],
   "source": [
    "import importlib.util\n",
    "import os\n",
    "google_colab_spec = importlib.util.find_spec(\"google\") and importlib.util.find_spec(\"google.colab\")\n",
    "if google_colab_spec:\n",
    "    from google.colab import drive\n",
    "    drive.mount('/content/drive', force_remount=True)\n",
    "    path = '/content/drive/MyDrive/Colab Notebooks/Ethereum Prices'\n",
    "else:\n",
    "    path = f'{os.environ[\"HOME\"]}/Library/CloudStorage/GoogleDrive-chris.perso@gmail.com/My Drive/Colab Notebooks/Ethereum Prices'\n",
    "    \n",
    "os.environ['CACHE_PATH'] = path\n",
    "os.environ['DISABLE_CACHE'] = 'FALSE'\n",
    "\n",
    "from datetime import timezone\n",
    "\n",
    "import optionspricing\n",
    "import binanceprices\n",
    "\n",
    "COUNT_YEARS = 10\n",
    "BINANCE_DATETIME_FORMAT = \"%Y-%m-%d %H-%M-%S\"\n",
    "BINANCE_SYMBOL = 'ETHUSDT'\n",
    "\n",
    "prices_df = binanceprices.load_prices(path, BINANCE_SYMBOL, COUNT_YEARS)\n"
   ]
  },
  {
   "cell_type": "markdown",
   "metadata": {
    "id": "-cJhFZGk5SMS"
   },
   "source": [
    "## Option valuation model: input parameters here"
   ]
  },
  {
   "cell_type": "code",
   "outputs": [],
   "source": [
    "target_period_hours = 1 * 24 + 6\n",
    "strikes_universe_size = 4\n",
    "CUT_OFF_YEAR_MONTH = (2021, 7)\n",
    "\n",
    "instrument_code = BINANCE_SYMBOL[:3]\n",
    "\n",
    "headers = {\"Content-Type\": \"application/json\"}\n",
    "base_url = 'https://www.deribit.com/api/v2/public'\n",
    "\n",
    "trading_model = optionspricing.TradingModel(base_url, headers, instrument_code, target_period_hours)\n",
    "trading_model.cutoff_year_month(CUT_OFF_YEAR_MONTH)\n",
    "\n",
    "puts = trading_model.puts\n",
    "calls = trading_model.calls\n",
    "target_expiry = trading_model.target_expiry\n",
    "strikes = trading_model.strikes\n",
    "current_price = trading_model.underlying_price\n",
    "remaining_hours = trading_model.remaining_hours\n",
    "\n",
    "option_chain_df = trading_model.evaluate(prices_df, strikes_universe_size)"
   ],
   "metadata": {
    "collapsed": false,
    "ExecuteTime": {
     "end_time": "2024-01-26T08:09:47.101330Z",
     "start_time": "2024-01-26T08:09:44.917863Z"
    }
   },
   "execution_count": 2
  },
  {
   "cell_type": "code",
   "outputs": [
    {
     "name": "stdout",
     "output_type": "stream",
     "text": [
      "target expiry: 2024-01-27 08:00:00+00:00 (24 hours left)\n",
      "current price: 2200.21\n",
      "trading put 2125 and call 2275\n",
      "cost: 0.003 / value: 0.008, benefit/cost = 2.8x\n",
      "($) cost: 6.16 / value: 16.98, average gain = 10.82\n"
     ]
    },
    {
     "data": {
      "text/plain": "        value_call   value_put  value_call_median  value_put_median  \\\nstrike                                                                \n2100.0  107.427638    5.443590         100.387122          0.000000   \n2125.0   85.105246    8.121198          75.387122          0.000000   \n2150.0   64.199165   12.215117          50.387122          0.000000   \n2175.0   45.500949   18.516901          25.387122          0.000000   \n2200.0   30.374269   28.390221           0.387122          0.000000   \n2225.0   20.248164   43.264116           0.000000         24.612878   \n2250.0   13.505781   61.521733           0.000000         49.612878   \n2275.0    8.858014   81.873966           0.000000         74.612878   \n2300.0    5.705778  103.721730           0.000000         99.612878   \n\n        value_call_pct  call_ask  value_put_pct  put_ask  \nstrike                                                    \n2100.0             NaN    0.0525       0.002474   0.0010  \n2125.0             NaN    0.0440       0.003691   0.0015  \n2150.0             NaN    0.0290       0.005552   0.0029  \n2175.0             NaN    0.0175       0.008416   0.0050  \n2200.0             NaN    0.0090       0.012903   0.0085  \n2225.0        0.009203    0.0044            NaN   0.0200  \n2250.0        0.006138    0.0023            NaN   0.0300  \n2275.0        0.004026    0.0013            NaN      NaN  \n2300.0        0.002593    0.0007            NaN      NaN  ",
      "text/html": "<div>\n<style scoped>\n    .dataframe tbody tr th:only-of-type {\n        vertical-align: middle;\n    }\n\n    .dataframe tbody tr th {\n        vertical-align: top;\n    }\n\n    .dataframe thead th {\n        text-align: right;\n    }\n</style>\n<table border=\"1\" class=\"dataframe\">\n  <thead>\n    <tr style=\"text-align: right;\">\n      <th></th>\n      <th>value_call</th>\n      <th>value_put</th>\n      <th>value_call_median</th>\n      <th>value_put_median</th>\n      <th>value_call_pct</th>\n      <th>call_ask</th>\n      <th>value_put_pct</th>\n      <th>put_ask</th>\n    </tr>\n    <tr>\n      <th>strike</th>\n      <th></th>\n      <th></th>\n      <th></th>\n      <th></th>\n      <th></th>\n      <th></th>\n      <th></th>\n      <th></th>\n    </tr>\n  </thead>\n  <tbody>\n    <tr>\n      <th>2100.0</th>\n      <td>107.427638</td>\n      <td>5.443590</td>\n      <td>100.387122</td>\n      <td>0.000000</td>\n      <td>NaN</td>\n      <td>0.0525</td>\n      <td>0.002474</td>\n      <td>0.0010</td>\n    </tr>\n    <tr>\n      <th>2125.0</th>\n      <td>85.105246</td>\n      <td>8.121198</td>\n      <td>75.387122</td>\n      <td>0.000000</td>\n      <td>NaN</td>\n      <td>0.0440</td>\n      <td>0.003691</td>\n      <td>0.0015</td>\n    </tr>\n    <tr>\n      <th>2150.0</th>\n      <td>64.199165</td>\n      <td>12.215117</td>\n      <td>50.387122</td>\n      <td>0.000000</td>\n      <td>NaN</td>\n      <td>0.0290</td>\n      <td>0.005552</td>\n      <td>0.0029</td>\n    </tr>\n    <tr>\n      <th>2175.0</th>\n      <td>45.500949</td>\n      <td>18.516901</td>\n      <td>25.387122</td>\n      <td>0.000000</td>\n      <td>NaN</td>\n      <td>0.0175</td>\n      <td>0.008416</td>\n      <td>0.0050</td>\n    </tr>\n    <tr>\n      <th>2200.0</th>\n      <td>30.374269</td>\n      <td>28.390221</td>\n      <td>0.387122</td>\n      <td>0.000000</td>\n      <td>NaN</td>\n      <td>0.0090</td>\n      <td>0.012903</td>\n      <td>0.0085</td>\n    </tr>\n    <tr>\n      <th>2225.0</th>\n      <td>20.248164</td>\n      <td>43.264116</td>\n      <td>0.000000</td>\n      <td>24.612878</td>\n      <td>0.009203</td>\n      <td>0.0044</td>\n      <td>NaN</td>\n      <td>0.0200</td>\n    </tr>\n    <tr>\n      <th>2250.0</th>\n      <td>13.505781</td>\n      <td>61.521733</td>\n      <td>0.000000</td>\n      <td>49.612878</td>\n      <td>0.006138</td>\n      <td>0.0023</td>\n      <td>NaN</td>\n      <td>0.0300</td>\n    </tr>\n    <tr>\n      <th>2275.0</th>\n      <td>8.858014</td>\n      <td>81.873966</td>\n      <td>0.000000</td>\n      <td>74.612878</td>\n      <td>0.004026</td>\n      <td>0.0013</td>\n      <td>NaN</td>\n      <td>NaN</td>\n    </tr>\n    <tr>\n      <th>2300.0</th>\n      <td>5.705778</td>\n      <td>103.721730</td>\n      <td>0.000000</td>\n      <td>99.612878</td>\n      <td>0.002593</td>\n      <td>0.0007</td>\n      <td>NaN</td>\n      <td>NaN</td>\n    </tr>\n  </tbody>\n</table>\n</div>"
     },
     "execution_count": 3,
     "metadata": {},
     "output_type": "execute_result"
    }
   ],
   "source": [
    "#\n",
    "index_put = strikes_universe_size - 3\n",
    "index_call = strikes_universe_size + 3\n",
    "#\n",
    "cost, value = (option_chain_df.iloc[index_put]['put_ask'] + option_chain_df.iloc[index_call]['call_ask'], \n",
    " option_chain_df.iloc[index_put]['value_put_pct'] + option_chain_df.iloc[index_call]['value_call_pct']\n",
    ")\n",
    "print(f'target expiry: {target_expiry.astimezone(timezone.utc)} ({remaining_hours} hours left)')\n",
    "print(f'current price: {current_price}')\n",
    "print(f'trading put {option_chain_df.iloc[index_put].name:.0f} and call {option_chain_df.iloc[index_call].name:.0f}')\n",
    "print(f'cost: {cost:.3f} / value: {value:.3f}, benefit/cost = {value / cost:.1f}x')\n",
    "print(f'($) cost: {cost * current_price:.2f} / value: {value * current_price:.2f}, average gain = {(value - cost) * current_price:.2f}')\n",
    "\n",
    "option_chain_df"
   ],
   "metadata": {
    "id": "Nwr0Hlj75SMV",
    "outputId": "430484f0-9bd3-4b6e-e0da-5c9891594905",
    "ExecuteTime": {
     "end_time": "2024-01-26T08:09:47.135084Z",
     "start_time": "2024-01-26T08:09:47.116480Z"
    }
   },
   "execution_count": 3
  },
  {
   "cell_type": "code",
   "outputs": [],
   "source": [],
   "metadata": {
    "collapsed": false
   }
  }
 ],
 "metadata": {
  "colab": {
   "provenance": []
  },
  "kernelspec": {
   "display_name": "Python 3 (ipykernel)",
   "language": "python",
   "name": "python3"
  },
  "language_info": {
   "codemirror_mode": {
    "name": "ipython",
    "version": 3
   },
   "file_extension": ".py",
   "mimetype": "text/x-python",
   "name": "python",
   "nbconvert_exporter": "python",
   "pygments_lexer": "ipython3",
   "version": "3.12.1"
  }
 },
 "nbformat": 4,
 "nbformat_minor": 4
}
