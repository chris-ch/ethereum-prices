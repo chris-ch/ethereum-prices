{
 "cells": [
  {
   "cell_type": "code",
   "execution_count": 8,
   "metadata": {
    "ExecuteTime": {
     "end_time": "2024-01-26T18:27:29.737820Z",
     "start_time": "2024-01-26T18:27:16.798494Z"
    },
    "colab": {
     "base_uri": "https://localhost:8080/"
    },
    "id": "4kMo6W1p5SMO",
    "outputId": "e249ee53-b2a5-4724-efdc-392594676e02"
   },
   "outputs": [
    {
     "name": "stdout",
     "output_type": "stream",
     "text": [
      "\u001b[34mUpdating dependencies\u001b[39m\n",
      "\u001b[2K\u001b[34mResolving dependencies...\u001b[39m \u001b[39;2m(9.0s)\u001b[39;22m\n",
      "\n",
      "No dependencies to install or update\n"
     ]
    }
   ],
   "source": [
    "!bash --login -c \"poetry update\""
   ]
  },
  {
   "cell_type": "markdown",
   "metadata": {
    "collapsed": false,
    "id": "h-A4kPps5SMQ"
   },
   "source": [
    "# Option valuation model based on historical prices"
   ]
  },
  {
   "cell_type": "markdown",
   "metadata": {},
   "source": [
    "This code assumes `aws configure` has been run in the environment of the notebook."
   ]
  },
  {
   "cell_type": "code",
   "execution_count": 1,
   "metadata": {
    "ExecuteTime": {
     "end_time": "2024-01-28T09:44:12.952782Z",
     "start_time": "2024-01-28T09:44:10.909325Z"
    },
    "colab": {
     "base_uri": "https://localhost:8080/",
     "height": 443
    },
    "id": "nxChr0ny5SMS",
    "outputId": "2a84f330-be20-4baf-edb1-95e8b7d4f4ab"
   },
   "outputs": [],
   "source": [
    "import optionspricing\n",
    "import boto3\n",
    "import helpers\n",
    "import pandas\n",
    "from dotenv import load_dotenv\n",
    "\n",
    "load_dotenv()\n",
    "\n",
    "BINANCE_SYMBOL = 'ETHUSDT'\n",
    "\n",
    "s3 = boto3.resource('s3')\n",
    "\n",
    "data_file = helpers.fetch_object(s3, \"test-binance-prices-255120844515\", f\"{BINANCE_SYMBOL}-full.csv.zip\")\n",
    "prices_df = pandas.read_csv(data_file, compression='zip', header=0, index_col=\"dateTime\")\n",
    "prices_df.index = pandas.to_datetime(prices_df.index)"
   ]
  },
  {
   "cell_type": "markdown",
   "metadata": {
    "id": "-cJhFZGk5SMS"
   },
   "source": [
    "## Option valuation model: input parameters here"
   ]
  },
  {
   "cell_type": "code",
   "execution_count": 2,
   "metadata": {
    "ExecuteTime": {
     "end_time": "2024-01-29T10:28:52.874110Z",
     "start_time": "2024-01-29T10:28:49.030564Z"
    },
    "collapsed": false
   },
   "outputs": [
    {
     "name": "stderr",
     "output_type": "stream",
     "text": [
      "WARNING:root:calling option chain: https://www.deribit.com/api/v2/public/get_instruments?currency=ETH&kind=option&expired=false\n"
     ]
    },
    {
     "name": "stdout",
     "output_type": "stream",
     "text": [
      "target expiry: Sun 10 Mar, 08:00 (63 hours left)\n",
      "current price: 3864.93\n",
      "-------------------------------\n",
      "trading put 3850 and call 3900 (hit ratio: 39%)\n",
      "cost: 0.041 / value: 0.045, benefit/cost = 1.1x\n",
      "($) cost: 160.39 / value: 172.48, average gain = 12.08\n",
      "-------------------------------\n",
      "trading put 3825 and call 3925 (hit ratio: 38%)\n",
      "cost: 0.036 / value: 0.039, benefit/cost = 1.1x\n",
      "($) cost: 137.21 / value: 151.77, average gain = 14.56\n",
      "-------------------------------\n",
      "trading put 3800 and call 3950 (hit ratio: 37%)\n",
      "cost: 0.031 / value: 0.035, benefit/cost = 1.1x\n",
      "($) cost: 119.81 / value: 133.49, average gain = 13.67\n",
      "-------------------------------\n",
      "trading put 3775 and call 3975 (hit ratio: 35%)\n",
      "cost: 0.027 / value: 0.030, benefit/cost = 1.1x\n",
      "($) cost: 104.35 / value: 117.37, average gain = 13.01\n"
     ]
    },
    {
     "data": {
      "text/plain": [
       "[{'put': 3825.0, 'call': 3925.0, 'quantity': 0},\n",
       " {'put': 3800.0, 'call': 3950.0, 'quantity': 0}]"
      ]
     },
     "execution_count": 2,
     "metadata": {},
     "output_type": "execute_result"
    }
   ],
   "source": [
    "target_period_hours = 3 * 24\n",
    "strikes_universe_size = 4\n",
    "CUT_OFF_YEAR_MONTH = (2020, 1)\n",
    "\n",
    "instrument_code = BINANCE_SYMBOL[:3]\n",
    "\n",
    "headers = {\"Content-Type\": \"application/json\"}\n",
    "base_url = \"https://www.deribit.com/api/v2/public\"\n",
    "\n",
    "trading_model = optionspricing.TradingModel(base_url, headers, instrument_code, target_period_hours)\n",
    "trading_model.cutoff_year_month(CUT_OFF_YEAR_MONTH)\n",
    "target_expiry = trading_model.target_expiry\n",
    "underlying_price = trading_model.underlying_price\n",
    "remaining_hours = trading_model.remaining_hours\n",
    "\n",
    "option_chain_df = trading_model.evaluate(prices_df, strikes_universe_size)\n",
    "simulation = trading_model.simulate_strategy_long_straddle(option_chain_df, strikes_universe_size)\n",
    "print(simulation)\n",
    "simulation.allocate([1, 2], 1500. * 2./100.)"
   ]
  },
  {
   "cell_type": "code",
   "execution_count": 61,
   "metadata": {
    "ExecuteTime": {
     "end_time": "2024-01-29T10:28:53.839639Z",
     "start_time": "2024-01-29T10:28:53.814899Z"
    },
    "id": "Nwr0Hlj75SMV",
    "outputId": "430484f0-9bd3-4b6e-e0da-5c9891594905"
   },
   "outputs": [
    {
     "data": {
      "text/html": [
       "<div>\n",
       "<style scoped>\n",
       "    .dataframe tbody tr th:only-of-type {\n",
       "        vertical-align: middle;\n",
       "    }\n",
       "\n",
       "    .dataframe tbody tr th {\n",
       "        vertical-align: top;\n",
       "    }\n",
       "\n",
       "    .dataframe thead th {\n",
       "        text-align: right;\n",
       "    }\n",
       "</style>\n",
       "<table border=\"1\" class=\"dataframe\">\n",
       "  <thead>\n",
       "    <tr style=\"text-align: right;\">\n",
       "      <th></th>\n",
       "      <th>value_call</th>\n",
       "      <th>value_call_pct</th>\n",
       "      <th>call_bid</th>\n",
       "      <th>call_ask</th>\n",
       "      <th>value_put</th>\n",
       "      <th>value_put_pct</th>\n",
       "      <th>put_bid</th>\n",
       "      <th>put_ask</th>\n",
       "    </tr>\n",
       "    <tr>\n",
       "      <th>strike</th>\n",
       "      <th></th>\n",
       "      <th></th>\n",
       "      <th></th>\n",
       "      <th></th>\n",
       "      <th></th>\n",
       "      <th></th>\n",
       "      <th></th>\n",
       "      <th></th>\n",
       "    </tr>\n",
       "  </thead>\n",
       "  <tbody>\n",
       "    <tr>\n",
       "      <th>3675.0</th>\n",
       "      <td>165.970299</td>\n",
       "      <td>NaN</td>\n",
       "      <td>0.0385</td>\n",
       "      <td>0.0445</td>\n",
       "      <td>36.721278</td>\n",
       "      <td>0.009715</td>\n",
       "      <td>0.0115</td>\n",
       "      <td>0.0120</td>\n",
       "    </tr>\n",
       "    <tr>\n",
       "      <th>3700.0</th>\n",
       "      <td>147.100489</td>\n",
       "      <td>NaN</td>\n",
       "      <td>0.0340</td>\n",
       "      <td>0.0400</td>\n",
       "      <td>42.851468</td>\n",
       "      <td>0.011337</td>\n",
       "      <td>0.0135</td>\n",
       "      <td>0.0145</td>\n",
       "    </tr>\n",
       "    <tr>\n",
       "      <th>3725.0</th>\n",
       "      <td>129.417127</td>\n",
       "      <td>NaN</td>\n",
       "      <td>0.0315</td>\n",
       "      <td>0.0340</td>\n",
       "      <td>50.168105</td>\n",
       "      <td>0.013273</td>\n",
       "      <td>0.0160</td>\n",
       "      <td>0.0170</td>\n",
       "    </tr>\n",
       "    <tr>\n",
       "      <th>3750.0</th>\n",
       "      <td>113.098046</td>\n",
       "      <td>NaN</td>\n",
       "      <td>0.0280</td>\n",
       "      <td>0.0305</td>\n",
       "      <td>58.849025</td>\n",
       "      <td>0.015569</td>\n",
       "      <td>0.0190</td>\n",
       "      <td>0.0200</td>\n",
       "    </tr>\n",
       "    <tr>\n",
       "      <th>3775.0</th>\n",
       "      <td>98.406021</td>\n",
       "      <td>NaN</td>\n",
       "      <td>0.0255</td>\n",
       "      <td>0.0265</td>\n",
       "      <td>69.157000</td>\n",
       "      <td>0.018297</td>\n",
       "      <td>0.0220</td>\n",
       "      <td>0.0235</td>\n",
       "    </tr>\n",
       "    <tr>\n",
       "      <th>3800.0</th>\n",
       "      <td>85.527160</td>\n",
       "      <td>0.022627</td>\n",
       "      <td>0.0225</td>\n",
       "      <td>0.0235</td>\n",
       "      <td>81.278139</td>\n",
       "      <td>NaN</td>\n",
       "      <td>0.0255</td>\n",
       "      <td>0.0270</td>\n",
       "    </tr>\n",
       "    <tr>\n",
       "      <th>3825.0</th>\n",
       "      <td>74.329739</td>\n",
       "      <td>0.019665</td>\n",
       "      <td>0.0195</td>\n",
       "      <td>0.0210</td>\n",
       "      <td>95.080717</td>\n",
       "      <td>NaN</td>\n",
       "      <td>0.0285</td>\n",
       "      <td>0.0315</td>\n",
       "    </tr>\n",
       "    <tr>\n",
       "      <th>3850.0</th>\n",
       "      <td>64.558905</td>\n",
       "      <td>0.017080</td>\n",
       "      <td>0.0170</td>\n",
       "      <td>0.0180</td>\n",
       "      <td>110.309884</td>\n",
       "      <td>NaN</td>\n",
       "      <td>0.0325</td>\n",
       "      <td>0.0355</td>\n",
       "    </tr>\n",
       "    <tr>\n",
       "      <th>3875.0</th>\n",
       "      <td>55.989082</td>\n",
       "      <td>0.014813</td>\n",
       "      <td>0.0150</td>\n",
       "      <td>0.0160</td>\n",
       "      <td>126.740061</td>\n",
       "      <td>NaN</td>\n",
       "      <td>0.0370</td>\n",
       "      <td>0.0405</td>\n",
       "    </tr>\n",
       "  </tbody>\n",
       "</table>\n",
       "</div>"
      ],
      "text/plain": [
       "        value_call  value_call_pct  call_bid  call_ask   value_put  \\\n",
       "strike                                                               \n",
       "3675.0  165.970299             NaN    0.0385    0.0445   36.721278   \n",
       "3700.0  147.100489             NaN    0.0340    0.0400   42.851468   \n",
       "3725.0  129.417127             NaN    0.0315    0.0340   50.168105   \n",
       "3750.0  113.098046             NaN    0.0280    0.0305   58.849025   \n",
       "3775.0   98.406021             NaN    0.0255    0.0265   69.157000   \n",
       "3800.0   85.527160        0.022627    0.0225    0.0235   81.278139   \n",
       "3825.0   74.329739        0.019665    0.0195    0.0210   95.080717   \n",
       "3850.0   64.558905        0.017080    0.0170    0.0180  110.309884   \n",
       "3875.0   55.989082        0.014813    0.0150    0.0160  126.740061   \n",
       "\n",
       "        value_put_pct  put_bid  put_ask  \n",
       "strike                                   \n",
       "3675.0       0.009715   0.0115   0.0120  \n",
       "3700.0       0.011337   0.0135   0.0145  \n",
       "3725.0       0.013273   0.0160   0.0170  \n",
       "3750.0       0.015569   0.0190   0.0200  \n",
       "3775.0       0.018297   0.0220   0.0235  \n",
       "3800.0            NaN   0.0255   0.0270  \n",
       "3825.0            NaN   0.0285   0.0315  \n",
       "3850.0            NaN   0.0325   0.0355  \n",
       "3875.0            NaN   0.0370   0.0405  "
      ]
     },
     "execution_count": 61,
     "metadata": {},
     "output_type": "execute_result"
    }
   ],
   "source": [
    "simulation.options_chain"
   ]
  },
  {
   "cell_type": "markdown",
   "metadata": {},
   "source": [
    "# Sanity checks"
   ]
  },
  {
   "cell_type": "code",
   "execution_count": 3,
   "metadata": {},
   "outputs": [
    {
     "data": {
      "text/plain": [
       "Index(['prices', 'period_close_series', 'strike_1', 'strike_pct_1',\n",
       "       'call_value_pct_1', 'put_value_pct_1', 'strike_2', 'strike_pct_2',\n",
       "       'call_value_pct_2', 'put_value_pct_2', 'strike_3', 'strike_pct_3',\n",
       "       'call_value_pct_3', 'put_value_pct_3', 'strike_4', 'strike_pct_4',\n",
       "       'call_value_pct_4', 'put_value_pct_4', 'strike_5', 'strike_pct_5',\n",
       "       'call_value_pct_5', 'put_value_pct_5', 'strike_6', 'strike_pct_6',\n",
       "       'call_value_pct_6', 'put_value_pct_6', 'strike_7', 'strike_pct_7',\n",
       "       'call_value_pct_7', 'put_value_pct_7', 'strike_8', 'strike_pct_8',\n",
       "       'call_value_pct_8', 'put_value_pct_8', 'strike_9', 'strike_pct_9',\n",
       "       'call_value_pct_9', 'put_value_pct_9'],\n",
       "      dtype='object')"
      ]
     },
     "execution_count": 3,
     "metadata": {},
     "output_type": "execute_result"
    }
   ],
   "source": [
    "trading_model.valuation.columns"
   ]
  }
 ],
 "metadata": {
  "colab": {
   "provenance": []
  },
  "kernelspec": {
   "display_name": "Python 3 (ipykernel)",
   "language": "python",
   "name": "python3"
  },
  "language_info": {
   "codemirror_mode": {
    "name": "ipython",
    "version": 3
   },
   "file_extension": ".py",
   "mimetype": "text/x-python",
   "name": "python",
   "nbconvert_exporter": "python",
   "pygments_lexer": "ipython3",
   "version": "3.12.1"
  }
 },
 "nbformat": 4,
 "nbformat_minor": 4
}
