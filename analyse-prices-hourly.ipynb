{
 "cells": [
  {
   "cell_type": "code",
   "execution_count": 8,
   "metadata": {
    "ExecuteTime": {
     "end_time": "2024-01-26T18:27:29.737820Z",
     "start_time": "2024-01-26T18:27:16.798494Z"
    },
    "colab": {
     "base_uri": "https://localhost:8080/"
    },
    "id": "4kMo6W1p5SMO",
    "outputId": "e249ee53-b2a5-4724-efdc-392594676e02"
   },
   "outputs": [
    {
     "name": "stdout",
     "output_type": "stream",
     "text": [
      "\u001b[34mUpdating dependencies\u001b[39m\n",
      "\u001b[2K\u001b[34mResolving dependencies...\u001b[39m \u001b[39;2m(9.0s)\u001b[39;22m\n",
      "\n",
      "No dependencies to install or update\n"
     ]
    }
   ],
   "source": [
    "!bash --login -c \"poetry update\""
   ]
  },
  {
   "cell_type": "markdown",
   "metadata": {
    "collapsed": false,
    "id": "h-A4kPps5SMQ"
   },
   "source": [
    "# Option valuation model based on historical prices"
   ]
  },
  {
   "cell_type": "markdown",
   "metadata": {},
   "source": [
    "This code assumes `aws configure` has been run in the environment of the notebook."
   ]
  },
  {
   "cell_type": "code",
   "execution_count": 1,
   "metadata": {
    "ExecuteTime": {
     "end_time": "2024-01-28T09:44:12.952782Z",
     "start_time": "2024-01-28T09:44:10.909325Z"
    },
    "colab": {
     "base_uri": "https://localhost:8080/",
     "height": 443
    },
    "id": "nxChr0ny5SMS",
    "outputId": "2a84f330-be20-4baf-edb1-95e8b7d4f4ab"
   },
   "outputs": [],
   "source": [
    "import optionspricing\n",
    "import boto3\n",
    "import helpers\n",
    "import pandas\n",
    "from dotenv import load_dotenv\n",
    "\n",
    "load_dotenv()\n",
    "\n",
    "BINANCE_SYMBOL = 'ETHUSDT'\n",
    "\n",
    "s3 = boto3.resource('s3')\n",
    "\n",
    "data_file = helpers.fetch_object(s3, \"test-binance-prices-255120844515\", f\"{BINANCE_SYMBOL}-full.csv.zip\")\n",
    "prices_df = pandas.read_csv(data_file, compression='zip', header=0, index_col=\"dateTime\")\n",
    "prices_df.index = pandas.to_datetime(prices_df.index)"
   ]
  },
  {
   "cell_type": "markdown",
   "metadata": {
    "id": "-cJhFZGk5SMS"
   },
   "source": [
    "## Option valuation model: input parameters here"
   ]
  },
  {
   "cell_type": "code",
   "execution_count": 9,
   "metadata": {
    "ExecuteTime": {
     "end_time": "2024-01-29T10:28:52.874110Z",
     "start_time": "2024-01-29T10:28:49.030564Z"
    },
    "collapsed": false
   },
   "outputs": [
    {
     "name": "stdout",
     "output_type": "stream",
     "text": [
      "target expiry: Sat 10 Feb, 08:00 (22 hours left)\n",
      "current price: 2468.45\n",
      "-------------------------------\n",
      "trading put 2450 and call 2500 (hit ratio: 40%)\n",
      "cost: 0.011 / value: 0.016, benefit/cost = 1.5x\n",
      "($) cost: 27.15 / value: 39.50, average gain = 12.35\n",
      "-------------------------------\n",
      "trading put 2425 and call 2525 (hit ratio: 33%)\n",
      "cost: 0.006 / value: 0.011, benefit/cost = 1.9x\n",
      "($) cost: 14.07 / value: 26.56, average gain = 12.49\n",
      "-------------------------------\n",
      "trading put 2400 and call 2550 (hit ratio: 24%)\n",
      "cost: 0.003 / value: 0.007, benefit/cost = 2.3x\n",
      "($) cost: 7.90 / value: 18.03, average gain = 10.13\n",
      "-------------------------------\n",
      "trading put 2375 and call 2575 (hit ratio: 17%)\n",
      "cost: 0.002 / value: 0.005, benefit/cost = 2.6x\n",
      "($) cost: 4.69 / value: 12.34, average gain = 7.65\n"
     ]
    },
    {
     "data": {
      "text/plain": [
       "[{'put': 2425.0, 'call': 2525.0, 'quantity': 1},\n",
       " {'put': 2400.0, 'call': 2550.0, 'quantity': 2}]"
      ]
     },
     "execution_count": 9,
     "metadata": {},
     "output_type": "execute_result"
    }
   ],
   "source": [
    "target_period_hours = 1 * 24\n",
    "strikes_universe_size = 4\n",
    "CUT_OFF_YEAR_MONTH = (2022, 1)\n",
    "\n",
    "instrument_code = BINANCE_SYMBOL[:3]\n",
    "\n",
    "headers = {\"Content-Type\": \"application/json\"}\n",
    "base_url = \"https://www.deribit.com/api/v2/public\"\n",
    "\n",
    "trading_model = optionspricing.TradingModel(base_url, headers, instrument_code, target_period_hours)\n",
    "trading_model.cutoff_year_month(CUT_OFF_YEAR_MONTH)\n",
    "target_expiry = trading_model.target_expiry\n",
    "underlying_price = trading_model.underlying_price\n",
    "remaining_hours = trading_model.remaining_hours\n",
    "\n",
    "simulation = trading_model.evaluate(prices_df, strikes_universe_size)\n",
    "print(simulation)\n",
    "simulation.allocate([1, 2], 1500. * 2./100.)"
   ]
  },
  {
   "cell_type": "code",
   "execution_count": 10,
   "metadata": {
    "ExecuteTime": {
     "end_time": "2024-01-29T10:28:53.839639Z",
     "start_time": "2024-01-29T10:28:53.814899Z"
    },
    "id": "Nwr0Hlj75SMV",
    "outputId": "430484f0-9bd3-4b6e-e0da-5c9891594905"
   },
   "outputs": [
    {
     "data": {
      "text/html": [
       "<div>\n",
       "<style scoped>\n",
       "    .dataframe tbody tr th:only-of-type {\n",
       "        vertical-align: middle;\n",
       "    }\n",
       "\n",
       "    .dataframe tbody tr th {\n",
       "        vertical-align: top;\n",
       "    }\n",
       "\n",
       "    .dataframe thead th {\n",
       "        text-align: right;\n",
       "    }\n",
       "</style>\n",
       "<table border=\"1\" class=\"dataframe\">\n",
       "  <thead>\n",
       "    <tr style=\"text-align: right;\">\n",
       "      <th></th>\n",
       "      <th>value_call</th>\n",
       "      <th>value_call_pct</th>\n",
       "      <th>call_bid</th>\n",
       "      <th>call_ask</th>\n",
       "      <th>value_put</th>\n",
       "      <th>value_put_pct</th>\n",
       "      <th>put_bid</th>\n",
       "      <th>put_ask</th>\n",
       "    </tr>\n",
       "    <tr>\n",
       "      <th>strike</th>\n",
       "      <th></th>\n",
       "      <th></th>\n",
       "      <th></th>\n",
       "      <th></th>\n",
       "      <th></th>\n",
       "      <th></th>\n",
       "      <th></th>\n",
       "      <th></th>\n",
       "    </tr>\n",
       "  </thead>\n",
       "  <tbody>\n",
       "    <tr>\n",
       "      <th>2375.0</th>\n",
       "      <td>100.330391</td>\n",
       "      <td>NaN</td>\n",
       "      <td>0.0310</td>\n",
       "      <td>0.0460</td>\n",
       "      <td>6.815877</td>\n",
       "      <td>0.002761</td>\n",
       "      <td>0.0005</td>\n",
       "      <td>0.0008</td>\n",
       "    </tr>\n",
       "    <tr>\n",
       "      <th>2400.0</th>\n",
       "      <td>78.369237</td>\n",
       "      <td>NaN</td>\n",
       "      <td>0.0280</td>\n",
       "      <td>0.0320</td>\n",
       "      <td>9.854723</td>\n",
       "      <td>0.003992</td>\n",
       "      <td>0.0010</td>\n",
       "      <td>0.0014</td>\n",
       "    </tr>\n",
       "    <tr>\n",
       "      <th>2425.0</th>\n",
       "      <td>57.988216</td>\n",
       "      <td>NaN</td>\n",
       "      <td>0.0190</td>\n",
       "      <td>0.0235</td>\n",
       "      <td>14.473702</td>\n",
       "      <td>0.005863</td>\n",
       "      <td>0.0022</td>\n",
       "      <td>0.0027</td>\n",
       "    </tr>\n",
       "    <tr>\n",
       "      <th>2450.0</th>\n",
       "      <td>40.171272</td>\n",
       "      <td>NaN</td>\n",
       "      <td>0.0130</td>\n",
       "      <td>0.0140</td>\n",
       "      <td>21.656757</td>\n",
       "      <td>0.008773</td>\n",
       "      <td>0.0049</td>\n",
       "      <td>0.0055</td>\n",
       "    </tr>\n",
       "    <tr>\n",
       "      <th>2475.0</th>\n",
       "      <td>26.552215</td>\n",
       "      <td>0.010757</td>\n",
       "      <td>0.0080</td>\n",
       "      <td>0.0090</td>\n",
       "      <td>33.037701</td>\n",
       "      <td>NaN</td>\n",
       "      <td>0.0095</td>\n",
       "      <td>0.0105</td>\n",
       "    </tr>\n",
       "    <tr>\n",
       "      <th>2500.0</th>\n",
       "      <td>17.841495</td>\n",
       "      <td>0.007228</td>\n",
       "      <td>0.0050</td>\n",
       "      <td>0.0055</td>\n",
       "      <td>49.326980</td>\n",
       "      <td>NaN</td>\n",
       "      <td>0.0140</td>\n",
       "      <td>0.0195</td>\n",
       "    </tr>\n",
       "    <tr>\n",
       "      <th>2525.0</th>\n",
       "      <td>12.084297</td>\n",
       "      <td>0.004896</td>\n",
       "      <td>0.0026</td>\n",
       "      <td>0.0030</td>\n",
       "      <td>68.569783</td>\n",
       "      <td>NaN</td>\n",
       "      <td>0.0055</td>\n",
       "      <td>NaN</td>\n",
       "    </tr>\n",
       "    <tr>\n",
       "      <th>2550.0</th>\n",
       "      <td>8.178931</td>\n",
       "      <td>0.003313</td>\n",
       "      <td>0.0014</td>\n",
       "      <td>0.0018</td>\n",
       "      <td>89.664416</td>\n",
       "      <td>NaN</td>\n",
       "      <td>0.0150</td>\n",
       "      <td>NaN</td>\n",
       "    </tr>\n",
       "    <tr>\n",
       "      <th>2575.0</th>\n",
       "      <td>5.523093</td>\n",
       "      <td>0.002237</td>\n",
       "      <td>0.0008</td>\n",
       "      <td>0.0011</td>\n",
       "      <td>112.008579</td>\n",
       "      <td>NaN</td>\n",
       "      <td>0.0255</td>\n",
       "      <td>NaN</td>\n",
       "    </tr>\n",
       "  </tbody>\n",
       "</table>\n",
       "</div>"
      ],
      "text/plain": [
       "        value_call  value_call_pct  call_bid  call_ask   value_put  \\\n",
       "strike                                                               \n",
       "2375.0  100.330391             NaN    0.0310    0.0460    6.815877   \n",
       "2400.0   78.369237             NaN    0.0280    0.0320    9.854723   \n",
       "2425.0   57.988216             NaN    0.0190    0.0235   14.473702   \n",
       "2450.0   40.171272             NaN    0.0130    0.0140   21.656757   \n",
       "2475.0   26.552215        0.010757    0.0080    0.0090   33.037701   \n",
       "2500.0   17.841495        0.007228    0.0050    0.0055   49.326980   \n",
       "2525.0   12.084297        0.004896    0.0026    0.0030   68.569783   \n",
       "2550.0    8.178931        0.003313    0.0014    0.0018   89.664416   \n",
       "2575.0    5.523093        0.002237    0.0008    0.0011  112.008579   \n",
       "\n",
       "        value_put_pct  put_bid  put_ask  \n",
       "strike                                   \n",
       "2375.0       0.002761   0.0005   0.0008  \n",
       "2400.0       0.003992   0.0010   0.0014  \n",
       "2425.0       0.005863   0.0022   0.0027  \n",
       "2450.0       0.008773   0.0049   0.0055  \n",
       "2475.0            NaN   0.0095   0.0105  \n",
       "2500.0            NaN   0.0140   0.0195  \n",
       "2525.0            NaN   0.0055      NaN  \n",
       "2550.0            NaN   0.0150      NaN  \n",
       "2575.0            NaN   0.0255      NaN  "
      ]
     },
     "execution_count": 10,
     "metadata": {},
     "output_type": "execute_result"
    }
   ],
   "source": [
    "simulation.options_chain"
   ]
  },
  {
   "cell_type": "code",
   "execution_count": 11,
   "metadata": {},
   "outputs": [
    {
     "name": "stdout",
     "output_type": "stream",
     "text": [
      "78.36923724510132 69.11659999999999\n"
     ]
    }
   ],
   "source": [
    "#print(simulation.evaluate_put(2300), simulation.get_put_bid(2300))\n",
    "print(simulation.evaluate_call(2400), simulation.get_call_bid(2400))"
   ]
  },
  {
   "cell_type": "markdown",
   "metadata": {},
   "source": [
    "# Sanity checks"
   ]
  },
  {
   "cell_type": "code",
   "execution_count": 7,
   "metadata": {},
   "outputs": [
    {
     "data": {
      "text/plain": [
       "dateTime  dateTime\n",
       "2022      1           31.000000\n",
       "          2           28.000000\n",
       "          3           31.000000\n",
       "          4           30.000000\n",
       "          5           31.000000\n",
       "          6           30.000000\n",
       "          7           31.000000\n",
       "          8           31.000000\n",
       "          9           30.000000\n",
       "          10          31.000000\n",
       "          11          30.000000\n",
       "          12          31.000000\n",
       "2023      1           31.000000\n",
       "          2           28.000000\n",
       "          3           30.958333\n",
       "          4           30.000000\n",
       "          5           31.000000\n",
       "          6           30.000000\n",
       "          7           31.000000\n",
       "          8           31.000000\n",
       "          9           30.000000\n",
       "          10          31.000000\n",
       "          11          30.000000\n",
       "          12          31.000000\n",
       "2024      1           30.041667\n",
       "dtype: float64"
      ]
     },
     "execution_count": 7,
     "metadata": {},
     "output_type": "execute_result"
    }
   ],
   "source": [
    "df = trading_model.valuation\n",
    "df.groupby([df.index.year, df.index.month]).size() / 24"
   ]
  }
 ],
 "metadata": {
  "colab": {
   "provenance": []
  },
  "kernelspec": {
   "display_name": "Python 3 (ipykernel)",
   "language": "python",
   "name": "python3"
  },
  "language_info": {
   "codemirror_mode": {
    "name": "ipython",
    "version": 3
   },
   "file_extension": ".py",
   "mimetype": "text/x-python",
   "name": "python",
   "nbconvert_exporter": "python",
   "pygments_lexer": "ipython3",
   "version": "3.12.1"
  }
 },
 "nbformat": 4,
 "nbformat_minor": 4
}
