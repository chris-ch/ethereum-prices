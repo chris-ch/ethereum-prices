{
 "cells": [
  {
   "cell_type": "code",
   "execution_count": 1,
   "metadata": {
    "ExecuteTime": {
     "end_time": "2023-10-24T00:58:07.533317Z",
     "start_time": "2023-10-24T00:58:00.419011Z"
    },
    "colab": {
     "base_uri": "https://localhost:8080/"
    },
    "id": "4kMo6W1p5SMO",
    "outputId": "e249ee53-b2a5-4724-efdc-392594676e02"
   },
   "outputs": [
    {
     "name": "stdout",
     "output_type": "stream",
     "text": [
      "Requirement already satisfied: pip in ./.venv/lib/python3.11/site-packages (23.3.1)\n",
      "Requirement already satisfied: python-binance in ./.venv/lib/python3.11/site-packages (1.0.19)\n",
      "Requirement already satisfied: requests in ./.venv/lib/python3.11/site-packages (from python-binance) (2.31.0)\n",
      "Requirement already satisfied: six in ./.venv/lib/python3.11/site-packages (from python-binance) (1.16.0)\n",
      "Requirement already satisfied: dateparser in ./.venv/lib/python3.11/site-packages (from python-binance) (1.2.0)\n",
      "Requirement already satisfied: aiohttp in ./.venv/lib/python3.11/site-packages (from python-binance) (3.9.0)\n",
      "Requirement already satisfied: ujson in ./.venv/lib/python3.11/site-packages (from python-binance) (5.8.0)\n",
      "Requirement already satisfied: websockets in ./.venv/lib/python3.11/site-packages (from python-binance) (12.0)\n",
      "Requirement already satisfied: pycryptodome in ./.venv/lib/python3.11/site-packages (from python-binance) (3.19.0)\n",
      "Requirement already satisfied: attrs>=17.3.0 in ./.venv/lib/python3.11/site-packages (from aiohttp->python-binance) (23.1.0)\n",
      "Requirement already satisfied: multidict<7.0,>=4.5 in ./.venv/lib/python3.11/site-packages (from aiohttp->python-binance) (6.0.4)\n",
      "Requirement already satisfied: yarl<2.0,>=1.0 in ./.venv/lib/python3.11/site-packages (from aiohttp->python-binance) (1.9.3)\n",
      "Requirement already satisfied: frozenlist>=1.1.1 in ./.venv/lib/python3.11/site-packages (from aiohttp->python-binance) (1.4.0)\n",
      "Requirement already satisfied: aiosignal>=1.1.2 in ./.venv/lib/python3.11/site-packages (from aiohttp->python-binance) (1.3.1)\n",
      "Requirement already satisfied: python-dateutil in ./.venv/lib/python3.11/site-packages (from dateparser->python-binance) (2.8.2)\n",
      "Requirement already satisfied: pytz in ./.venv/lib/python3.11/site-packages (from dateparser->python-binance) (2023.3.post1)\n",
      "Requirement already satisfied: regex!=2019.02.19,!=2021.8.27 in ./.venv/lib/python3.11/site-packages (from dateparser->python-binance) (2023.10.3)\n",
      "Requirement already satisfied: tzlocal in ./.venv/lib/python3.11/site-packages (from dateparser->python-binance) (5.2)\n",
      "Requirement already satisfied: charset-normalizer<4,>=2 in ./.venv/lib/python3.11/site-packages (from requests->python-binance) (3.3.2)\n",
      "Requirement already satisfied: idna<4,>=2.5 in ./.venv/lib/python3.11/site-packages (from requests->python-binance) (3.4)\n",
      "Requirement already satisfied: urllib3<3,>=1.21.1 in ./.venv/lib/python3.11/site-packages (from requests->python-binance) (2.1.0)\n",
      "Requirement already satisfied: certifi>=2017.4.17 in ./.venv/lib/python3.11/site-packages (from requests->python-binance) (2023.11.17)\n",
      "Requirement already satisfied: data_cache in ./.venv/lib/python3.11/site-packages (0.1.6)\n",
      "Requirement already satisfied: h5py in ./.venv/lib/python3.11/site-packages (from data_cache) (3.10.0)\n",
      "Requirement already satisfied: numpy in ./.venv/lib/python3.11/site-packages (from data_cache) (1.26.2)\n",
      "Requirement already satisfied: pandas in ./.venv/lib/python3.11/site-packages (from data_cache) (2.1.3)\n",
      "Requirement already satisfied: tables in ./.venv/lib/python3.11/site-packages (from data_cache) (3.9.1)\n",
      "Requirement already satisfied: python-dateutil>=2.8.2 in ./.venv/lib/python3.11/site-packages (from pandas->data_cache) (2.8.2)\n",
      "Requirement already satisfied: pytz>=2020.1 in ./.venv/lib/python3.11/site-packages (from pandas->data_cache) (2023.3.post1)\n",
      "Requirement already satisfied: tzdata>=2022.1 in ./.venv/lib/python3.11/site-packages (from pandas->data_cache) (2023.3)\n",
      "Requirement already satisfied: numexpr>=2.6.2 in ./.venv/lib/python3.11/site-packages (from tables->data_cache) (2.8.7)\n",
      "Requirement already satisfied: packaging in ./.venv/lib/python3.11/site-packages (from tables->data_cache) (23.2)\n",
      "Requirement already satisfied: py-cpuinfo in ./.venv/lib/python3.11/site-packages (from tables->data_cache) (9.0.0)\n",
      "Requirement already satisfied: blosc2>=2.2.8 in ./.venv/lib/python3.11/site-packages (from tables->data_cache) (2.3.1)\n",
      "Requirement already satisfied: ndindex>=1.4 in ./.venv/lib/python3.11/site-packages (from blosc2>=2.2.8->tables->data_cache) (1.7)\n",
      "Requirement already satisfied: msgpack in ./.venv/lib/python3.11/site-packages (from blosc2>=2.2.8->tables->data_cache) (1.0.7)\n",
      "Requirement already satisfied: six>=1.5 in ./.venv/lib/python3.11/site-packages (from python-dateutil>=2.8.2->pandas->data_cache) (1.16.0)\n"
     ]
    }
   ],
   "source": [
    "!pip install --upgrade pip\n",
    "!pip install python-binance\n",
    "!pip install data_cache"
   ]
  },
  {
   "cell_type": "markdown",
   "metadata": {
    "collapsed": false,
    "id": "h-A4kPps5SMQ"
   },
   "source": [
    "# Option valuation model based on historical prices"
   ]
  },
  {
   "cell_type": "code",
   "execution_count": 72,
   "metadata": {
    "colab": {
     "base_uri": "https://localhost:8080/",
     "height": 443
    },
    "id": "nxChr0ny5SMS",
    "outputId": "2a84f330-be20-4baf-edb1-95e8b7d4f4ab",
    "ExecuteTime": {
     "end_time": "2024-01-25T14:44:43.319117Z",
     "start_time": "2024-01-25T14:44:42.456775Z"
    }
   },
   "outputs": [
    {
     "name": "stdout",
     "output_type": "stream",
     "text": [
      "\n",
      "loading 2014 ............\n",
      "loading 2015 ............\n",
      "loading 2016 ............\n",
      "loading 2017 ............\n",
      "loading 2018 ............\n",
      "loading 2019 ............\n",
      "loading 2020 ............\n",
      "loading 2021 ............\n",
      "loading 2022 ............\n",
      "loading 2023 ............\n",
      "loading 2024 \n",
      "interrupting at 2024/01\n"
     ]
    }
   ],
   "source": [
    "import importlib.util\n",
    "import os\n",
    "google_colab_spec = importlib.util.find_spec(\"google\") and importlib.util.find_spec(\"google.colab\")\n",
    "if google_colab_spec:\n",
    "    from google.colab import drive\n",
    "    drive.mount('/content/drive', force_remount=True)\n",
    "    path = '/content/drive/MyDrive/Colab Notebooks/Ethereum Prices'\n",
    "else:\n",
    "    path = f'{os.environ[\"HOME\"]}/Library/CloudStorage/GoogleDrive-chris.perso@gmail.com/My Drive/Colab Notebooks/Ethereum Prices'\n",
    "    \n",
    "os.environ['CACHE_PATH'] = path\n",
    "os.environ['DISABLE_CACHE'] = 'FALSE'\n",
    "\n",
    "from datetime import datetime, timedelta, date\n",
    "import pandas\n",
    "import binance\n",
    "import requests\n",
    "from datetime import timezone\n",
    "from typing import Tuple\n",
    "\n",
    "COUNT_YEARS = 10\n",
    "BINANCE_DATETIME_FORMAT = \"%Y-%m-%d %H-%M-%S\"\n",
    "BINANCE_SYMBOL = 'ETHUSDT'\n",
    "\n",
    "\n",
    "def first_day_of_next_month(year: int, month: int) -> datetime:\n",
    "    \"\"\"Returns the first datetime of the next month.\n",
    "    \n",
    "    Args:\n",
    "    year: The year.\n",
    "    month: The month.\n",
    "    \n",
    "    Returns:\n",
    "    A datetime object representing the first day of the next month.\n",
    "    \"\"\"\n",
    "    \n",
    "    next_month = month + 1\n",
    "    if next_month > 12:\n",
    "        next_month = 1\n",
    "        year += 1\n",
    "    return datetime(year, next_month, 1)\n",
    "\n",
    "\n",
    "def load_prices_by_month(code: str, year: int, month: int, force_refresh: bool=False) -> pandas.DataFrame:\n",
    "    target_path = f'{path}/{BINANCE_SYMBOL}/{year}'\n",
    "    target_filename = f'{target_path}/{year}-{month:02d}.csv.zip'\n",
    "    if os.path.exists(target_filename) and not force_refresh:\n",
    "        binance_prices = pandas.read_csv(target_filename, compression='infer', header=0)\n",
    "    else:\n",
    "        print(f'no previous data found in {target_path}, loading from binance')\n",
    "        binance_client = binance.Client()\n",
    "        from_date = datetime(year, month, 1, 0, 0, 0)\n",
    "        until_date = first_day_of_next_month(year, month) - timedelta(seconds=1)\n",
    "        \n",
    "        candles = binance_client.get_historical_klines(code, binance.Client.KLINE_INTERVAL_1HOUR, str(from_date), str(until_date))\n",
    "        binance_prices = pandas.DataFrame(candles, columns=['dateTime', 'open', 'high', 'low', 'close', 'volume', 'closeTime',\n",
    "                                              'quoteAssetVolume', 'numberOfTrades', 'takerBuyBaseVol', 'takerBuyQuoteVol',\n",
    "                                              'ignore'])\n",
    "        os.makedirs(target_path, exist_ok=True)\n",
    "        binance_prices.to_csv(target_filename, index=False, compression=\"zip\")\n",
    "    \n",
    "    # as timestamp is returned in ms, let us convert this back to proper timestamps.\n",
    "    binance_prices['open'] = binance_prices['open'].astype(float)\n",
    "    binance_prices['high'] = binance_prices['high'].astype(float)\n",
    "    binance_prices['low'] = binance_prices['low'].astype(float)\n",
    "    binance_prices['close'] = binance_prices['close'].astype(float)\n",
    "    binance_prices['volume'] = binance_prices['volume'].astype(float)\n",
    "    binance_prices.dateTime = pandas.to_datetime(binance_prices.dateTime, unit='ms')\n",
    "    binance_prices.set_index('dateTime', inplace=True)\n",
    "    return binance_prices\n",
    "\n",
    "current_year = datetime.now().year\n",
    "df_by_period = list()\n",
    "for year in range(current_year - COUNT_YEARS, current_year + 1):\n",
    "    print(f'\\nloading {year}', end=' ')\n",
    "    for month in range(1, 13):\n",
    "        if year == current_year and month == datetime.today().month:\n",
    "            print(f'\\ninterrupting at {year}/{month:02d}')\n",
    "            break\n",
    "        print('.', end='')\n",
    "        df = load_prices_by_month(BINANCE_SYMBOL, year, month)\n",
    "        df = df.drop(['closeTime', 'quoteAssetVolume', 'numberOfTrades', 'takerBuyBaseVol', 'takerBuyQuoteVol', 'ignore'], axis=1)\n",
    "        df_by_period.append(df)\n",
    "\n",
    "prices_df = pandas.concat(df_by_period, axis=0)\n",
    "prices_df.index = pandas.to_datetime(prices_df.index)\n",
    "\n",
    "open_prices = prices_df['open']"
   ]
  },
  {
   "cell_type": "markdown",
   "metadata": {
    "id": "-cJhFZGk5SMS"
   },
   "source": [
    "## Option valuation model: input parameters here"
   ]
  },
  {
   "cell_type": "code",
   "outputs": [
    {
     "name": "stdout",
     "output_type": "stream",
     "text": [
      "target expiry: 2024-01-27 08:00:00+00:00\n",
      "trading put 2150 and call 2275\n",
      "cost: 0.007 / value: 0.020, benefit/cost = 2.7x\n"
     ]
    },
    {
     "data": {
      "text/plain": "        value_call   value_put  value_call_median  value_put_median  \\\nstrike                                                                \n2100.0  129.202823   11.573193         111.669164          0.000000   \n2125.0  107.846379   15.216749          86.669164          0.000000   \n2150.0   87.764245   20.134615          61.669164          0.000000   \n2175.0   69.486309   26.856679          36.669164          0.000000   \n2200.0   53.678635   36.049005          11.669164          0.000000   \n2225.0   41.235037   48.605407           0.000000         13.330836   \n2250.0   31.700975   64.071345           0.000000         38.330836   \n2275.0   24.267798   81.638168           0.000000         63.330836   \n2300.0   18.516705  100.887075           0.000000         88.330836   \n\n        value_call_pct  call_ask  value_put_pct  put_ask  \nstrike                                                    \n2100.0             NaN    0.0575       0.005246   0.0019  \n2125.0             NaN    0.0465       0.006897   0.0028  \n2150.0             NaN    0.0365       0.009126   0.0044  \n2175.0             NaN    0.0220       0.012173   0.0070  \n2200.0             NaN    0.0140       0.016339   0.0110  \n2225.0        0.018690    0.0090            NaN   0.0165  \n2250.0        0.014369    0.0050            NaN   0.0305  \n2275.0        0.010999    0.0031            NaN      NaN  \n2300.0        0.008393    0.0020            NaN      NaN  ",
      "text/html": "<div>\n<style scoped>\n    .dataframe tbody tr th:only-of-type {\n        vertical-align: middle;\n    }\n\n    .dataframe tbody tr th {\n        vertical-align: top;\n    }\n\n    .dataframe thead th {\n        text-align: right;\n    }\n</style>\n<table border=\"1\" class=\"dataframe\">\n  <thead>\n    <tr style=\"text-align: right;\">\n      <th></th>\n      <th>value_call</th>\n      <th>value_put</th>\n      <th>value_call_median</th>\n      <th>value_put_median</th>\n      <th>value_call_pct</th>\n      <th>call_ask</th>\n      <th>value_put_pct</th>\n      <th>put_ask</th>\n    </tr>\n    <tr>\n      <th>strike</th>\n      <th></th>\n      <th></th>\n      <th></th>\n      <th></th>\n      <th></th>\n      <th></th>\n      <th></th>\n      <th></th>\n    </tr>\n  </thead>\n  <tbody>\n    <tr>\n      <th>2100.0</th>\n      <td>129.202823</td>\n      <td>11.573193</td>\n      <td>111.669164</td>\n      <td>0.000000</td>\n      <td>NaN</td>\n      <td>0.0575</td>\n      <td>0.005246</td>\n      <td>0.0019</td>\n    </tr>\n    <tr>\n      <th>2125.0</th>\n      <td>107.846379</td>\n      <td>15.216749</td>\n      <td>86.669164</td>\n      <td>0.000000</td>\n      <td>NaN</td>\n      <td>0.0465</td>\n      <td>0.006897</td>\n      <td>0.0028</td>\n    </tr>\n    <tr>\n      <th>2150.0</th>\n      <td>87.764245</td>\n      <td>20.134615</td>\n      <td>61.669164</td>\n      <td>0.000000</td>\n      <td>NaN</td>\n      <td>0.0365</td>\n      <td>0.009126</td>\n      <td>0.0044</td>\n    </tr>\n    <tr>\n      <th>2175.0</th>\n      <td>69.486309</td>\n      <td>26.856679</td>\n      <td>36.669164</td>\n      <td>0.000000</td>\n      <td>NaN</td>\n      <td>0.0220</td>\n      <td>0.012173</td>\n      <td>0.0070</td>\n    </tr>\n    <tr>\n      <th>2200.0</th>\n      <td>53.678635</td>\n      <td>36.049005</td>\n      <td>11.669164</td>\n      <td>0.000000</td>\n      <td>NaN</td>\n      <td>0.0140</td>\n      <td>0.016339</td>\n      <td>0.0110</td>\n    </tr>\n    <tr>\n      <th>2225.0</th>\n      <td>41.235037</td>\n      <td>48.605407</td>\n      <td>0.000000</td>\n      <td>13.330836</td>\n      <td>0.018690</td>\n      <td>0.0090</td>\n      <td>NaN</td>\n      <td>0.0165</td>\n    </tr>\n    <tr>\n      <th>2250.0</th>\n      <td>31.700975</td>\n      <td>64.071345</td>\n      <td>0.000000</td>\n      <td>38.330836</td>\n      <td>0.014369</td>\n      <td>0.0050</td>\n      <td>NaN</td>\n      <td>0.0305</td>\n    </tr>\n    <tr>\n      <th>2275.0</th>\n      <td>24.267798</td>\n      <td>81.638168</td>\n      <td>0.000000</td>\n      <td>63.330836</td>\n      <td>0.010999</td>\n      <td>0.0031</td>\n      <td>NaN</td>\n      <td>NaN</td>\n    </tr>\n    <tr>\n      <th>2300.0</th>\n      <td>18.516705</td>\n      <td>100.887075</td>\n      <td>0.000000</td>\n      <td>88.330836</td>\n      <td>0.008393</td>\n      <td>0.0020</td>\n      <td>NaN</td>\n      <td>NaN</td>\n    </tr>\n  </tbody>\n</table>\n</div>"
     },
     "execution_count": 77,
     "metadata": {},
     "output_type": "execute_result"
    }
   ],
   "source": [
    "target_period_hours = 1 * 24 + 17\n",
    "strikes_universe_size = 4\n",
    "CUT_OFF_YEAR = 2020\n",
    "\n",
    "instrument_code = BINANCE_SYMBOL[:3]\n",
    "\n",
    "headers = {\"Content-Type\": \"application/json\"}\n",
    "base_url = 'https://www.deribit.com/api/v2/public'\n",
    "\n",
    "get_options = f\"{base_url}/get_instruments?currency={instrument_code}&kind=option&expired=false\"\n",
    "response_options = requests.get(get_options, headers=headers)\n",
    "if response_options.status_code != 200:\n",
    "    raise IOError(f'request failed with error {response_options.status_code}')\n",
    "\n",
    "result = response_options.json()['result']\n",
    "puts = {}\n",
    "calls = {}\n",
    "for option in result:\n",
    "    if option['option_type'] == 'put':\n",
    "        puts[(option['strike'], datetime.fromtimestamp(option['expiration_timestamp'] / 1000))] = option['instrument_id']\n",
    "    elif option['option_type'] == 'call':\n",
    "        calls[(option['strike'], datetime.fromtimestamp(option['expiration_timestamp'] / 1000))] = option['instrument_id']\n",
    "\n",
    "target_expiry = min({k[1] for k in puts.keys()}, key=lambda d: abs(d - (datetime.now() + timedelta(hours=target_period_hours))))\n",
    "strikes = {strike for strike, _ in puts.keys()}\n",
    "\n",
    "get_current_price = f\"{base_url}/get_index_price?index_name={instrument_code.lower()}_usd\"\n",
    "response_current_price = requests.get(get_current_price, headers=headers)\n",
    "\n",
    "if response_current_price.status_code != 200:\n",
    "    raise IOError(f'request failed with error {response_current_price.status_code}')\n",
    "\n",
    "current_price = response_current_price.json()['result']['index_price']\n",
    "remaining_hours = int((target_expiry - datetime.now()).total_seconds() / 3600)\n",
    "\n",
    "period_close_series = prices_df['close'].shift(-remaining_hours)\n",
    "df = pandas.DataFrame({\n",
    "    'prices': open_prices,\n",
    "    'period_close_series': period_close_series,\n",
    "})\n",
    "df.dropna(inplace=True)\n",
    "df = df[df.index.year>=CUT_OFF_YEAR]\n",
    "\n",
    "\n",
    "def generate_strikes(price: float, option_strikes, count_options):\n",
    "    sorted_strikes = sorted(option_strikes)\n",
    "    closest_strike = min(sorted_strikes, key=lambda s: abs(s - price))\n",
    "    closest_strike_pos = sorted_strikes.index(closest_strike)\n",
    "    return sorted_strikes[closest_strike_pos - count_options : closest_strike_pos + count_options + 1]\n",
    "\n",
    "def load_bid_ask(options, strike: float, expiry: date) -> Tuple[float, float]:\n",
    "    instrument_id = options[(strike, expiry)]\n",
    "    get_bid_ask = f\"{base_url}/get_order_book_by_instrument_id?instrument_id={instrument_id}&depth=1\"\n",
    "    response_bid_ask = requests.get(get_bid_ask, headers=headers)\n",
    "\n",
    "    if response_bid_ask.status_code != 200:\n",
    "        raise IOError(f'request failed with error {response_bid_ask.status_code}')\n",
    "\n",
    "    bid_ask = response_bid_ask.json()['result']\n",
    "    bid = ask = None\n",
    "    if 'bids' in bid_ask and bid_ask['bids'] and bid_ask['bids'][0] and bid_ask['bids'][0][0]:\n",
    "        bid = bid_ask['bids'][0][0]\n",
    "    if 'asks' in bid_ask and bid_ask['asks'] and bid_ask['asks'][0] and bid_ask['asks'][0][0]:\n",
    "        ask = bid_ask['asks'][0][0]\n",
    "    return bid, ask\n",
    "\n",
    "strike_prices = generate_strikes(current_price, strikes, strikes_universe_size)\n",
    "\n",
    "for count, strike_price in enumerate(strike_prices, start=1):\n",
    "    strike_factor = strike_price / current_price\n",
    "    df[f'strike_{count}'] = df['prices'].multiply(strike_factor)\n",
    "    df[f'strike_pct_{count}'] = strike_factor\n",
    "\n",
    "    df[f'call_value_{count}'] = df['period_close_series'].subtract(df[f'strike_{count}'])\n",
    "    df.loc[df[f'call_value_{count}'] < 0., f'call_value_{count}'] = 0.\n",
    "    df[f'call_value_pct_{count}'] = df[f'call_value_{count}'].divide(df['prices'])\n",
    "\n",
    "    df[f'put_value_{count}'] = df[f'strike_{count}'].subtract(df['period_close_series'])\n",
    "    df.loc[df[f'put_value_{count}'] < 0., f'put_value_{count}'] = 0.\n",
    "    df[f'put_value_pct_{count}'] = df[f'put_value_{count}'].divide(df['prices'])\n",
    "\n",
    "option_chain = list()\n",
    "for count, strike_price in enumerate(strike_prices, start=1):\n",
    "    put_bid, put_ask = load_bid_ask(puts, strike_price, target_expiry)\n",
    "    call_bid, call_ask = load_bid_ask(calls, strike_price, target_expiry)\n",
    "    strike_data = {\n",
    "        'strike': strike_price,\n",
    "        'value_call': df[f'call_value_pct_{count}'].mean() * current_price,\n",
    "        'value_put': df[f'put_value_pct_{count}'].mean() * current_price,\n",
    "        'value_call_median': df[f'call_value_pct_{count}'].quantile(0.5) * current_price,\n",
    "        'value_put_median': df[f'put_value_pct_{count}'].quantile(0.5) * current_price,\n",
    "        'value_call_pct': df[f'call_value_pct_{count}'].mean(),\n",
    "        'call_ask': call_ask,\n",
    "        'value_put_pct': df[f'put_value_pct_{count}'].mean(),\n",
    "        'put_ask': put_ask\n",
    "    }\n",
    "    if strike_price < current_price:\n",
    "        strike_data['value_call_pct'] = None\n",
    "    if strike_price > current_price:\n",
    "        strike_data['value_put_pct'] = None\n",
    "\n",
    "    option_chain.append(strike_data)\n",
    "\n",
    "option_chain_df = pandas.DataFrame(option_chain).set_index('strike').sort_index()\n",
    "\n",
    "#\n",
    "index_put = strikes_universe_size - 2\n",
    "index_call = strikes_universe_size + 3\n",
    "#\n",
    "cost, value = (option_chain_df.iloc[index_put]['put_ask'] + option_chain_df.iloc[index_call]['call_ask'], \n",
    " option_chain_df.iloc[index_put]['value_put_pct'] + option_chain_df.iloc[index_call]['value_call_pct']\n",
    ")\n",
    "print(f'target expiry: {target_expiry.astimezone(timezone.utc)}')\n",
    "print(f'trading put {option_chain_df.iloc[index_put].name:.0f} and call {option_chain_df.iloc[index_call].name:.0f}')\n",
    "print(f'cost: {cost:.3f} / value: {value:.3f}, benefit/cost = {value / cost:.1f}x')\n",
    "\n",
    "option_chain_df"
   ],
   "metadata": {
    "id": "Nwr0Hlj75SMV",
    "outputId": "430484f0-9bd3-4b6e-e0da-5c9891594905",
    "ExecuteTime": {
     "end_time": "2024-01-25T14:50:18.686543Z",
     "start_time": "2024-01-25T14:50:16.702883Z"
    }
   },
   "execution_count": 77
  },
  {
   "cell_type": "code",
   "outputs": [],
   "source": [],
   "metadata": {
    "collapsed": false
   }
  }
 ],
 "metadata": {
  "colab": {
   "provenance": []
  },
  "kernelspec": {
   "display_name": "Python 3 (ipykernel)",
   "language": "python",
   "name": "python3"
  },
  "language_info": {
   "codemirror_mode": {
    "name": "ipython",
    "version": 3
   },
   "file_extension": ".py",
   "mimetype": "text/x-python",
   "name": "python",
   "nbconvert_exporter": "python",
   "pygments_lexer": "ipython3",
   "version": "3.12.1"
  }
 },
 "nbformat": 4,
 "nbformat_minor": 4
}
