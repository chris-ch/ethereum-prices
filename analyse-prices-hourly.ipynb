{
 "cells": [
  {
   "cell_type": "code",
   "execution_count": 8,
   "metadata": {
    "ExecuteTime": {
     "end_time": "2024-01-26T18:27:29.737820Z",
     "start_time": "2024-01-26T18:27:16.798494Z"
    },
    "colab": {
     "base_uri": "https://localhost:8080/"
    },
    "id": "4kMo6W1p5SMO",
    "outputId": "e249ee53-b2a5-4724-efdc-392594676e02"
   },
   "outputs": [
    {
     "name": "stdout",
     "output_type": "stream",
     "text": [
      "\u001b[34mUpdating dependencies\u001b[39m\n",
      "\u001b[2K\u001b[34mResolving dependencies...\u001b[39m \u001b[39;2m(9.0s)\u001b[39;22m\n",
      "\n",
      "No dependencies to install or update\n"
     ]
    }
   ],
   "source": [
    "!bash --login -c \"poetry update\""
   ]
  },
  {
   "cell_type": "markdown",
   "metadata": {
    "collapsed": false,
    "id": "h-A4kPps5SMQ"
   },
   "source": [
    "# Option valuation model based on historical prices"
   ]
  },
  {
   "cell_type": "markdown",
   "metadata": {},
   "source": [
    "This code assumes `aws configure` has been run in the environment of the notebook."
   ]
  },
  {
   "cell_type": "code",
   "execution_count": 5,
   "metadata": {
    "ExecuteTime": {
     "end_time": "2024-01-28T09:44:12.952782Z",
     "start_time": "2024-01-28T09:44:10.909325Z"
    },
    "colab": {
     "base_uri": "https://localhost:8080/",
     "height": 443
    },
    "id": "nxChr0ny5SMS",
    "outputId": "2a84f330-be20-4baf-edb1-95e8b7d4f4ab"
   },
   "outputs": [],
   "source": [
    "import optionspricing\n",
    "import boto3\n",
    "import helpers\n",
    "import pandas\n",
    "from dotenv import load_dotenv\n",
    "\n",
    "load_dotenv()\n",
    "\n",
    "BINANCE_SYMBOL = 'ETHUSDT'\n",
    "\n",
    "s3 = boto3.resource('s3')\n",
    "\n",
    "data_file = helpers.fetch_object(s3, \"test-binance-prices-255120844515\", f\"{BINANCE_SYMBOL}-full.csv.zip\")\n",
    "prices_df = pandas.read_csv(data_file, compression='zip', header=0, index_col=\"dateTime\")\n",
    "prices_df.index = pandas.to_datetime(prices_df.index)"
   ]
  },
  {
   "cell_type": "markdown",
   "metadata": {
    "id": "-cJhFZGk5SMS"
   },
   "source": [
    "## Option valuation model: input parameters here"
   ]
  },
  {
   "cell_type": "code",
   "execution_count": 6,
   "metadata": {
    "ExecuteTime": {
     "end_time": "2024-01-29T10:28:52.874110Z",
     "start_time": "2024-01-29T10:28:49.030564Z"
    },
    "collapsed": false
   },
   "outputs": [
    {
     "name": "stderr",
     "output_type": "stream",
     "text": [
      "WARNING:root:calling option chain: https://www.deribit.com/api/v2/public/get_instruments?currency=ETH&kind=option&expired=false\n"
     ]
    },
    {
     "name": "stdout",
     "output_type": "stream",
     "text": [
      "target expiry: Sun 18 Feb, 08:00 (64 hours left)\n",
      "current price: 2829.62\n",
      "-------------------------------\n",
      "trading put 2800 and call 2850 (hit ratio: 47%)\n",
      "cost: 0.028 / value: 0.042, benefit/cost = 1.5x\n",
      "($) cost: 80.64 / value: 118.99, average gain = 38.34\n",
      "-------------------------------\n",
      "trading put 2775 and call 2875 (hit ratio: 45%)\n",
      "cost: 0.022 / value: 0.035, benefit/cost = 1.6x\n",
      "($) cost: 62.25 / value: 99.78, average gain = 37.53\n",
      "-------------------------------\n",
      "trading put 2750 and call 2900 (hit ratio: 42%)\n",
      "cost: 0.017 / value: 0.030, benefit/cost = 1.7x\n",
      "($) cost: 48.10 / value: 83.76, average gain = 35.66\n",
      "-------------------------------\n",
      "trading put 2725 and call 2925 (hit ratio: 38%)\n",
      "cost: 0.013 / value: 0.025, benefit/cost = 1.9x\n",
      "($) cost: 36.79 / value: 70.33, average gain = 33.54\n"
     ]
    },
    {
     "data": {
      "text/plain": [
       "[{'put': 2775.0, 'call': 2875.0, 'quantity': 0},\n",
       " {'put': 2750.0, 'call': 2900.0, 'quantity': 0}]"
      ]
     },
     "execution_count": 6,
     "metadata": {},
     "output_type": "execute_result"
    }
   ],
   "source": [
    "target_period_hours = 3 * 24\n",
    "strikes_universe_size = 4\n",
    "CUT_OFF_YEAR_MONTH = (2021, 1)\n",
    "\n",
    "instrument_code = BINANCE_SYMBOL[:3]\n",
    "\n",
    "headers = {\"Content-Type\": \"application/json\"}\n",
    "base_url = \"https://www.deribit.com/api/v2/public\"\n",
    "\n",
    "trading_model = optionspricing.TradingModel(base_url, headers, instrument_code, target_period_hours)\n",
    "trading_model.cutoff_year_month(CUT_OFF_YEAR_MONTH)\n",
    "target_expiry = trading_model.target_expiry\n",
    "underlying_price = trading_model.underlying_price\n",
    "remaining_hours = trading_model.remaining_hours\n",
    "\n",
    "simulation = trading_model.evaluate(prices_df, strikes_universe_size)\n",
    "print(simulation)\n",
    "simulation.allocate([1, 2], 1500. * 2./100.)"
   ]
  },
  {
   "cell_type": "code",
   "execution_count": 52,
   "metadata": {
    "ExecuteTime": {
     "end_time": "2024-01-29T10:28:53.839639Z",
     "start_time": "2024-01-29T10:28:53.814899Z"
    },
    "id": "Nwr0Hlj75SMV",
    "outputId": "430484f0-9bd3-4b6e-e0da-5c9891594905"
   },
   "outputs": [
    {
     "data": {
      "text/html": [
       "<div>\n",
       "<style scoped>\n",
       "    .dataframe tbody tr th:only-of-type {\n",
       "        vertical-align: middle;\n",
       "    }\n",
       "\n",
       "    .dataframe tbody tr th {\n",
       "        vertical-align: top;\n",
       "    }\n",
       "\n",
       "    .dataframe thead th {\n",
       "        text-align: right;\n",
       "    }\n",
       "</style>\n",
       "<table border=\"1\" class=\"dataframe\">\n",
       "  <thead>\n",
       "    <tr style=\"text-align: right;\">\n",
       "      <th></th>\n",
       "      <th>value_call</th>\n",
       "      <th>value_call_pct</th>\n",
       "      <th>call_bid</th>\n",
       "      <th>call_ask</th>\n",
       "      <th>value_put</th>\n",
       "      <th>value_put_pct</th>\n",
       "      <th>put_bid</th>\n",
       "      <th>put_ask</th>\n",
       "    </tr>\n",
       "    <tr>\n",
       "      <th>strike</th>\n",
       "      <th></th>\n",
       "      <th></th>\n",
       "      <th></th>\n",
       "      <th></th>\n",
       "      <th></th>\n",
       "      <th></th>\n",
       "      <th></th>\n",
       "      <th></th>\n",
       "    </tr>\n",
       "  </thead>\n",
       "  <tbody>\n",
       "    <tr>\n",
       "      <th>2675.0</th>\n",
       "      <td>137.998264</td>\n",
       "      <td>NaN</td>\n",
       "      <td>0.0350</td>\n",
       "      <td>0.0510</td>\n",
       "      <td>21.152531</td>\n",
       "      <td>0.007606</td>\n",
       "      <td>0.0030</td>\n",
       "      <td>0.0031</td>\n",
       "    </tr>\n",
       "    <tr>\n",
       "      <th>2700.0</th>\n",
       "      <td>118.066824</td>\n",
       "      <td>NaN</td>\n",
       "      <td>0.0290</td>\n",
       "      <td>0.0380</td>\n",
       "      <td>26.221092</td>\n",
       "      <td>0.009428</td>\n",
       "      <td>0.0044</td>\n",
       "      <td>0.0049</td>\n",
       "    </tr>\n",
       "    <tr>\n",
       "      <th>2725.0</th>\n",
       "      <td>99.400539</td>\n",
       "      <td>NaN</td>\n",
       "      <td>0.0255</td>\n",
       "      <td>0.0300</td>\n",
       "      <td>32.554806</td>\n",
       "      <td>0.011706</td>\n",
       "      <td>0.0065</td>\n",
       "      <td>0.0070</td>\n",
       "    </tr>\n",
       "    <tr>\n",
       "      <th>2750.0</th>\n",
       "      <td>82.386106</td>\n",
       "      <td>NaN</td>\n",
       "      <td>0.0205</td>\n",
       "      <td>0.0235</td>\n",
       "      <td>40.540373</td>\n",
       "      <td>0.014577</td>\n",
       "      <td>0.0095</td>\n",
       "      <td>0.0105</td>\n",
       "    </tr>\n",
       "    <tr>\n",
       "      <th>2775.0</th>\n",
       "      <td>67.517819</td>\n",
       "      <td>NaN</td>\n",
       "      <td>0.0160</td>\n",
       "      <td>0.0170</td>\n",
       "      <td>50.672087</td>\n",
       "      <td>0.018220</td>\n",
       "      <td>0.0130</td>\n",
       "      <td>0.0140</td>\n",
       "    </tr>\n",
       "    <tr>\n",
       "      <th>2800.0</th>\n",
       "      <td>55.317358</td>\n",
       "      <td>0.019891</td>\n",
       "      <td>0.0120</td>\n",
       "      <td>0.0130</td>\n",
       "      <td>63.471626</td>\n",
       "      <td>NaN</td>\n",
       "      <td>0.0180</td>\n",
       "      <td>0.0190</td>\n",
       "    </tr>\n",
       "    <tr>\n",
       "      <th>2825.0</th>\n",
       "      <td>45.415739</td>\n",
       "      <td>0.016330</td>\n",
       "      <td>0.0095</td>\n",
       "      <td>0.0100</td>\n",
       "      <td>78.570006</td>\n",
       "      <td>NaN</td>\n",
       "      <td>0.0050</td>\n",
       "      <td>NaN</td>\n",
       "    </tr>\n",
       "    <tr>\n",
       "      <th>2850.0</th>\n",
       "      <td>37.258202</td>\n",
       "      <td>0.013397</td>\n",
       "      <td>0.0065</td>\n",
       "      <td>0.0075</td>\n",
       "      <td>95.412470</td>\n",
       "      <td>NaN</td>\n",
       "      <td>0.0085</td>\n",
       "      <td>NaN</td>\n",
       "    </tr>\n",
       "    <tr>\n",
       "      <th>2875.0</th>\n",
       "      <td>30.555679</td>\n",
       "      <td>0.010987</td>\n",
       "      <td>0.0050</td>\n",
       "      <td>0.0060</td>\n",
       "      <td>113.709946</td>\n",
       "      <td>NaN</td>\n",
       "      <td>0.0175</td>\n",
       "      <td>NaN</td>\n",
       "    </tr>\n",
       "  </tbody>\n",
       "</table>\n",
       "</div>"
      ],
      "text/plain": [
       "        value_call  value_call_pct  call_bid  call_ask   value_put  \\\n",
       "strike                                                               \n",
       "2675.0  137.998264             NaN    0.0350    0.0510   21.152531   \n",
       "2700.0  118.066824             NaN    0.0290    0.0380   26.221092   \n",
       "2725.0   99.400539             NaN    0.0255    0.0300   32.554806   \n",
       "2750.0   82.386106             NaN    0.0205    0.0235   40.540373   \n",
       "2775.0   67.517819             NaN    0.0160    0.0170   50.672087   \n",
       "2800.0   55.317358        0.019891    0.0120    0.0130   63.471626   \n",
       "2825.0   45.415739        0.016330    0.0095    0.0100   78.570006   \n",
       "2850.0   37.258202        0.013397    0.0065    0.0075   95.412470   \n",
       "2875.0   30.555679        0.010987    0.0050    0.0060  113.709946   \n",
       "\n",
       "        value_put_pct  put_bid  put_ask  \n",
       "strike                                   \n",
       "2675.0       0.007606   0.0030   0.0031  \n",
       "2700.0       0.009428   0.0044   0.0049  \n",
       "2725.0       0.011706   0.0065   0.0070  \n",
       "2750.0       0.014577   0.0095   0.0105  \n",
       "2775.0       0.018220   0.0130   0.0140  \n",
       "2800.0            NaN   0.0180   0.0190  \n",
       "2825.0            NaN   0.0050      NaN  \n",
       "2850.0            NaN   0.0085      NaN  \n",
       "2875.0            NaN   0.0175      NaN  "
      ]
     },
     "execution_count": 52,
     "metadata": {},
     "output_type": "execute_result"
    }
   ],
   "source": [
    "simulation.options_chain"
   ]
  },
  {
   "cell_type": "code",
   "execution_count": 53,
   "metadata": {},
   "outputs": [
    {
     "name": "stdout",
     "output_type": "stream",
     "text": [
      " put 2700: value 26.22 / cost 12.24\n",
      "call 2850: value 37.26 / cost 18.08\n"
     ]
    }
   ],
   "source": [
    "#print(simulation.evaluate_put(2300), simulation.get_put_bid(2300))\n",
    "put_strike, call_strike = 2700, 2850\n",
    "print(f\" put {put_strike}: value {simulation.evaluate_put(put_strike):.02f} / cost {simulation.get_put_bid(put_strike):.02f}\")\n",
    "print(f\"call {call_strike}: value {simulation.evaluate_call(call_strike):.02f} / cost {simulation.get_call_bid(call_strike):.02f}\")"
   ]
  },
  {
   "cell_type": "markdown",
   "metadata": {},
   "source": [
    "# Sanity checks"
   ]
  },
  {
   "cell_type": "code",
   "execution_count": 4,
   "metadata": {},
   "outputs": [
    {
     "data": {
      "text/plain": [
       "{(80.0, datetime.datetime(2024, 2, 16, 8, 0)): 292961,\n",
       " (90.0, datetime.datetime(2024, 2, 16, 8, 0)): 292963,\n",
       " (95.0, datetime.datetime(2024, 2, 16, 8, 0)): 292965,\n",
       " (100.0, datetime.datetime(2024, 2, 16, 8, 0)): 292967,\n",
       " (102.0, datetime.datetime(2024, 2, 16, 8, 0)): 292969,\n",
       " (104.0, datetime.datetime(2024, 2, 16, 8, 0)): 292971,\n",
       " (106.0, datetime.datetime(2024, 2, 16, 8, 0)): 292973,\n",
       " (108.0, datetime.datetime(2024, 2, 16, 8, 0)): 292975,\n",
       " (110.0, datetime.datetime(2024, 2, 16, 8, 0)): 292977,\n",
       " (115.0, datetime.datetime(2024, 2, 16, 8, 0)): 292979,\n",
       " (120.0, datetime.datetime(2024, 2, 16, 8, 0)): 292981,\n",
       " (130.0, datetime.datetime(2024, 2, 16, 8, 0)): 292983,\n",
       " (80.0, datetime.datetime(2024, 2, 23, 8, 0)): 292945,\n",
       " (90.0, datetime.datetime(2024, 2, 23, 8, 0)): 292947,\n",
       " (100.0, datetime.datetime(2024, 2, 23, 8, 0)): 292949,\n",
       " (105.0, datetime.datetime(2024, 2, 23, 8, 0)): 292951,\n",
       " (110.0, datetime.datetime(2024, 2, 23, 8, 0)): 292953,\n",
       " (120.0, datetime.datetime(2024, 2, 23, 8, 0)): 292955,\n",
       " (130.0, datetime.datetime(2024, 2, 23, 8, 0)): 292957,\n",
       " (140.0, datetime.datetime(2024, 2, 23, 8, 0)): 292959}"
      ]
     },
     "execution_count": 4,
     "metadata": {},
     "output_type": "execute_result"
    }
   ],
   "source": [
    "trading_model.calls"
   ]
  }
 ],
 "metadata": {
  "colab": {
   "provenance": []
  },
  "kernelspec": {
   "display_name": "Python 3 (ipykernel)",
   "language": "python",
   "name": "python3"
  },
  "language_info": {
   "codemirror_mode": {
    "name": "ipython",
    "version": 3
   },
   "file_extension": ".py",
   "mimetype": "text/x-python",
   "name": "python",
   "nbconvert_exporter": "python",
   "pygments_lexer": "ipython3",
   "version": "3.12.1"
  }
 },
 "nbformat": 4,
 "nbformat_minor": 4
}
