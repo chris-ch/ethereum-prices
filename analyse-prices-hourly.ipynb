{
 "cells": [
  {
   "cell_type": "code",
   "execution_count": 4,
   "metadata": {
    "ExecuteTime": {
     "end_time": "2024-01-26T18:27:29.737820Z",
     "start_time": "2024-01-26T18:27:16.798494Z"
    },
    "colab": {
     "base_uri": "https://localhost:8080/"
    },
    "id": "4kMo6W1p5SMO",
    "outputId": "e249ee53-b2a5-4724-efdc-392594676e02"
   },
   "outputs": [
    {
     "name": "stdout",
     "output_type": "stream",
     "text": [
      "\u001b[34mUpdating dependencies\u001b[39m\n",
      "\u001b[2K\u001b[34mResolving dependencies...\u001b[39m \u001b[39;2m(13.9s)\u001b[39;22m\n",
      "\n",
      "No dependencies to install or update\n"
     ]
    }
   ],
   "source": [
    "!bash --login -c \"poetry update\""
   ]
  },
  {
   "cell_type": "markdown",
   "metadata": {
    "collapsed": false,
    "id": "h-A4kPps5SMQ"
   },
   "source": [
    "# Option valuation model based on historical prices"
   ]
  },
  {
   "cell_type": "code",
   "execution_count": 1,
   "metadata": {
    "ExecuteTime": {
     "end_time": "2024-01-28T09:44:12.952782Z",
     "start_time": "2024-01-28T09:44:10.909325Z"
    },
    "colab": {
     "base_uri": "https://localhost:8080/",
     "height": 443
    },
    "id": "nxChr0ny5SMS",
    "outputId": "2a84f330-be20-4baf-edb1-95e8b7d4f4ab"
   },
   "outputs": [
    {
     "name": "stdout",
     "output_type": "stream",
     "text": [
      "\n",
      "loading 2014 .no previous data found in /home/python/Library/CloudStorage/GoogleDrive-chris.perso@gmail.com/My Drive/Colab Notebooks/Ethereum Prices/ETHUSDT/2014, loading from binance\n",
      ".no previous data found in /home/python/Library/CloudStorage/GoogleDrive-chris.perso@gmail.com/My Drive/Colab Notebooks/Ethereum Prices/ETHUSDT/2014, loading from binance\n",
      ".no previous data found in /home/python/Library/CloudStorage/GoogleDrive-chris.perso@gmail.com/My Drive/Colab Notebooks/Ethereum Prices/ETHUSDT/2014, loading from binance\n",
      ".no previous data found in /home/python/Library/CloudStorage/GoogleDrive-chris.perso@gmail.com/My Drive/Colab Notebooks/Ethereum Prices/ETHUSDT/2014, loading from binance\n",
      ".no previous data found in /home/python/Library/CloudStorage/GoogleDrive-chris.perso@gmail.com/My Drive/Colab Notebooks/Ethereum Prices/ETHUSDT/2014, loading from binance\n",
      ".no previous data found in /home/python/Library/CloudStorage/GoogleDrive-chris.perso@gmail.com/My Drive/Colab Notebooks/Ethereum Prices/ETHUSDT/2014, loading from binance\n",
      ".no previous data found in /home/python/Library/CloudStorage/GoogleDrive-chris.perso@gmail.com/My Drive/Colab Notebooks/Ethereum Prices/ETHUSDT/2014, loading from binance\n",
      ".no previous data found in /home/python/Library/CloudStorage/GoogleDrive-chris.perso@gmail.com/My Drive/Colab Notebooks/Ethereum Prices/ETHUSDT/2014, loading from binance\n",
      ".no previous data found in /home/python/Library/CloudStorage/GoogleDrive-chris.perso@gmail.com/My Drive/Colab Notebooks/Ethereum Prices/ETHUSDT/2014, loading from binance\n",
      ".no previous data found in /home/python/Library/CloudStorage/GoogleDrive-chris.perso@gmail.com/My Drive/Colab Notebooks/Ethereum Prices/ETHUSDT/2014, loading from binance\n",
      ".no previous data found in /home/python/Library/CloudStorage/GoogleDrive-chris.perso@gmail.com/My Drive/Colab Notebooks/Ethereum Prices/ETHUSDT/2014, loading from binance\n",
      ".no previous data found in /home/python/Library/CloudStorage/GoogleDrive-chris.perso@gmail.com/My Drive/Colab Notebooks/Ethereum Prices/ETHUSDT/2014, loading from binance\n",
      "\n",
      "loading 2015 .no previous data found in /home/python/Library/CloudStorage/GoogleDrive-chris.perso@gmail.com/My Drive/Colab Notebooks/Ethereum Prices/ETHUSDT/2015, loading from binance\n",
      ".no previous data found in /home/python/Library/CloudStorage/GoogleDrive-chris.perso@gmail.com/My Drive/Colab Notebooks/Ethereum Prices/ETHUSDT/2015, loading from binance\n",
      ".no previous data found in /home/python/Library/CloudStorage/GoogleDrive-chris.perso@gmail.com/My Drive/Colab Notebooks/Ethereum Prices/ETHUSDT/2015, loading from binance\n",
      ".no previous data found in /home/python/Library/CloudStorage/GoogleDrive-chris.perso@gmail.com/My Drive/Colab Notebooks/Ethereum Prices/ETHUSDT/2015, loading from binance\n",
      ".no previous data found in /home/python/Library/CloudStorage/GoogleDrive-chris.perso@gmail.com/My Drive/Colab Notebooks/Ethereum Prices/ETHUSDT/2015, loading from binance\n",
      ".no previous data found in /home/python/Library/CloudStorage/GoogleDrive-chris.perso@gmail.com/My Drive/Colab Notebooks/Ethereum Prices/ETHUSDT/2015, loading from binance\n",
      ".no previous data found in /home/python/Library/CloudStorage/GoogleDrive-chris.perso@gmail.com/My Drive/Colab Notebooks/Ethereum Prices/ETHUSDT/2015, loading from binance\n",
      ".no previous data found in /home/python/Library/CloudStorage/GoogleDrive-chris.perso@gmail.com/My Drive/Colab Notebooks/Ethereum Prices/ETHUSDT/2015, loading from binance\n",
      ".no previous data found in /home/python/Library/CloudStorage/GoogleDrive-chris.perso@gmail.com/My Drive/Colab Notebooks/Ethereum Prices/ETHUSDT/2015, loading from binance\n",
      ".no previous data found in /home/python/Library/CloudStorage/GoogleDrive-chris.perso@gmail.com/My Drive/Colab Notebooks/Ethereum Prices/ETHUSDT/2015, loading from binance\n",
      ".no previous data found in /home/python/Library/CloudStorage/GoogleDrive-chris.perso@gmail.com/My Drive/Colab Notebooks/Ethereum Prices/ETHUSDT/2015, loading from binance\n",
      ".no previous data found in /home/python/Library/CloudStorage/GoogleDrive-chris.perso@gmail.com/My Drive/Colab Notebooks/Ethereum Prices/ETHUSDT/2015, loading from binance\n",
      "\n",
      "loading 2016 .no previous data found in /home/python/Library/CloudStorage/GoogleDrive-chris.perso@gmail.com/My Drive/Colab Notebooks/Ethereum Prices/ETHUSDT/2016, loading from binance\n",
      ".no previous data found in /home/python/Library/CloudStorage/GoogleDrive-chris.perso@gmail.com/My Drive/Colab Notebooks/Ethereum Prices/ETHUSDT/2016, loading from binance\n",
      ".no previous data found in /home/python/Library/CloudStorage/GoogleDrive-chris.perso@gmail.com/My Drive/Colab Notebooks/Ethereum Prices/ETHUSDT/2016, loading from binance\n",
      ".no previous data found in /home/python/Library/CloudStorage/GoogleDrive-chris.perso@gmail.com/My Drive/Colab Notebooks/Ethereum Prices/ETHUSDT/2016, loading from binance\n",
      ".no previous data found in /home/python/Library/CloudStorage/GoogleDrive-chris.perso@gmail.com/My Drive/Colab Notebooks/Ethereum Prices/ETHUSDT/2016, loading from binance\n",
      ".no previous data found in /home/python/Library/CloudStorage/GoogleDrive-chris.perso@gmail.com/My Drive/Colab Notebooks/Ethereum Prices/ETHUSDT/2016, loading from binance\n",
      ".no previous data found in /home/python/Library/CloudStorage/GoogleDrive-chris.perso@gmail.com/My Drive/Colab Notebooks/Ethereum Prices/ETHUSDT/2016, loading from binance\n",
      ".no previous data found in /home/python/Library/CloudStorage/GoogleDrive-chris.perso@gmail.com/My Drive/Colab Notebooks/Ethereum Prices/ETHUSDT/2016, loading from binance\n",
      ".no previous data found in /home/python/Library/CloudStorage/GoogleDrive-chris.perso@gmail.com/My Drive/Colab Notebooks/Ethereum Prices/ETHUSDT/2016, loading from binance\n",
      ".no previous data found in /home/python/Library/CloudStorage/GoogleDrive-chris.perso@gmail.com/My Drive/Colab Notebooks/Ethereum Prices/ETHUSDT/2016, loading from binance\n",
      ".no previous data found in /home/python/Library/CloudStorage/GoogleDrive-chris.perso@gmail.com/My Drive/Colab Notebooks/Ethereum Prices/ETHUSDT/2016, loading from binance\n",
      ".no previous data found in /home/python/Library/CloudStorage/GoogleDrive-chris.perso@gmail.com/My Drive/Colab Notebooks/Ethereum Prices/ETHUSDT/2016, loading from binance\n",
      "\n",
      "loading 2017 .no previous data found in /home/python/Library/CloudStorage/GoogleDrive-chris.perso@gmail.com/My Drive/Colab Notebooks/Ethereum Prices/ETHUSDT/2017, loading from binance\n",
      ".no previous data found in /home/python/Library/CloudStorage/GoogleDrive-chris.perso@gmail.com/My Drive/Colab Notebooks/Ethereum Prices/ETHUSDT/2017, loading from binance\n",
      ".no previous data found in /home/python/Library/CloudStorage/GoogleDrive-chris.perso@gmail.com/My Drive/Colab Notebooks/Ethereum Prices/ETHUSDT/2017, loading from binance\n",
      ".no previous data found in /home/python/Library/CloudStorage/GoogleDrive-chris.perso@gmail.com/My Drive/Colab Notebooks/Ethereum Prices/ETHUSDT/2017, loading from binance\n",
      ".no previous data found in /home/python/Library/CloudStorage/GoogleDrive-chris.perso@gmail.com/My Drive/Colab Notebooks/Ethereum Prices/ETHUSDT/2017, loading from binance\n",
      ".no previous data found in /home/python/Library/CloudStorage/GoogleDrive-chris.perso@gmail.com/My Drive/Colab Notebooks/Ethereum Prices/ETHUSDT/2017, loading from binance\n",
      ".no previous data found in /home/python/Library/CloudStorage/GoogleDrive-chris.perso@gmail.com/My Drive/Colab Notebooks/Ethereum Prices/ETHUSDT/2017, loading from binance\n",
      ".no previous data found in /home/python/Library/CloudStorage/GoogleDrive-chris.perso@gmail.com/My Drive/Colab Notebooks/Ethereum Prices/ETHUSDT/2017, loading from binance\n",
      ".no previous data found in /home/python/Library/CloudStorage/GoogleDrive-chris.perso@gmail.com/My Drive/Colab Notebooks/Ethereum Prices/ETHUSDT/2017, loading from binance\n",
      ".no previous data found in /home/python/Library/CloudStorage/GoogleDrive-chris.perso@gmail.com/My Drive/Colab Notebooks/Ethereum Prices/ETHUSDT/2017, loading from binance\n",
      ".no previous data found in /home/python/Library/CloudStorage/GoogleDrive-chris.perso@gmail.com/My Drive/Colab Notebooks/Ethereum Prices/ETHUSDT/2017, loading from binance\n",
      ".no previous data found in /home/python/Library/CloudStorage/GoogleDrive-chris.perso@gmail.com/My Drive/Colab Notebooks/Ethereum Prices/ETHUSDT/2017, loading from binance\n",
      "\n",
      "loading 2018 .no previous data found in /home/python/Library/CloudStorage/GoogleDrive-chris.perso@gmail.com/My Drive/Colab Notebooks/Ethereum Prices/ETHUSDT/2018, loading from binance\n",
      ".no previous data found in /home/python/Library/CloudStorage/GoogleDrive-chris.perso@gmail.com/My Drive/Colab Notebooks/Ethereum Prices/ETHUSDT/2018, loading from binance\n",
      ".no previous data found in /home/python/Library/CloudStorage/GoogleDrive-chris.perso@gmail.com/My Drive/Colab Notebooks/Ethereum Prices/ETHUSDT/2018, loading from binance\n",
      ".no previous data found in /home/python/Library/CloudStorage/GoogleDrive-chris.perso@gmail.com/My Drive/Colab Notebooks/Ethereum Prices/ETHUSDT/2018, loading from binance\n",
      ".no previous data found in /home/python/Library/CloudStorage/GoogleDrive-chris.perso@gmail.com/My Drive/Colab Notebooks/Ethereum Prices/ETHUSDT/2018, loading from binance\n",
      ".no previous data found in /home/python/Library/CloudStorage/GoogleDrive-chris.perso@gmail.com/My Drive/Colab Notebooks/Ethereum Prices/ETHUSDT/2018, loading from binance\n",
      ".no previous data found in /home/python/Library/CloudStorage/GoogleDrive-chris.perso@gmail.com/My Drive/Colab Notebooks/Ethereum Prices/ETHUSDT/2018, loading from binance\n",
      ".no previous data found in /home/python/Library/CloudStorage/GoogleDrive-chris.perso@gmail.com/My Drive/Colab Notebooks/Ethereum Prices/ETHUSDT/2018, loading from binance\n",
      ".no previous data found in /home/python/Library/CloudStorage/GoogleDrive-chris.perso@gmail.com/My Drive/Colab Notebooks/Ethereum Prices/ETHUSDT/2018, loading from binance\n",
      ".no previous data found in /home/python/Library/CloudStorage/GoogleDrive-chris.perso@gmail.com/My Drive/Colab Notebooks/Ethereum Prices/ETHUSDT/2018, loading from binance\n",
      ".no previous data found in /home/python/Library/CloudStorage/GoogleDrive-chris.perso@gmail.com/My Drive/Colab Notebooks/Ethereum Prices/ETHUSDT/2018, loading from binance\n",
      ".no previous data found in /home/python/Library/CloudStorage/GoogleDrive-chris.perso@gmail.com/My Drive/Colab Notebooks/Ethereum Prices/ETHUSDT/2018, loading from binance\n",
      "\n",
      "loading 2019 .no previous data found in /home/python/Library/CloudStorage/GoogleDrive-chris.perso@gmail.com/My Drive/Colab Notebooks/Ethereum Prices/ETHUSDT/2019, loading from binance\n",
      ".no previous data found in /home/python/Library/CloudStorage/GoogleDrive-chris.perso@gmail.com/My Drive/Colab Notebooks/Ethereum Prices/ETHUSDT/2019, loading from binance\n",
      ".no previous data found in /home/python/Library/CloudStorage/GoogleDrive-chris.perso@gmail.com/My Drive/Colab Notebooks/Ethereum Prices/ETHUSDT/2019, loading from binance\n",
      ".no previous data found in /home/python/Library/CloudStorage/GoogleDrive-chris.perso@gmail.com/My Drive/Colab Notebooks/Ethereum Prices/ETHUSDT/2019, loading from binance\n",
      ".no previous data found in /home/python/Library/CloudStorage/GoogleDrive-chris.perso@gmail.com/My Drive/Colab Notebooks/Ethereum Prices/ETHUSDT/2019, loading from binance\n",
      ".no previous data found in /home/python/Library/CloudStorage/GoogleDrive-chris.perso@gmail.com/My Drive/Colab Notebooks/Ethereum Prices/ETHUSDT/2019, loading from binance\n",
      ".no previous data found in /home/python/Library/CloudStorage/GoogleDrive-chris.perso@gmail.com/My Drive/Colab Notebooks/Ethereum Prices/ETHUSDT/2019, loading from binance\n",
      ".no previous data found in /home/python/Library/CloudStorage/GoogleDrive-chris.perso@gmail.com/My Drive/Colab Notebooks/Ethereum Prices/ETHUSDT/2019, loading from binance\n",
      ".no previous data found in /home/python/Library/CloudStorage/GoogleDrive-chris.perso@gmail.com/My Drive/Colab Notebooks/Ethereum Prices/ETHUSDT/2019, loading from binance\n",
      ".no previous data found in /home/python/Library/CloudStorage/GoogleDrive-chris.perso@gmail.com/My Drive/Colab Notebooks/Ethereum Prices/ETHUSDT/2019, loading from binance\n",
      ".no previous data found in /home/python/Library/CloudStorage/GoogleDrive-chris.perso@gmail.com/My Drive/Colab Notebooks/Ethereum Prices/ETHUSDT/2019, loading from binance\n",
      ".no previous data found in /home/python/Library/CloudStorage/GoogleDrive-chris.perso@gmail.com/My Drive/Colab Notebooks/Ethereum Prices/ETHUSDT/2019, loading from binance\n",
      "\n",
      "loading 2020 .no previous data found in /home/python/Library/CloudStorage/GoogleDrive-chris.perso@gmail.com/My Drive/Colab Notebooks/Ethereum Prices/ETHUSDT/2020, loading from binance\n",
      ".no previous data found in /home/python/Library/CloudStorage/GoogleDrive-chris.perso@gmail.com/My Drive/Colab Notebooks/Ethereum Prices/ETHUSDT/2020, loading from binance\n",
      ".no previous data found in /home/python/Library/CloudStorage/GoogleDrive-chris.perso@gmail.com/My Drive/Colab Notebooks/Ethereum Prices/ETHUSDT/2020, loading from binance\n",
      ".no previous data found in /home/python/Library/CloudStorage/GoogleDrive-chris.perso@gmail.com/My Drive/Colab Notebooks/Ethereum Prices/ETHUSDT/2020, loading from binance\n",
      ".no previous data found in /home/python/Library/CloudStorage/GoogleDrive-chris.perso@gmail.com/My Drive/Colab Notebooks/Ethereum Prices/ETHUSDT/2020, loading from binance\n",
      ".no previous data found in /home/python/Library/CloudStorage/GoogleDrive-chris.perso@gmail.com/My Drive/Colab Notebooks/Ethereum Prices/ETHUSDT/2020, loading from binance\n",
      ".no previous data found in /home/python/Library/CloudStorage/GoogleDrive-chris.perso@gmail.com/My Drive/Colab Notebooks/Ethereum Prices/ETHUSDT/2020, loading from binance\n",
      ".no previous data found in /home/python/Library/CloudStorage/GoogleDrive-chris.perso@gmail.com/My Drive/Colab Notebooks/Ethereum Prices/ETHUSDT/2020, loading from binance\n",
      ".no previous data found in /home/python/Library/CloudStorage/GoogleDrive-chris.perso@gmail.com/My Drive/Colab Notebooks/Ethereum Prices/ETHUSDT/2020, loading from binance\n",
      ".no previous data found in /home/python/Library/CloudStorage/GoogleDrive-chris.perso@gmail.com/My Drive/Colab Notebooks/Ethereum Prices/ETHUSDT/2020, loading from binance\n",
      ".no previous data found in /home/python/Library/CloudStorage/GoogleDrive-chris.perso@gmail.com/My Drive/Colab Notebooks/Ethereum Prices/ETHUSDT/2020, loading from binance\n",
      ".no previous data found in /home/python/Library/CloudStorage/GoogleDrive-chris.perso@gmail.com/My Drive/Colab Notebooks/Ethereum Prices/ETHUSDT/2020, loading from binance\n",
      "\n",
      "loading 2021 .no previous data found in /home/python/Library/CloudStorage/GoogleDrive-chris.perso@gmail.com/My Drive/Colab Notebooks/Ethereum Prices/ETHUSDT/2021, loading from binance\n",
      ".no previous data found in /home/python/Library/CloudStorage/GoogleDrive-chris.perso@gmail.com/My Drive/Colab Notebooks/Ethereum Prices/ETHUSDT/2021, loading from binance\n",
      ".no previous data found in /home/python/Library/CloudStorage/GoogleDrive-chris.perso@gmail.com/My Drive/Colab Notebooks/Ethereum Prices/ETHUSDT/2021, loading from binance\n",
      ".no previous data found in /home/python/Library/CloudStorage/GoogleDrive-chris.perso@gmail.com/My Drive/Colab Notebooks/Ethereum Prices/ETHUSDT/2021, loading from binance\n",
      ".no previous data found in /home/python/Library/CloudStorage/GoogleDrive-chris.perso@gmail.com/My Drive/Colab Notebooks/Ethereum Prices/ETHUSDT/2021, loading from binance\n",
      ".no previous data found in /home/python/Library/CloudStorage/GoogleDrive-chris.perso@gmail.com/My Drive/Colab Notebooks/Ethereum Prices/ETHUSDT/2021, loading from binance\n",
      ".no previous data found in /home/python/Library/CloudStorage/GoogleDrive-chris.perso@gmail.com/My Drive/Colab Notebooks/Ethereum Prices/ETHUSDT/2021, loading from binance\n",
      ".no previous data found in /home/python/Library/CloudStorage/GoogleDrive-chris.perso@gmail.com/My Drive/Colab Notebooks/Ethereum Prices/ETHUSDT/2021, loading from binance\n",
      ".no previous data found in /home/python/Library/CloudStorage/GoogleDrive-chris.perso@gmail.com/My Drive/Colab Notebooks/Ethereum Prices/ETHUSDT/2021, loading from binance\n",
      ".no previous data found in /home/python/Library/CloudStorage/GoogleDrive-chris.perso@gmail.com/My Drive/Colab Notebooks/Ethereum Prices/ETHUSDT/2021, loading from binance\n",
      ".no previous data found in /home/python/Library/CloudStorage/GoogleDrive-chris.perso@gmail.com/My Drive/Colab Notebooks/Ethereum Prices/ETHUSDT/2021, loading from binance\n",
      ".no previous data found in /home/python/Library/CloudStorage/GoogleDrive-chris.perso@gmail.com/My Drive/Colab Notebooks/Ethereum Prices/ETHUSDT/2021, loading from binance\n",
      "\n",
      "loading 2022 .no previous data found in /home/python/Library/CloudStorage/GoogleDrive-chris.perso@gmail.com/My Drive/Colab Notebooks/Ethereum Prices/ETHUSDT/2022, loading from binance\n",
      ".no previous data found in /home/python/Library/CloudStorage/GoogleDrive-chris.perso@gmail.com/My Drive/Colab Notebooks/Ethereum Prices/ETHUSDT/2022, loading from binance\n",
      ".no previous data found in /home/python/Library/CloudStorage/GoogleDrive-chris.perso@gmail.com/My Drive/Colab Notebooks/Ethereum Prices/ETHUSDT/2022, loading from binance\n",
      ".no previous data found in /home/python/Library/CloudStorage/GoogleDrive-chris.perso@gmail.com/My Drive/Colab Notebooks/Ethereum Prices/ETHUSDT/2022, loading from binance\n",
      ".no previous data found in /home/python/Library/CloudStorage/GoogleDrive-chris.perso@gmail.com/My Drive/Colab Notebooks/Ethereum Prices/ETHUSDT/2022, loading from binance\n",
      ".no previous data found in /home/python/Library/CloudStorage/GoogleDrive-chris.perso@gmail.com/My Drive/Colab Notebooks/Ethereum Prices/ETHUSDT/2022, loading from binance\n",
      ".no previous data found in /home/python/Library/CloudStorage/GoogleDrive-chris.perso@gmail.com/My Drive/Colab Notebooks/Ethereum Prices/ETHUSDT/2022, loading from binance\n",
      ".no previous data found in /home/python/Library/CloudStorage/GoogleDrive-chris.perso@gmail.com/My Drive/Colab Notebooks/Ethereum Prices/ETHUSDT/2022, loading from binance\n",
      ".no previous data found in /home/python/Library/CloudStorage/GoogleDrive-chris.perso@gmail.com/My Drive/Colab Notebooks/Ethereum Prices/ETHUSDT/2022, loading from binance\n",
      ".no previous data found in /home/python/Library/CloudStorage/GoogleDrive-chris.perso@gmail.com/My Drive/Colab Notebooks/Ethereum Prices/ETHUSDT/2022, loading from binance\n",
      ".no previous data found in /home/python/Library/CloudStorage/GoogleDrive-chris.perso@gmail.com/My Drive/Colab Notebooks/Ethereum Prices/ETHUSDT/2022, loading from binance\n",
      ".no previous data found in /home/python/Library/CloudStorage/GoogleDrive-chris.perso@gmail.com/My Drive/Colab Notebooks/Ethereum Prices/ETHUSDT/2022, loading from binance\n",
      "\n",
      "loading 2023 .no previous data found in /home/python/Library/CloudStorage/GoogleDrive-chris.perso@gmail.com/My Drive/Colab Notebooks/Ethereum Prices/ETHUSDT/2023, loading from binance\n",
      ".no previous data found in /home/python/Library/CloudStorage/GoogleDrive-chris.perso@gmail.com/My Drive/Colab Notebooks/Ethereum Prices/ETHUSDT/2023, loading from binance\n",
      ".no previous data found in /home/python/Library/CloudStorage/GoogleDrive-chris.perso@gmail.com/My Drive/Colab Notebooks/Ethereum Prices/ETHUSDT/2023, loading from binance\n",
      ".no previous data found in /home/python/Library/CloudStorage/GoogleDrive-chris.perso@gmail.com/My Drive/Colab Notebooks/Ethereum Prices/ETHUSDT/2023, loading from binance\n",
      ".no previous data found in /home/python/Library/CloudStorage/GoogleDrive-chris.perso@gmail.com/My Drive/Colab Notebooks/Ethereum Prices/ETHUSDT/2023, loading from binance\n",
      ".no previous data found in /home/python/Library/CloudStorage/GoogleDrive-chris.perso@gmail.com/My Drive/Colab Notebooks/Ethereum Prices/ETHUSDT/2023, loading from binance\n",
      ".no previous data found in /home/python/Library/CloudStorage/GoogleDrive-chris.perso@gmail.com/My Drive/Colab Notebooks/Ethereum Prices/ETHUSDT/2023, loading from binance\n",
      ".no previous data found in /home/python/Library/CloudStorage/GoogleDrive-chris.perso@gmail.com/My Drive/Colab Notebooks/Ethereum Prices/ETHUSDT/2023, loading from binance\n",
      ".no previous data found in /home/python/Library/CloudStorage/GoogleDrive-chris.perso@gmail.com/My Drive/Colab Notebooks/Ethereum Prices/ETHUSDT/2023, loading from binance\n",
      ".no previous data found in /home/python/Library/CloudStorage/GoogleDrive-chris.perso@gmail.com/My Drive/Colab Notebooks/Ethereum Prices/ETHUSDT/2023, loading from binance\n",
      ".no previous data found in /home/python/Library/CloudStorage/GoogleDrive-chris.perso@gmail.com/My Drive/Colab Notebooks/Ethereum Prices/ETHUSDT/2023, loading from binance\n",
      ".no previous data found in /home/python/Library/CloudStorage/GoogleDrive-chris.perso@gmail.com/My Drive/Colab Notebooks/Ethereum Prices/ETHUSDT/2023, loading from binance\n",
      "\n",
      "loading 2024 \n",
      "interrupting at 2024/01\n"
     ]
    }
   ],
   "source": [
    "import importlib.util\n",
    "import os\n",
    "google_colab_spec = importlib.util.find_spec(\"google\") and importlib.util.find_spec(\"google.colab\")\n",
    "if google_colab_spec:\n",
    "    google_colab = importlib.import_module('google.colab')\n",
    "    google_colab.drive.mount('/content/drive', force_remount=True)\n",
    "    path = '/content/drive/MyDrive/Colab Notebooks/Ethereum Prices'\n",
    "else:\n",
    "    path = f'{os.environ[\"HOME\"]}/Library/CloudStorage/GoogleDrive-chris.perso@gmail.com/My Drive/Colab Notebooks/Ethereum Prices'\n",
    "\n",
    "import optionspricing\n",
    "import binanceprices\n",
    "\n",
    "COUNT_YEARS = 10\n",
    "BINANCE_DATETIME_FORMAT = \"%Y-%m-%d %H-%M-%S\"\n",
    "BINANCE_SYMBOL = 'ETHUSDT'\n",
    "\n",
    "prices_df = binanceprices.load_prices(path, BINANCE_SYMBOL, COUNT_YEARS)\n"
   ]
  },
  {
   "cell_type": "markdown",
   "metadata": {
    "id": "-cJhFZGk5SMS"
   },
   "source": [
    "## Option valuation model: input parameters here"
   ]
  },
  {
   "cell_type": "code",
   "execution_count": 2,
   "metadata": {
    "ExecuteTime": {
     "end_time": "2024-01-29T10:28:52.874110Z",
     "start_time": "2024-01-29T10:28:49.030564Z"
    },
    "collapsed": false
   },
   "outputs": [
    {
     "name": "stdout",
     "output_type": "stream",
     "text": [
      "target expiry: 2024-02-01 08:00:00+00:00 (62 hours left)\n",
      "current price: 2304.34\n",
      "-------------------------------\n",
      "trading put 2275 and call 2325 (hit ratio: 47%)\n",
      "cost: 0.019 / value: 0.031, benefit/cost = 1.6x\n",
      "($) cost: 43.78 / value: 71.78, average gain = 28.00\n",
      "-------------------------------\n",
      "trading put 2250 and call 2350 (hit ratio: 42%)\n",
      "cost: 0.013 / value: 0.024, benefit/cost = 1.9x\n",
      "($) cost: 28.80 / value: 55.29, average gain = 26.48\n",
      "-------------------------------\n",
      "trading put 2225 and call 2375 (hit ratio: 36%)\n",
      "cost: 0.008 / value: 0.019, benefit/cost = 2.3x\n",
      "($) cost: 18.43 / value: 42.71, average gain = 24.27\n",
      "-------------------------------\n",
      "trading put 2200 and call 2400 (hit ratio: 30%)\n",
      "cost: 0.005 / value: 0.014, benefit/cost = 2.8x\n",
      "($) cost: 11.98 / value: 33.06, average gain = 21.08\n"
     ]
    },
    {
     "data": {
      "text/plain": [
       "[{'put': 2250.0, 'call': 2350.0, 'quantity': 1},\n",
       " {'put': 2225.0, 'call': 2375.0, 'quantity': 1}]"
      ]
     },
     "execution_count": 2,
     "metadata": {},
     "output_type": "execute_result"
    }
   ],
   "source": [
    "target_period_hours = 3 * 24\n",
    "strikes_universe_size = 4\n",
    "CUT_OFF_YEAR_MONTH = (2022, 1)\n",
    "\n",
    "instrument_code = BINANCE_SYMBOL[:3]\n",
    "\n",
    "headers = {\"Content-Type\": \"application/json\"}\n",
    "base_url = \"https://www.deribit.com/api/v2/public\"\n",
    "\n",
    "trading_model = optionspricing.TradingModel(base_url, headers, instrument_code, target_period_hours)\n",
    "trading_model.cutoff_year_month(CUT_OFF_YEAR_MONTH)\n",
    "target_expiry = trading_model.target_expiry\n",
    "underlying_price = trading_model.underlying_price\n",
    "remaining_hours = trading_model.remaining_hours\n",
    "\n",
    "simulation = trading_model.evaluate(prices_df, strikes_universe_size)\n",
    "print(simulation)\n",
    "simulation.allocate([1, 2], 1500. * 2./100.)"
   ]
  },
  {
   "cell_type": "code",
   "execution_count": 3,
   "metadata": {
    "ExecuteTime": {
     "end_time": "2024-01-29T10:28:53.839639Z",
     "start_time": "2024-01-29T10:28:53.814899Z"
    },
    "id": "Nwr0Hlj75SMV",
    "outputId": "430484f0-9bd3-4b6e-e0da-5c9891594905"
   },
   "outputs": [
    {
     "data": {
      "text/html": [
       "<div>\n",
       "<style scoped>\n",
       "    .dataframe tbody tr th:only-of-type {\n",
       "        vertical-align: middle;\n",
       "    }\n",
       "\n",
       "    .dataframe tbody tr th {\n",
       "        vertical-align: top;\n",
       "    }\n",
       "\n",
       "    .dataframe thead th {\n",
       "        text-align: right;\n",
       "    }\n",
       "</style>\n",
       "<table border=\"1\" class=\"dataframe\">\n",
       "  <thead>\n",
       "    <tr style=\"text-align: right;\">\n",
       "      <th></th>\n",
       "      <th>value_call</th>\n",
       "      <th>value_call_pct</th>\n",
       "      <th>call_ask</th>\n",
       "      <th>value_put</th>\n",
       "      <th>value_put_pct</th>\n",
       "      <th>put_ask</th>\n",
       "    </tr>\n",
       "    <tr>\n",
       "      <th>strike</th>\n",
       "      <th></th>\n",
       "      <th></th>\n",
       "      <th></th>\n",
       "      <th></th>\n",
       "      <th></th>\n",
       "      <th></th>\n",
       "    </tr>\n",
       "  </thead>\n",
       "  <tbody>\n",
       "    <tr>\n",
       "      <th>2200.0</th>\n",
       "      <td>120.656609</td>\n",
       "      <td>NaN</td>\n",
       "      <td>NaN</td>\n",
       "      <td>16.369738</td>\n",
       "      <td>0.007104</td>\n",
       "      <td>0.0023</td>\n",
       "    </tr>\n",
       "    <tr>\n",
       "      <th>2225.0</th>\n",
       "      <td>100.067334</td>\n",
       "      <td>NaN</td>\n",
       "      <td>NaN</td>\n",
       "      <td>20.780463</td>\n",
       "      <td>0.009018</td>\n",
       "      <td>0.0036</td>\n",
       "    </tr>\n",
       "    <tr>\n",
       "      <th>2250.0</th>\n",
       "      <td>80.818866</td>\n",
       "      <td>NaN</td>\n",
       "      <td>NaN</td>\n",
       "      <td>26.531996</td>\n",
       "      <td>0.011514</td>\n",
       "      <td>0.0055</td>\n",
       "    </tr>\n",
       "    <tr>\n",
       "      <th>2275.0</th>\n",
       "      <td>63.561874</td>\n",
       "      <td>NaN</td>\n",
       "      <td>0.0225</td>\n",
       "      <td>34.275003</td>\n",
       "      <td>0.014874</td>\n",
       "      <td>0.0085</td>\n",
       "    </tr>\n",
       "    <tr>\n",
       "      <th>2300.0</th>\n",
       "      <td>48.887714</td>\n",
       "      <td>NaN</td>\n",
       "      <td>0.0155</td>\n",
       "      <td>44.600843</td>\n",
       "      <td>0.019355</td>\n",
       "      <td>0.0130</td>\n",
       "    </tr>\n",
       "    <tr>\n",
       "      <th>2325.0</th>\n",
       "      <td>37.504339</td>\n",
       "      <td>0.016276</td>\n",
       "      <td>0.0105</td>\n",
       "      <td>58.217469</td>\n",
       "      <td>NaN</td>\n",
       "      <td>0.0190</td>\n",
       "    </tr>\n",
       "    <tr>\n",
       "      <th>2350.0</th>\n",
       "      <td>28.754396</td>\n",
       "      <td>0.012478</td>\n",
       "      <td>0.0070</td>\n",
       "      <td>74.467525</td>\n",
       "      <td>NaN</td>\n",
       "      <td>NaN</td>\n",
       "    </tr>\n",
       "    <tr>\n",
       "      <th>2375.0</th>\n",
       "      <td>21.926512</td>\n",
       "      <td>0.009515</td>\n",
       "      <td>0.0044</td>\n",
       "      <td>92.639642</td>\n",
       "      <td>NaN</td>\n",
       "      <td>NaN</td>\n",
       "    </tr>\n",
       "    <tr>\n",
       "      <th>2400.0</th>\n",
       "      <td>16.692952</td>\n",
       "      <td>0.007244</td>\n",
       "      <td>0.0029</td>\n",
       "      <td>112.406081</td>\n",
       "      <td>NaN</td>\n",
       "      <td>NaN</td>\n",
       "    </tr>\n",
       "  </tbody>\n",
       "</table>\n",
       "</div>"
      ],
      "text/plain": [
       "        value_call  value_call_pct  call_ask   value_put  value_put_pct  \\\n",
       "strike                                                                    \n",
       "2200.0  120.656609             NaN       NaN   16.369738       0.007104   \n",
       "2225.0  100.067334             NaN       NaN   20.780463       0.009018   \n",
       "2250.0   80.818866             NaN       NaN   26.531996       0.011514   \n",
       "2275.0   63.561874             NaN    0.0225   34.275003       0.014874   \n",
       "2300.0   48.887714             NaN    0.0155   44.600843       0.019355   \n",
       "2325.0   37.504339        0.016276    0.0105   58.217469            NaN   \n",
       "2350.0   28.754396        0.012478    0.0070   74.467525            NaN   \n",
       "2375.0   21.926512        0.009515    0.0044   92.639642            NaN   \n",
       "2400.0   16.692952        0.007244    0.0029  112.406081            NaN   \n",
       "\n",
       "        put_ask  \n",
       "strike           \n",
       "2200.0   0.0023  \n",
       "2225.0   0.0036  \n",
       "2250.0   0.0055  \n",
       "2275.0   0.0085  \n",
       "2300.0   0.0130  \n",
       "2325.0   0.0190  \n",
       "2350.0      NaN  \n",
       "2375.0      NaN  \n",
       "2400.0      NaN  "
      ]
     },
     "execution_count": 3,
     "metadata": {},
     "output_type": "execute_result"
    }
   ],
   "source": [
    "simulation.options_chain"
   ]
  },
  {
   "cell_type": "code",
   "execution_count": 3,
   "metadata": {
    "ExecuteTime": {
     "end_time": "2024-01-27T08:01:21.174652Z",
     "start_time": "2024-01-27T08:01:21.143165Z"
    },
    "collapsed": false
   },
   "outputs": [],
   "source": []
  }
 ],
 "metadata": {
  "colab": {
   "provenance": []
  },
  "kernelspec": {
   "display_name": "Python 3 (ipykernel)",
   "language": "python",
   "name": "python3"
  },
  "language_info": {
   "codemirror_mode": {
    "name": "ipython",
    "version": 3
   },
   "file_extension": ".py",
   "mimetype": "text/x-python",
   "name": "python",
   "nbconvert_exporter": "python",
   "pygments_lexer": "ipython3",
   "version": "3.12.1"
  }
 },
 "nbformat": 4,
 "nbformat_minor": 4
}
