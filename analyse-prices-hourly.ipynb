{
 "cells": [
  {
   "cell_type": "code",
   "execution_count": 8,
   "metadata": {
    "ExecuteTime": {
     "end_time": "2024-01-26T18:27:29.737820Z",
     "start_time": "2024-01-26T18:27:16.798494Z"
    },
    "colab": {
     "base_uri": "https://localhost:8080/"
    },
    "id": "4kMo6W1p5SMO",
    "outputId": "e249ee53-b2a5-4724-efdc-392594676e02"
   },
   "outputs": [
    {
     "name": "stdout",
     "output_type": "stream",
     "text": [
      "\u001b[34mUpdating dependencies\u001b[39m\n",
      "\u001b[2K\u001b[34mResolving dependencies...\u001b[39m \u001b[39;2m(9.0s)\u001b[39;22m\n",
      "\n",
      "No dependencies to install or update\n"
     ]
    }
   ],
   "source": [
    "!bash --login -c \"poetry update\""
   ]
  },
  {
   "cell_type": "markdown",
   "metadata": {
    "collapsed": false,
    "id": "h-A4kPps5SMQ"
   },
   "source": [
    "# Option valuation model based on historical prices"
   ]
  },
  {
   "cell_type": "markdown",
   "metadata": {},
   "source": [
    "This code assumes `aws configure` has been run in the environment of the notebook."
   ]
  },
  {
   "cell_type": "code",
   "execution_count": 1,
   "metadata": {
    "ExecuteTime": {
     "end_time": "2024-01-28T09:44:12.952782Z",
     "start_time": "2024-01-28T09:44:10.909325Z"
    },
    "colab": {
     "base_uri": "https://localhost:8080/",
     "height": 443
    },
    "id": "nxChr0ny5SMS",
    "outputId": "2a84f330-be20-4baf-edb1-95e8b7d4f4ab"
   },
   "outputs": [],
   "source": [
    "import optionspricing\n",
    "import boto3\n",
    "import helpers\n",
    "import pandas\n",
    "from dotenv import load_dotenv\n",
    "\n",
    "load_dotenv()\n",
    "\n",
    "BINANCE_SYMBOL = 'ETHUSDT'\n",
    "\n",
    "s3 = boto3.resource('s3')\n",
    "\n",
    "data_file = helpers.fetch_object(s3, \"test-binance-prices-255120844515\", f\"{BINANCE_SYMBOL}-full.csv.zip\")\n",
    "prices_df = pandas.read_csv(data_file, compression='zip', header=0, index_col=\"dateTime\")\n",
    "prices_df.index = pandas.to_datetime(prices_df.index)"
   ]
  },
  {
   "cell_type": "markdown",
   "metadata": {
    "id": "-cJhFZGk5SMS"
   },
   "source": [
    "## Option valuation model: input parameters here"
   ]
  },
  {
   "cell_type": "code",
   "execution_count": 2,
   "metadata": {
    "ExecuteTime": {
     "end_time": "2024-01-29T10:28:52.874110Z",
     "start_time": "2024-01-29T10:28:49.030564Z"
    },
    "collapsed": false
   },
   "outputs": [
    {
     "name": "stderr",
     "output_type": "stream",
     "text": [
      "WARNING:root:calling option chain: https://www.deribit.com/api/v2/public/get_instruments?currency=ETH&kind=option&expired=false\n"
     ]
    },
    {
     "name": "stdout",
     "output_type": "stream",
     "text": [
      "target expiry: Sat 16 Mar, 08:00 (43 hours left)\n",
      "current price: 3932.59\n",
      "-------------------------------\n",
      "hit ratio: 40%\n",
      "cost: 0.030 / value: 0.034, gain% = 0.38%\n",
      "($) cost: 119.94 / value: 135.08, average gain = 15.13\n",
      "buy put 3900.0\n",
      "buy call 3950.0\n",
      "-------------------------------\n",
      "hit ratio: 38%\n",
      "cost: 0.026 / value: 0.029, gain% = 0.34%\n",
      "($) cost: 102.25 / value: 115.76, average gain = 13.51\n",
      "buy put 3875.0\n",
      "buy call 3975.0\n",
      "-------------------------------\n",
      "hit ratio: 36%\n",
      "cost: 0.021 / value: 0.025, gain% = 0.37%\n",
      "($) cost: 84.55 / value: 99.27, average gain = 14.72\n",
      "buy put 3850.0\n",
      "buy call 4000.0\n",
      "-------------------------------\n",
      "hit ratio: 34%\n",
      "cost: 0.018 / value: 0.022, gain% = 0.37%\n",
      "($) cost: 70.79 / value: 85.15, average gain = 14.37\n",
      "buy put 3825.0\n",
      "buy call 4025.0\n"
     ]
    }
   ],
   "source": [
    "target_period_hours = 2 * 24\n",
    "strikes_universe_size = 4\n",
    "CUT_OFF_YEAR_MONTH = (2021, 1)\n",
    "\n",
    "instrument_code = BINANCE_SYMBOL[:3]\n",
    "\n",
    "headers = {\"Content-Type\": \"application/json\"}\n",
    "base_url = \"https://www.deribit.com/api/v2/public\"\n",
    "\n",
    "trading_model = optionspricing.TradingModel(base_url, headers, instrument_code, target_period_hours)\n",
    "trading_model.cutoff_year_month(CUT_OFF_YEAR_MONTH)\n",
    "target_expiry = trading_model.target_expiry\n",
    "underlying_price = trading_model.underlying_price\n",
    "remaining_hours = trading_model.remaining_hours\n",
    "\n",
    "option_chain_df = trading_model.evaluate(prices_df, strikes_universe_size)\n",
    "simulation = trading_model.simulate_strategy_long_straddle(option_chain_df, strikes_universe_size)\n",
    "print(simulation)"
   ]
  },
  {
   "cell_type": "code",
   "execution_count": 3,
   "metadata": {
    "ExecuteTime": {
     "end_time": "2024-01-29T10:28:53.839639Z",
     "start_time": "2024-01-29T10:28:53.814899Z"
    },
    "id": "Nwr0Hlj75SMV",
    "outputId": "430484f0-9bd3-4b6e-e0da-5c9891594905"
   },
   "outputs": [
    {
     "data": {
      "text/html": [
       "<div>\n",
       "<style scoped>\n",
       "    .dataframe tbody tr th:only-of-type {\n",
       "        vertical-align: middle;\n",
       "    }\n",
       "\n",
       "    .dataframe tbody tr th {\n",
       "        vertical-align: top;\n",
       "    }\n",
       "\n",
       "    .dataframe thead th {\n",
       "        text-align: right;\n",
       "    }\n",
       "</style>\n",
       "<table border=\"1\" class=\"dataframe\">\n",
       "  <thead>\n",
       "    <tr style=\"text-align: right;\">\n",
       "      <th></th>\n",
       "      <th>value_call</th>\n",
       "      <th>value_call_pct</th>\n",
       "      <th>call_bid</th>\n",
       "      <th>call_ask</th>\n",
       "      <th>value_put</th>\n",
       "      <th>value_put_pct</th>\n",
       "      <th>put_bid</th>\n",
       "      <th>put_ask</th>\n",
       "    </tr>\n",
       "    <tr>\n",
       "      <th>strike</th>\n",
       "      <th></th>\n",
       "      <th></th>\n",
       "      <th></th>\n",
       "      <th></th>\n",
       "      <th></th>\n",
       "      <th></th>\n",
       "      <th></th>\n",
       "      <th></th>\n",
       "    </tr>\n",
       "  </thead>\n",
       "  <tbody>\n",
       "    <tr>\n",
       "      <th>3825.0</th>\n",
       "      <td>160.512579</td>\n",
       "      <td>NaN</td>\n",
       "      <td>0.0325</td>\n",
       "      <td>0.0470</td>\n",
       "      <td>34.584382</td>\n",
       "      <td>0.008789</td>\n",
       "      <td>0.0065</td>\n",
       "      <td>0.0075</td>\n",
       "    </tr>\n",
       "    <tr>\n",
       "      <th>3850.0</th>\n",
       "      <td>141.467339</td>\n",
       "      <td>NaN</td>\n",
       "      <td>0.0280</td>\n",
       "      <td>0.0395</td>\n",
       "      <td>40.539142</td>\n",
       "      <td>0.010302</td>\n",
       "      <td>0.0080</td>\n",
       "      <td>0.0090</td>\n",
       "    </tr>\n",
       "    <tr>\n",
       "      <th>3875.0</th>\n",
       "      <td>123.566344</td>\n",
       "      <td>NaN</td>\n",
       "      <td>0.0245</td>\n",
       "      <td>0.0305</td>\n",
       "      <td>47.638148</td>\n",
       "      <td>0.012107</td>\n",
       "      <td>0.0100</td>\n",
       "      <td>0.0110</td>\n",
       "    </tr>\n",
       "    <tr>\n",
       "      <th>3900.0</th>\n",
       "      <td>107.019053</td>\n",
       "      <td>NaN</td>\n",
       "      <td>0.0220</td>\n",
       "      <td>0.0255</td>\n",
       "      <td>56.090856</td>\n",
       "      <td>0.014255</td>\n",
       "      <td>0.0125</td>\n",
       "      <td>0.0135</td>\n",
       "    </tr>\n",
       "    <tr>\n",
       "      <th>3925.0</th>\n",
       "      <td>92.132681</td>\n",
       "      <td>NaN</td>\n",
       "      <td>0.0200</td>\n",
       "      <td>0.0210</td>\n",
       "      <td>66.204484</td>\n",
       "      <td>0.016825</td>\n",
       "      <td>0.0150</td>\n",
       "      <td>0.0160</td>\n",
       "    </tr>\n",
       "    <tr>\n",
       "      <th>3950.0</th>\n",
       "      <td>79.296090</td>\n",
       "      <td>0.020152</td>\n",
       "      <td>0.0165</td>\n",
       "      <td>0.0180</td>\n",
       "      <td>78.367893</td>\n",
       "      <td>NaN</td>\n",
       "      <td>0.0180</td>\n",
       "      <td>0.0190</td>\n",
       "    </tr>\n",
       "    <tr>\n",
       "      <th>3975.0</th>\n",
       "      <td>68.417843</td>\n",
       "      <td>0.017387</td>\n",
       "      <td>0.0135</td>\n",
       "      <td>0.0150</td>\n",
       "      <td>92.489646</td>\n",
       "      <td>NaN</td>\n",
       "      <td>0.0210</td>\n",
       "      <td>0.0240</td>\n",
       "    </tr>\n",
       "    <tr>\n",
       "      <th>4000.0</th>\n",
       "      <td>59.018016</td>\n",
       "      <td>0.014999</td>\n",
       "      <td>0.0115</td>\n",
       "      <td>0.0125</td>\n",
       "      <td>108.089819</td>\n",
       "      <td>NaN</td>\n",
       "      <td>0.0245</td>\n",
       "      <td>0.0280</td>\n",
       "    </tr>\n",
       "    <tr>\n",
       "      <th>4025.0</th>\n",
       "      <td>50.842419</td>\n",
       "      <td>0.012921</td>\n",
       "      <td>0.0090</td>\n",
       "      <td>0.0105</td>\n",
       "      <td>124.914223</td>\n",
       "      <td>NaN</td>\n",
       "      <td>0.0285</td>\n",
       "      <td>0.0320</td>\n",
       "    </tr>\n",
       "  </tbody>\n",
       "</table>\n",
       "</div>"
      ],
      "text/plain": [
       "        value_call  value_call_pct  call_bid  call_ask   value_put  \\\n",
       "strike                                                               \n",
       "3825.0  160.512579             NaN    0.0325    0.0470   34.584382   \n",
       "3850.0  141.467339             NaN    0.0280    0.0395   40.539142   \n",
       "3875.0  123.566344             NaN    0.0245    0.0305   47.638148   \n",
       "3900.0  107.019053             NaN    0.0220    0.0255   56.090856   \n",
       "3925.0   92.132681             NaN    0.0200    0.0210   66.204484   \n",
       "3950.0   79.296090        0.020152    0.0165    0.0180   78.367893   \n",
       "3975.0   68.417843        0.017387    0.0135    0.0150   92.489646   \n",
       "4000.0   59.018016        0.014999    0.0115    0.0125  108.089819   \n",
       "4025.0   50.842419        0.012921    0.0090    0.0105  124.914223   \n",
       "\n",
       "        value_put_pct  put_bid  put_ask  \n",
       "strike                                   \n",
       "3825.0       0.008789   0.0065   0.0075  \n",
       "3850.0       0.010302   0.0080   0.0090  \n",
       "3875.0       0.012107   0.0100   0.0110  \n",
       "3900.0       0.014255   0.0125   0.0135  \n",
       "3925.0       0.016825   0.0150   0.0160  \n",
       "3950.0            NaN   0.0180   0.0190  \n",
       "3975.0            NaN   0.0210   0.0240  \n",
       "4000.0            NaN   0.0245   0.0280  \n",
       "4025.0            NaN   0.0285   0.0320  "
      ]
     },
     "execution_count": 3,
     "metadata": {},
     "output_type": "execute_result"
    }
   ],
   "source": [
    "simulation.options_chain"
   ]
  },
  {
   "cell_type": "markdown",
   "metadata": {},
   "source": [
    "# Sanity checks"
   ]
  },
  {
   "cell_type": "code",
   "execution_count": 5,
   "metadata": {},
   "outputs": [
    {
     "name": "stdout",
     "output_type": "stream",
     "text": [
      "target expiry: Sat 16 Mar, 08:00 (43 hours left)\n",
      "current price: 3932.59\n",
      "-------------------------------\n",
      "hit ratio: 39%\n",
      "cost: 0.026 / value: 0.029, gain% = 0.39%\n",
      "($) cost: 100.28 / value: 115.76, average gain = 15.47\n",
      "buy put 3875.0\n",
      "buy call 3975.0\n"
     ]
    }
   ],
   "source": [
    "size = 8\n",
    "option_chain_df = trading_model.evaluate(prices_df, strikes_universe_size=size)\n",
    "put_weights = [0.] * (2 * size + 1)\n",
    "call_weights = [0.] * (2 * size + 1)\n",
    "put_weights[size - 5] = 0.\n",
    "put_weights[size - 2] = 1.\n",
    "call_weights[size + 2] = 1.\n",
    "call_weights[size + 5] = 0.\n",
    "\n",
    "simulation = trading_model.simulate_strategy(option_chain_df, put_weights, call_weights)\n",
    "print(simulation)"
   ]
  }
 ],
 "metadata": {
  "colab": {
   "provenance": []
  },
  "kernelspec": {
   "display_name": "Python 3 (ipykernel)",
   "language": "python",
   "name": "python3"
  },
  "language_info": {
   "codemirror_mode": {
    "name": "ipython",
    "version": 3
   },
   "file_extension": ".py",
   "mimetype": "text/x-python",
   "name": "python",
   "nbconvert_exporter": "python",
   "pygments_lexer": "ipython3",
   "version": "3.12.1"
  }
 },
 "nbformat": 4,
 "nbformat_minor": 4
}
