{
 "cells": [
  {
   "cell_type": "code",
   "execution_count": 8,
   "metadata": {
    "ExecuteTime": {
     "end_time": "2024-01-26T18:27:29.737820Z",
     "start_time": "2024-01-26T18:27:16.798494Z"
    },
    "colab": {
     "base_uri": "https://localhost:8080/"
    },
    "id": "4kMo6W1p5SMO",
    "outputId": "e249ee53-b2a5-4724-efdc-392594676e02"
   },
   "outputs": [
    {
     "name": "stdout",
     "output_type": "stream",
     "text": [
      "\u001b[34mUpdating dependencies\u001b[39m\n",
      "\u001b[2K\u001b[34mResolving dependencies...\u001b[39m \u001b[39;2m(9.0s)\u001b[39;22m\n",
      "\n",
      "No dependencies to install or update\n"
     ]
    }
   ],
   "source": [
    "!bash --login -c \"poetry update\""
   ]
  },
  {
   "cell_type": "markdown",
   "metadata": {
    "collapsed": false,
    "id": "h-A4kPps5SMQ"
   },
   "source": [
    "# Option valuation model based on historical prices"
   ]
  },
  {
   "cell_type": "markdown",
   "metadata": {},
   "source": [
    "This code assumes `aws configure` has been run in the environment of the notebook."
   ]
  },
  {
   "cell_type": "code",
   "execution_count": 3,
   "metadata": {
    "ExecuteTime": {
     "end_time": "2024-01-28T09:44:12.952782Z",
     "start_time": "2024-01-28T09:44:10.909325Z"
    },
    "colab": {
     "base_uri": "https://localhost:8080/",
     "height": 443
    },
    "id": "nxChr0ny5SMS",
    "metadata": {},
    "outputId": "2a84f330-be20-4baf-edb1-95e8b7d4f4ab"
   },
   "outputs": [],
   "source": [
    "import optionspricing\n",
    "import boto3\n",
    "import helpers\n",
    "import pandas\n",
    "from dotenv import load_dotenv\n",
    "\n",
    "load_dotenv()\n",
    "\n",
    "BINANCE_ETH = \"ETHUSDT\"\n",
    "BINANCE_BTC = \"BTCUSDT\"\n",
    "BINANCE_XRP = \"XRPUSDT\"\n",
    "BINANCE_SOL = \"SOLUSDT\"\n",
    "BINANCE_MATIC = \"MATICUSDT\"\n",
    "\n",
    "BINANCE_SYMBOL = BINANCE_ETH\n",
    "  \n",
    "USD_QUOTES = [\"SOL\", \"XRP\", \"MATIC\"]\n",
    "quote_in_usd = len([prefix for prefix in USD_QUOTES if BINANCE_SYMBOL.upper().startswith(prefix)]) > 0\n",
    "\n",
    "s3 = boto3.resource('s3')\n",
    "\n",
    "data_file = helpers.fetch_object(s3, \"test-binance-prices-255120844515\", f\"{BINANCE_SYMBOL}-full.csv.zip\")\n",
    "prices_df = pandas.read_csv(data_file, compression='zip', header=0, index_col=\"dateTime\")\n",
    "prices_df.index = pandas.to_datetime(prices_df.index)"
   ]
  },
  {
   "cell_type": "markdown",
   "metadata": {
    "id": "-cJhFZGk5SMS"
   },
   "source": [
    "## Option valuation model: input parameters here"
   ]
  },
  {
   "cell_type": "code",
   "execution_count": 6,
   "metadata": {
    "ExecuteTime": {
     "end_time": "2024-01-29T10:28:52.874110Z",
     "start_time": "2024-01-29T10:28:49.030564Z"
    },
    "collapsed": false,
    "metadata": {}
   },
   "outputs": [
    {
     "name": "stderr",
     "output_type": "stream",
     "text": [
      "WARNING:root:calling option chain: https://www.deribit.com/api/v2/public/get_instruments?currency=ETH&kind=option&expired=false\n"
     ]
    },
    {
     "name": "stdout",
     "output_type": "stream",
     "text": [
      "target expiry: Thu 01 Aug, 08:00 (49 hours left)\n",
      "current price: 3320.47\n",
      "-------------------------------\n",
      "hit ratio: 45%\n",
      "cost: 0.026 / value: 0.035, gain% = 0.97%\n",
      "($) cost: 84.67 / value: 116.96, average gain = 32.29\n",
      "buy put 3300.0\n",
      "buy call 3350.0\n",
      "-------------------------------\n",
      "hit ratio: 43%\n",
      "cost: 0.019 / value: 0.030, gain% = 1.00%\n",
      "($) cost: 64.75 / value: 98.04, average gain = 33.29\n",
      "buy put 3275.0\n",
      "buy call 3375.0\n",
      "-------------------------------\n",
      "hit ratio: 40%\n",
      "cost: 0.015 / value: 0.025, gain% = 0.93%\n",
      "($) cost: 51.47 / value: 82.24, average gain = 30.78\n",
      "buy put 3250.0\n",
      "buy call 3400.0\n",
      "-------------------------------\n",
      "hit ratio: 37%\n",
      "cost: 0.012 / value: 0.021, gain% = 0.88%\n",
      "($) cost: 39.85 / value: 69.06, average gain = 29.22\n",
      "buy put 3225.0\n",
      "buy call 3425.0\n"
     ]
    }
   ],
   "source": [
    "target_period_hours = 2 * 24\n",
    "strikes_universe_size = 43\n",
    "CUT_OFF_YEAR_MONTH = (2021, 1)\n",
    "\n",
    "instrument_code = BINANCE_SYMBOL[:-4]\n",
    "\n",
    "headers = {\"Content-Type\": \"application/json\"}\n",
    "base_url = \"https://www.deribit.com/api/v2/public\"\n",
    "\n",
    "trading_model = optionspricing.TradingModel(base_url, headers, instrument_code, target_period_hours)\n",
    "trading_model.cutoff_year_month(CUT_OFF_YEAR_MONTH)\n",
    "target_expiry = trading_model.target_expiry\n",
    "underlying_price = trading_model.underlying_price\n",
    "remaining_hours = trading_model.remaining_hours\n",
    "\n",
    "option_chain_df = trading_model.evaluate(prices_df, strikes_universe_size)\n",
    "simulation = trading_model.simulate_strategy_long_straddle(option_chain_df, strikes_universe_size, quote_in_usd=quote_in_usd)\n",
    "print(simulation)"
   ]
  },
  {
   "cell_type": "code",
   "execution_count": null,
   "metadata": {},
   "outputs": [],
   "source": []
  },
  {
   "cell_type": "code",
   "execution_count": 102,
   "metadata": {
    "ExecuteTime": {
     "end_time": "2024-01-29T10:28:53.839639Z",
     "start_time": "2024-01-29T10:28:53.814899Z"
    },
    "id": "Nwr0Hlj75SMV",
    "outputId": "430484f0-9bd3-4b6e-e0da-5c9891594905"
   },
   "outputs": [
    {
     "data": {
      "text/html": [
       "<div>\n",
       "<style scoped>\n",
       "    .dataframe tbody tr th:only-of-type {\n",
       "        vertical-align: middle;\n",
       "    }\n",
       "\n",
       "    .dataframe tbody tr th {\n",
       "        vertical-align: top;\n",
       "    }\n",
       "\n",
       "    .dataframe thead th {\n",
       "        text-align: right;\n",
       "    }\n",
       "</style>\n",
       "<table border=\"1\" class=\"dataframe\">\n",
       "  <thead>\n",
       "    <tr style=\"text-align: right;\">\n",
       "      <th></th>\n",
       "      <th>value_call</th>\n",
       "      <th>value_call_pct</th>\n",
       "      <th>call_bid</th>\n",
       "      <th>call_ask</th>\n",
       "      <th>value_put</th>\n",
       "      <th>value_put_pct</th>\n",
       "      <th>put_bid</th>\n",
       "      <th>put_ask</th>\n",
       "    </tr>\n",
       "    <tr>\n",
       "      <th>strike</th>\n",
       "      <th></th>\n",
       "      <th></th>\n",
       "      <th></th>\n",
       "      <th></th>\n",
       "      <th></th>\n",
       "      <th></th>\n",
       "      <th></th>\n",
       "      <th></th>\n",
       "    </tr>\n",
       "  </thead>\n",
       "  <tbody>\n",
       "    <tr>\n",
       "      <th>3050.0</th>\n",
       "      <td>126.209997</td>\n",
       "      <td>NaN</td>\n",
       "      <td>0.0360</td>\n",
       "      <td>0.0415</td>\n",
       "      <td>9.103572</td>\n",
       "      <td>0.002879</td>\n",
       "      <td>0.0034</td>\n",
       "      <td>0.0041</td>\n",
       "    </tr>\n",
       "    <tr>\n",
       "      <th>3075.0</th>\n",
       "      <td>104.305922</td>\n",
       "      <td>NaN</td>\n",
       "      <td>0.0315</td>\n",
       "      <td>0.0345</td>\n",
       "      <td>12.199497</td>\n",
       "      <td>0.003858</td>\n",
       "      <td>0.0045</td>\n",
       "      <td>0.0055</td>\n",
       "    </tr>\n",
       "    <tr>\n",
       "      <th>3100.0</th>\n",
       "      <td>83.538378</td>\n",
       "      <td>NaN</td>\n",
       "      <td>0.0230</td>\n",
       "      <td>0.0290</td>\n",
       "      <td>16.431953</td>\n",
       "      <td>0.005197</td>\n",
       "      <td>0.0065</td>\n",
       "      <td>0.0070</td>\n",
       "    </tr>\n",
       "    <tr>\n",
       "      <th>3125.0</th>\n",
       "      <td>64.449229</td>\n",
       "      <td>NaN</td>\n",
       "      <td>0.0195</td>\n",
       "      <td>0.0220</td>\n",
       "      <td>22.342804</td>\n",
       "      <td>0.007066</td>\n",
       "      <td>0.0080</td>\n",
       "      <td>0.0090</td>\n",
       "    </tr>\n",
       "    <tr>\n",
       "      <th>3150.0</th>\n",
       "      <td>47.901750</td>\n",
       "      <td>NaN</td>\n",
       "      <td>0.0150</td>\n",
       "      <td>0.0165</td>\n",
       "      <td>30.795325</td>\n",
       "      <td>0.009739</td>\n",
       "      <td>0.0110</td>\n",
       "      <td>0.0120</td>\n",
       "    </tr>\n",
       "    <tr>\n",
       "      <th>3175.0</th>\n",
       "      <td>35.123000</td>\n",
       "      <td>0.011108</td>\n",
       "      <td>0.0105</td>\n",
       "      <td>0.0120</td>\n",
       "      <td>43.016574</td>\n",
       "      <td>NaN</td>\n",
       "      <td>0.0145</td>\n",
       "      <td>0.0160</td>\n",
       "    </tr>\n",
       "    <tr>\n",
       "      <th>3200.0</th>\n",
       "      <td>25.929310</td>\n",
       "      <td>0.008200</td>\n",
       "      <td>0.0075</td>\n",
       "      <td>0.0085</td>\n",
       "      <td>58.822885</td>\n",
       "      <td>NaN</td>\n",
       "      <td>0.0185</td>\n",
       "      <td>0.0215</td>\n",
       "    </tr>\n",
       "    <tr>\n",
       "      <th>3225.0</th>\n",
       "      <td>19.162961</td>\n",
       "      <td>0.006060</td>\n",
       "      <td>0.0050</td>\n",
       "      <td>0.0060</td>\n",
       "      <td>77.056535</td>\n",
       "      <td>NaN</td>\n",
       "      <td>0.0225</td>\n",
       "      <td>0.0285</td>\n",
       "    </tr>\n",
       "    <tr>\n",
       "      <th>3250.0</th>\n",
       "      <td>14.166475</td>\n",
       "      <td>0.004480</td>\n",
       "      <td>0.0033</td>\n",
       "      <td>0.0041</td>\n",
       "      <td>97.060050</td>\n",
       "      <td>NaN</td>\n",
       "      <td>0.0285</td>\n",
       "      <td>0.0345</td>\n",
       "    </tr>\n",
       "  </tbody>\n",
       "</table>\n",
       "</div>"
      ],
      "text/plain": [
       "        value_call  value_call_pct  call_bid  call_ask  value_put  \\\n",
       "strike                                                              \n",
       "3050.0  126.209997             NaN    0.0360    0.0415   9.103572   \n",
       "3075.0  104.305922             NaN    0.0315    0.0345  12.199497   \n",
       "3100.0   83.538378             NaN    0.0230    0.0290  16.431953   \n",
       "3125.0   64.449229             NaN    0.0195    0.0220  22.342804   \n",
       "3150.0   47.901750             NaN    0.0150    0.0165  30.795325   \n",
       "3175.0   35.123000        0.011108    0.0105    0.0120  43.016574   \n",
       "3200.0   25.929310        0.008200    0.0075    0.0085  58.822885   \n",
       "3225.0   19.162961        0.006060    0.0050    0.0060  77.056535   \n",
       "3250.0   14.166475        0.004480    0.0033    0.0041  97.060050   \n",
       "\n",
       "        value_put_pct  put_bid  put_ask  \n",
       "strike                                   \n",
       "3050.0       0.002879   0.0034   0.0041  \n",
       "3075.0       0.003858   0.0045   0.0055  \n",
       "3100.0       0.005197   0.0065   0.0070  \n",
       "3125.0       0.007066   0.0080   0.0090  \n",
       "3150.0       0.009739   0.0110   0.0120  \n",
       "3175.0            NaN   0.0145   0.0160  \n",
       "3200.0            NaN   0.0185   0.0215  \n",
       "3225.0            NaN   0.0225   0.0285  \n",
       "3250.0            NaN   0.0285   0.0345  "
      ]
     },
     "execution_count": 102,
     "metadata": {},
     "output_type": "execute_result"
    }
   ],
   "source": [
    "simulation.options_chain"
   ]
  },
  {
   "cell_type": "markdown",
   "metadata": {},
   "source": [
    "# Sanity checks"
   ]
  },
  {
   "cell_type": "code",
   "execution_count": 14,
   "metadata": {},
   "outputs": [
    {
     "name": "stderr",
     "output_type": "stream",
     "text": [
      "WARNING:root:calling option chain: https://www.deribit.com/api/v2/public/get_instruments?currency=ETH&kind=option&expired=false\n"
     ]
    },
    {
     "name": "stdout",
     "output_type": "stream",
     "text": [
      "target expiry: Sun 07 Jul, 08:00 (49 hours left)\n",
      "current price: 2858.15\n",
      "-------------------------------\n",
      "hit ratio: 58%\n",
      "cost: -0.021 / value: -0.020, gain% = 0.15%\n",
      "($) cost: -61.45 / value: -57.16, average gain = 4.29\n",
      "buy put 2600.0\n",
      "sell put 2800.0\n",
      "sell call 2900.0\n",
      "buy call 3000.0\n"
     ]
    }
   ],
   "source": [
    "\n",
    "trading_model = optionspricing.TradingModel(base_url, headers, instrument_code, target_period_hours)\n",
    "size = 6\n",
    "option_chain_df = trading_model.evaluate(prices_df, strikes_universe_size=size)\n",
    "put_weights = [0.] * (2 * size + 1)\n",
    "call_weights = [0.] * (2 * size + 1)\n",
    "put_weights[size - 5] = +1.\n",
    "put_weights[size - 1] = -1.\n",
    "call_weights[size + 1] = -1.\n",
    "call_weights[size + 5] = +1.\n",
    "\n",
    "simulation = trading_model.simulate_strategy(option_chain_df, put_weights, call_weights, quote_in_usd=quote_in_usd)\n",
    "print(simulation)"
   ]
  },
  {
   "cell_type": "code",
   "execution_count": 30,
   "metadata": {},
   "outputs": [
    {
     "data": {
      "text/plain": [
       "<Axes: xlabel='dateTime'>"
      ]
     },
     "execution_count": 30,
     "metadata": {},
     "output_type": "execute_result"
    },
    {
     "data": {
      "image/png": "[encoded data removed]",
      "text/plain": [
       "<Figure size 1200x400 with 1 Axes>"
      ]
     },
     "metadata": {},
     "output_type": "display_data"
    }
   ],
   "source": [
    "prices_df['close'].plot(figsize=(12,4))"
   ]
  }
 ],
 "metadata": {
  "colab": {
   "provenance": []
  },
  "kernelspec": {
   "display_name": "Python 3 (ipykernel)",
   "language": "python",
   "name": "python3"
  },
  "language_info": {
   "codemirror_mode": {
    "name": "ipython",
    "version": 3
   },
   "file_extension": ".py",
   "mimetype": "text/x-python",
   "name": "python",
   "nbconvert_exporter": "python",
   "pygments_lexer": "ipython3",
   "version": "3.12.1"
  }
 },
 "nbformat": 4,
 "nbformat_minor": 4
}
