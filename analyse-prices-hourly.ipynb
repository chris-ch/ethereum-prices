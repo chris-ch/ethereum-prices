{
 "cells": [
  {
   "cell_type": "code",
   "execution_count": 5,
   "metadata": {
    "colab": {
     "base_uri": "https://localhost:8080/"
    },
    "id": "4kMo6W1p5SMO",
    "outputId": "e249ee53-b2a5-4724-efdc-392594676e02",
    "ExecuteTime": {
     "end_time": "2024-01-26T15:48:22.143277Z",
     "start_time": "2024-01-26T15:47:58.965701Z"
    }
   },
   "outputs": [
    {
     "name": "stdout",
     "output_type": "stream",
     "text": [
      "\u001B[34mUpdating dependencies\u001B[39m\r\n",
      "\u001B[2K\u001B[34mResolving dependencies...\u001B[39m \u001B[39;2m(10.8s)\u001B[39;22m[34mResolving dependencies...\u001B[39m \u001B[39;2m(2.6s)\u001B[39;22m\u001B[34mResolving dependencies...\u001B[39m \u001B[39;2m(7.2s)\u001B[39;22m\u001B[34mResolving dependencies...\u001B[39m \u001B[39;2m(10.2s)\u001B[39;22m\u001B[34mResolving dependencies...\u001B[39m \u001B[39;2m(10.3s)\u001B[39;22m\u001B[34mResolving dependencies...\u001B[39m \u001B[39;2m(10.9s)\u001B[39;22m\r\n",
      "\r\n",
      "\u001B[39;1mPackage operations\u001B[39;22m: \u001B[34m0\u001B[39m installs, \u001B[34m0\u001B[39m updates, \u001B[34m8\u001B[39m removals\r\n",
      "\r\n",
      "  \u001B[34;1m•\u001B[39;22m \u001B[39mRemoving \u001B[39m\u001B[36mblosc2\u001B[39m\u001B[39m (\u001B[39m\u001B[39;1m2.4.0\u001B[39;22m\u001B[39m)\u001B[39m: \u001B[34mPending...\u001B[39m\r\n",
      "\u001B[1A\u001B[0J  \u001B[34;1m•\u001B[39;22m \u001B[39mRemoving \u001B[39m\u001B[36mblosc2\u001B[39m\u001B[39m (\u001B[39m\u001B[39;1m2.4.0\u001B[39;22m\u001B[39m)\u001B[39m: \u001B[34mRemoving...\u001B[39m\r\n",
      "\u001B[1A\u001B[0J  \u001B[32;1m•\u001B[39;22m \u001B[39mRemoving \u001B[39m\u001B[36mblosc2\u001B[39m\u001B[39m (\u001B[39m\u001B[32m2.4.0\u001B[39m\u001B[39m)\u001B[39m\r\n",
      "  \u001B[34;1m•\u001B[39;22m \u001B[39mRemoving \u001B[39m\u001B[36mdata-cache\u001B[39m\u001B[39m (\u001B[39m\u001B[39;1m0.1.6\u001B[39;22m\u001B[39m)\u001B[39m: \u001B[34mPending...\u001B[39m\r\n",
      "\u001B[1A\u001B[0J  \u001B[34;1m•\u001B[39;22m \u001B[39mRemoving \u001B[39m\u001B[36mdata-cache\u001B[39m\u001B[39m (\u001B[39m\u001B[39;1m0.1.6\u001B[39;22m\u001B[39m)\u001B[39m: \u001B[34mRemoving...\u001B[39m\r\n",
      "\u001B[1A\u001B[0J  \u001B[32;1m•\u001B[39;22m \u001B[39mRemoving \u001B[39m\u001B[36mdata-cache\u001B[39m\u001B[39m (\u001B[39m\u001B[32m0.1.6\u001B[39m\u001B[39m)\u001B[39m\r\n",
      "  \u001B[34;1m•\u001B[39;22m \u001B[39mRemoving \u001B[39m\u001B[36mh5py\u001B[39m\u001B[39m (\u001B[39m\u001B[39;1m3.10.0\u001B[39;22m\u001B[39m)\u001B[39m: \u001B[34mPending...\u001B[39m\r\n",
      "\u001B[1A\u001B[0J  \u001B[34;1m•\u001B[39;22m \u001B[39mRemoving \u001B[39m\u001B[36mh5py\u001B[39m\u001B[39m (\u001B[39m\u001B[39;1m3.10.0\u001B[39;22m\u001B[39m)\u001B[39m: \u001B[34mRemoving...\u001B[39m\r\n",
      "\u001B[1A\u001B[0J  \u001B[32;1m•\u001B[39;22m \u001B[39mRemoving \u001B[39m\u001B[36mh5py\u001B[39m\u001B[39m (\u001B[39m\u001B[32m3.10.0\u001B[39m\u001B[39m)\u001B[39m\r\n",
      "  \u001B[34;1m•\u001B[39;22m \u001B[39mRemoving \u001B[39m\u001B[36mmsgpack\u001B[39m\u001B[39m (\u001B[39m\u001B[39;1m1.0.7\u001B[39;22m\u001B[39m)\u001B[39m: \u001B[34mPending...\u001B[39m\r\n",
      "\u001B[1A\u001B[0J  \u001B[34;1m•\u001B[39;22m \u001B[39mRemoving \u001B[39m\u001B[36mmsgpack\u001B[39m\u001B[39m (\u001B[39m\u001B[39;1m1.0.7\u001B[39;22m\u001B[39m)\u001B[39m: \u001B[34mRemoving...\u001B[39m\r\n",
      "\u001B[1A\u001B[0J  \u001B[32;1m•\u001B[39;22m \u001B[39mRemoving \u001B[39m\u001B[36mmsgpack\u001B[39m\u001B[39m (\u001B[39m\u001B[32m1.0.7\u001B[39m\u001B[39m)\u001B[39m\r\n",
      "  \u001B[34;1m•\u001B[39;22m \u001B[39mRemoving \u001B[39m\u001B[36mndindex\u001B[39m\u001B[39m (\u001B[39m\u001B[39;1m1.7\u001B[39;22m\u001B[39m)\u001B[39m: \u001B[34mPending...\u001B[39m\r\n",
      "\u001B[1A\u001B[0J  \u001B[34;1m•\u001B[39;22m \u001B[39mRemoving \u001B[39m\u001B[36mndindex\u001B[39m\u001B[39m (\u001B[39m\u001B[39;1m1.7\u001B[39;22m\u001B[39m)\u001B[39m: \u001B[34mRemoving...\u001B[39m\r\n",
      "\u001B[1A\u001B[0J  \u001B[32;1m•\u001B[39;22m \u001B[39mRemoving \u001B[39m\u001B[36mndindex\u001B[39m\u001B[39m (\u001B[39m\u001B[32m1.7\u001B[39m\u001B[39m)\u001B[39m\r\n",
      "  \u001B[34;1m•\u001B[39;22m \u001B[39mRemoving \u001B[39m\u001B[36mnumexpr\u001B[39m\u001B[39m (\u001B[39m\u001B[39;1m2.8.8\u001B[39;22m\u001B[39m)\u001B[39m: \u001B[34mPending...\u001B[39m\r\n",
      "\u001B[1A\u001B[0J  \u001B[34;1m•\u001B[39;22m \u001B[39mRemoving \u001B[39m\u001B[36mnumexpr\u001B[39m\u001B[39m (\u001B[39m\u001B[39;1m2.8.8\u001B[39;22m\u001B[39m)\u001B[39m: \u001B[34mRemoving...\u001B[39m\r\n",
      "\u001B[1A\u001B[0J  \u001B[32;1m•\u001B[39;22m \u001B[39mRemoving \u001B[39m\u001B[36mnumexpr\u001B[39m\u001B[39m (\u001B[39m\u001B[32m2.8.8\u001B[39m\u001B[39m)\u001B[39m\r\n",
      "  \u001B[34;1m•\u001B[39;22m \u001B[39mRemoving \u001B[39m\u001B[36mpy-cpuinfo\u001B[39m\u001B[39m (\u001B[39m\u001B[39;1m9.0.0\u001B[39;22m\u001B[39m)\u001B[39m: \u001B[34mPending...\u001B[39m\r\n",
      "\u001B[1A\u001B[0J  \u001B[34;1m•\u001B[39;22m \u001B[39mRemoving \u001B[39m\u001B[36mpy-cpuinfo\u001B[39m\u001B[39m (\u001B[39m\u001B[39;1m9.0.0\u001B[39;22m\u001B[39m)\u001B[39m: \u001B[34mRemoving...\u001B[39m\r\n",
      "\u001B[1A\u001B[0J  \u001B[32;1m•\u001B[39;22m \u001B[39mRemoving \u001B[39m\u001B[36mpy-cpuinfo\u001B[39m\u001B[39m (\u001B[39m\u001B[32m9.0.0\u001B[39m\u001B[39m)\u001B[39m\r\n",
      "  \u001B[34;1m•\u001B[39;22m \u001B[39mRemoving \u001B[39m\u001B[36mtables\u001B[39m\u001B[39m (\u001B[39m\u001B[39;1m3.9.2\u001B[39;22m\u001B[39m)\u001B[39m: \u001B[34mPending...\u001B[39m\r\n",
      "\u001B[1A\u001B[0J  \u001B[34;1m•\u001B[39;22m \u001B[39mRemoving \u001B[39m\u001B[36mtables\u001B[39m\u001B[39m (\u001B[39m\u001B[39;1m3.9.2\u001B[39;22m\u001B[39m)\u001B[39m: \u001B[34mRemoving...\u001B[39m\r\n",
      "\u001B[1A\u001B[0J  \u001B[32;1m•\u001B[39;22m \u001B[39mRemoving \u001B[39m\u001B[36mtables\u001B[39m\u001B[39m (\u001B[39m\u001B[32m3.9.2\u001B[39m\u001B[39m)\u001B[39m\r\n",
      "\r\n",
      "\u001B[34mWriting lock file\u001B[39m\r\n"
     ]
    }
   ],
   "source": [
    "!poetry update"
   ]
  },
  {
   "cell_type": "markdown",
   "metadata": {
    "collapsed": false,
    "id": "h-A4kPps5SMQ"
   },
   "source": [
    "# Option valuation model based on historical prices"
   ]
  },
  {
   "cell_type": "code",
   "execution_count": 2,
   "metadata": {
    "colab": {
     "base_uri": "https://localhost:8080/",
     "height": 443
    },
    "id": "nxChr0ny5SMS",
    "outputId": "2a84f330-be20-4baf-edb1-95e8b7d4f4ab",
    "ExecuteTime": {
     "end_time": "2024-01-26T15:48:58.632967Z",
     "start_time": "2024-01-26T15:48:56.855236Z"
    }
   },
   "outputs": [
    {
     "name": "stdout",
     "output_type": "stream",
     "text": [
      "\n",
      "loading 2014 ............\n",
      "loading 2015 ............\n",
      "loading 2016 ............\n",
      "loading 2017 ............\n",
      "loading 2018 ............\n",
      "loading 2019 ............\n",
      "loading 2020 ............\n",
      "loading 2021 ............\n",
      "loading 2022 ............\n",
      "loading 2023 ............\n",
      "loading 2024 \n",
      "interrupting at 2024/01\n"
     ]
    }
   ],
   "source": [
    "import importlib.util\n",
    "import os\n",
    "google_colab_spec = importlib.util.find_spec(\"google\") and importlib.util.find_spec(\"google.colab\")\n",
    "if google_colab_spec:\n",
    "    from google.colab import drive\n",
    "    drive.mount('/content/drive', force_remount=True)\n",
    "    path = '/content/drive/MyDrive/Colab Notebooks/Ethereum Prices'\n",
    "else:\n",
    "    path = f'{os.environ[\"HOME\"]}/Library/CloudStorage/GoogleDrive-chris.perso@gmail.com/My Drive/Colab Notebooks/Ethereum Prices'\n",
    "\n",
    "import optionspricing\n",
    "import binanceprices\n",
    "\n",
    "COUNT_YEARS = 10\n",
    "BINANCE_DATETIME_FORMAT = \"%Y-%m-%d %H-%M-%S\"\n",
    "BINANCE_SYMBOL = 'ETHUSDT'\n",
    "\n",
    "prices_df = binanceprices.load_prices(path, BINANCE_SYMBOL, COUNT_YEARS)\n"
   ]
  },
  {
   "cell_type": "markdown",
   "metadata": {
    "id": "-cJhFZGk5SMS"
   },
   "source": [
    "## Option valuation model: input parameters here"
   ]
  },
  {
   "cell_type": "code",
   "outputs": [
    {
     "data": {
      "text/plain": "target expiry: 2024-01-27 08:00:00+00:00 (16 hours left)\ncurrent price: 2252.85\n-------------------------------\ntrading put 2225 and call 2275\nhit ratio: 44%\ncost: 0.006 / value: 0.013, benefit/cost = 2.2x\n($) cost: 13.29 / value: 29.37, average gain = 16.08\n-------------------------------\ntrading put 2200 and call 2300\nhit ratio: 31%\ncost: 0.003 / value: 0.008, benefit/cost = 2.9x\n($) cost: 6.31 / value: 18.11, average gain = 11.81\n-------------------------------\ntrading put 2175 and call 2325\nhit ratio: 21%\ncost: 0.002 / value: 0.005, benefit/cost = 3.3x\n($) cost: 3.38 / value: 11.17, average gain = 7.79\n-------------------------------\ntrading put 2150 and call 2350\nhit ratio: 13%\ncost: 0.001 / value: 0.003, benefit/cost = 3.4x\n($) cost: 2.03 / value: 6.83, average gain = 4.80"
     },
     "execution_count": 3,
     "metadata": {},
     "output_type": "execute_result"
    }
   ],
   "source": [
    "target_period_hours = 16\n",
    "strikes_universe_size = 4\n",
    "CUT_OFF_YEAR_MONTH = (2021, 7)\n",
    "\n",
    "instrument_code = BINANCE_SYMBOL[:3]\n",
    "\n",
    "headers = {\"Content-Type\": \"application/json\"}\n",
    "base_url = \"https://www.deribit.com/api/v2/public\"\n",
    "\n",
    "trading_model = optionspricing.TradingModel(base_url, headers, instrument_code, target_period_hours)\n",
    "trading_model.cutoff_year_month(CUT_OFF_YEAR_MONTH)\n",
    "target_expiry = trading_model.target_expiry\n",
    "underlying_price = trading_model.underlying_price\n",
    "remaining_hours = trading_model.remaining_hours\n",
    "\n",
    "simulation = trading_model.evaluate(prices_df, strikes_universe_size)\n",
    "simulation"
   ],
   "metadata": {
    "collapsed": false,
    "ExecuteTime": {
     "end_time": "2024-01-26T15:49:01.945378Z",
     "start_time": "2024-01-26T15:48:59.968170Z"
    }
   },
   "execution_count": 3
  },
  {
   "cell_type": "code",
   "outputs": [
    {
     "data": {
      "text/plain": "        value_call  value_call_pct  call_ask  value_put  value_put_pct  \\\nstrike                                                                   \n2150.0  107.265075             NaN    0.0515   3.214887       0.001427   \n2175.0   84.165695             NaN    0.0385   5.115507       0.002271   \n2200.0   62.252692             NaN    0.0300   8.202504       0.003641   \n2225.0   42.364292             NaN    0.0205  13.314104       0.005910   \n2250.0   26.281435             NaN    0.0075  22.231247       0.009868   \n2275.0   16.056089        0.007127    0.0033  37.005901            NaN   \n2300.0    9.910576        0.004399    0.0016  55.860388            NaN   \n2325.0    6.054327        0.002687    0.0009  77.004139            NaN   \n2350.0    3.611669        0.001603    0.0005  99.561481            NaN   \n\n        put_ask  \nstrike           \n2150.0   0.0004  \n2175.0   0.0006  \n2200.0   0.0012  \n2225.0   0.0026  \n2250.0   0.0065  \n2275.0   0.0145  \n2300.0      NaN  \n2325.0   0.0425  \n2350.0   0.0550  ",
      "text/html": "<div>\n<style scoped>\n    .dataframe tbody tr th:only-of-type {\n        vertical-align: middle;\n    }\n\n    .dataframe tbody tr th {\n        vertical-align: top;\n    }\n\n    .dataframe thead th {\n        text-align: right;\n    }\n</style>\n<table border=\"1\" class=\"dataframe\">\n  <thead>\n    <tr style=\"text-align: right;\">\n      <th></th>\n      <th>value_call</th>\n      <th>value_call_pct</th>\n      <th>call_ask</th>\n      <th>value_put</th>\n      <th>value_put_pct</th>\n      <th>put_ask</th>\n    </tr>\n    <tr>\n      <th>strike</th>\n      <th></th>\n      <th></th>\n      <th></th>\n      <th></th>\n      <th></th>\n      <th></th>\n    </tr>\n  </thead>\n  <tbody>\n    <tr>\n      <th>2150.0</th>\n      <td>107.265075</td>\n      <td>NaN</td>\n      <td>0.0515</td>\n      <td>3.214887</td>\n      <td>0.001427</td>\n      <td>0.0004</td>\n    </tr>\n    <tr>\n      <th>2175.0</th>\n      <td>84.165695</td>\n      <td>NaN</td>\n      <td>0.0385</td>\n      <td>5.115507</td>\n      <td>0.002271</td>\n      <td>0.0006</td>\n    </tr>\n    <tr>\n      <th>2200.0</th>\n      <td>62.252692</td>\n      <td>NaN</td>\n      <td>0.0300</td>\n      <td>8.202504</td>\n      <td>0.003641</td>\n      <td>0.0012</td>\n    </tr>\n    <tr>\n      <th>2225.0</th>\n      <td>42.364292</td>\n      <td>NaN</td>\n      <td>0.0205</td>\n      <td>13.314104</td>\n      <td>0.005910</td>\n      <td>0.0026</td>\n    </tr>\n    <tr>\n      <th>2250.0</th>\n      <td>26.281435</td>\n      <td>NaN</td>\n      <td>0.0075</td>\n      <td>22.231247</td>\n      <td>0.009868</td>\n      <td>0.0065</td>\n    </tr>\n    <tr>\n      <th>2275.0</th>\n      <td>16.056089</td>\n      <td>0.007127</td>\n      <td>0.0033</td>\n      <td>37.005901</td>\n      <td>NaN</td>\n      <td>0.0145</td>\n    </tr>\n    <tr>\n      <th>2300.0</th>\n      <td>9.910576</td>\n      <td>0.004399</td>\n      <td>0.0016</td>\n      <td>55.860388</td>\n      <td>NaN</td>\n      <td>NaN</td>\n    </tr>\n    <tr>\n      <th>2325.0</th>\n      <td>6.054327</td>\n      <td>0.002687</td>\n      <td>0.0009</td>\n      <td>77.004139</td>\n      <td>NaN</td>\n      <td>0.0425</td>\n    </tr>\n    <tr>\n      <th>2350.0</th>\n      <td>3.611669</td>\n      <td>0.001603</td>\n      <td>0.0005</td>\n      <td>99.561481</td>\n      <td>NaN</td>\n      <td>0.0550</td>\n    </tr>\n  </tbody>\n</table>\n</div>"
     },
     "execution_count": 4,
     "metadata": {},
     "output_type": "execute_result"
    }
   ],
   "source": [
    "simulation.options_chain"
   ],
   "metadata": {
    "id": "Nwr0Hlj75SMV",
    "outputId": "430484f0-9bd3-4b6e-e0da-5c9891594905",
    "ExecuteTime": {
     "end_time": "2024-01-26T15:49:01.965913Z",
     "start_time": "2024-01-26T15:49:01.949804Z"
    }
   },
   "execution_count": 4
  },
  {
   "cell_type": "code",
   "outputs": [],
   "source": [],
   "metadata": {
    "collapsed": false
   }
  }
 ],
 "metadata": {
  "colab": {
   "provenance": []
  },
  "kernelspec": {
   "display_name": "Python 3 (ipykernel)",
   "language": "python",
   "name": "python3"
  },
  "language_info": {
   "codemirror_mode": {
    "name": "ipython",
    "version": 3
   },
   "file_extension": ".py",
   "mimetype": "text/x-python",
   "name": "python",
   "nbconvert_exporter": "python",
   "pygments_lexer": "ipython3",
   "version": "3.12.1"
  }
 },
 "nbformat": 4,
 "nbformat_minor": 4
}
