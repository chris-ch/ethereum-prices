{
 "cells": [
  {
   "cell_type": "code",
   "execution_count": 4,
   "metadata": {
    "ExecuteTime": {
     "end_time": "2024-01-26T18:27:29.737820Z",
     "start_time": "2024-01-26T18:27:16.798494Z"
    },
    "colab": {
     "base_uri": "https://localhost:8080/"
    },
    "id": "4kMo6W1p5SMO",
    "outputId": "e249ee53-b2a5-4724-efdc-392594676e02"
   },
   "outputs": [
    {
     "name": "stdout",
     "output_type": "stream",
     "text": [
      "\u001b[34mUpdating dependencies\u001b[39m\n",
      "\u001b[2K\u001b[34mResolving dependencies...\u001b[39m \u001b[39;2m(13.9s)\u001b[39;22m\n",
      "\n",
      "No dependencies to install or update\n"
     ]
    }
   ],
   "source": [
    "!bash --login -c \"poetry update\""
   ]
  },
  {
   "cell_type": "markdown",
   "metadata": {
    "collapsed": false,
    "id": "h-A4kPps5SMQ"
   },
   "source": [
    "# Option valuation model based on historical prices"
   ]
  },
  {
   "cell_type": "markdown",
   "metadata": {},
   "source": [
    "This code assumes `aws configure` has been run in the environment of the notebook."
   ]
  },
  {
   "cell_type": "code",
   "execution_count": 1,
   "metadata": {
    "ExecuteTime": {
     "end_time": "2024-01-28T09:44:12.952782Z",
     "start_time": "2024-01-28T09:44:10.909325Z"
    },
    "colab": {
     "base_uri": "https://localhost:8080/",
     "height": 443
    },
    "id": "nxChr0ny5SMS",
    "outputId": "2a84f330-be20-4baf-edb1-95e8b7d4f4ab"
   },
   "outputs": [],
   "source": [
    "import optionspricing\n",
    "import binanceprices\n",
    "import boto3\n",
    "COUNT_YEARS = 6\n",
    "BINANCE_DATETIME_FORMAT = \"%Y-%m-%d %H-%M-%S\"\n",
    "BINANCE_SYMBOL = 'ETHUSDT'\n",
    "\n",
    "s3 = boto3.resource('s3')\n",
    "prices_df = binanceprices.load_prices(s3, \"prod-binance-prices\", BINANCE_SYMBOL, COUNT_YEARS)\n"
   ]
  },
  {
   "cell_type": "markdown",
   "metadata": {
    "id": "-cJhFZGk5SMS"
   },
   "source": [
    "## Option valuation model: input parameters here"
   ]
  },
  {
   "cell_type": "code",
   "execution_count": 2,
   "metadata": {
    "ExecuteTime": {
     "end_time": "2024-01-29T10:28:52.874110Z",
     "start_time": "2024-01-29T10:28:49.030564Z"
    },
    "collapsed": false
   },
   "outputs": [
    {
     "name": "stdout",
     "output_type": "stream",
     "text": [
      "target expiry: 2024-02-05 08:00:00+00:00 (72 hours left)\n",
      "current price: 2311.39\n",
      "-------------------------------\n",
      "trading put 2275 and call 2325 (hit ratio: 56%)\n",
      "cost: 0.014 / value: 0.035, benefit/cost = 2.4x\n",
      "($) cost: 33.52 / value: 80.46, average gain = 46.95\n",
      "-------------------------------\n",
      "trading put 2250 and call 2350 (hit ratio: 50%)\n",
      "cost: 0.009 / value: 0.027, benefit/cost = 3.1x\n",
      "($) cost: 20.11 / value: 63.11, average gain = 43.00\n",
      "-------------------------------\n",
      "trading put 2225 and call 2375 (hit ratio: 43%)\n",
      "cost: 0.005 / value: 0.021, benefit/cost = 4.0x\n",
      "($) cost: 12.25 / value: 49.53, average gain = 37.28\n",
      "-------------------------------\n",
      "trading put 2200 and call 2400 (hit ratio: 34%)\n",
      "cost: 0.003 / value: 0.017, benefit/cost = 4.9x\n",
      "($) cost: 7.86 / value: 38.87, average gain = 31.01\n"
     ]
    },
    {
     "data": {
      "text/plain": [
       "[{'put': 2250.0, 'call': 2350.0, 'quantity': 1},\n",
       " {'put': 2225.0, 'call': 2375.0, 'quantity': 1}]"
      ]
     },
     "execution_count": 2,
     "metadata": {},
     "output_type": "execute_result"
    }
   ],
   "source": [
    "target_period_hours = 3 * 24\n",
    "strikes_universe_size = 4\n",
    "CUT_OFF_YEAR_MONTH = (2022, 1)\n",
    "\n",
    "instrument_code = BINANCE_SYMBOL[:3]\n",
    "\n",
    "headers = {\"Content-Type\": \"application/json\"}\n",
    "base_url = \"https://www.deribit.com/api/v2/public\"\n",
    "\n",
    "trading_model = optionspricing.TradingModel(base_url, headers, instrument_code, target_period_hours)\n",
    "trading_model.cutoff_year_month(CUT_OFF_YEAR_MONTH)\n",
    "target_expiry = trading_model.target_expiry\n",
    "underlying_price = trading_model.underlying_price\n",
    "remaining_hours = trading_model.remaining_hours\n",
    "\n",
    "simulation = trading_model.evaluate(prices_df, strikes_universe_size)\n",
    "print(simulation)\n",
    "simulation.allocate([1, 2], 1500. * 2./100.)"
   ]
  },
  {
   "cell_type": "code",
   "execution_count": 5,
   "metadata": {
    "ExecuteTime": {
     "end_time": "2024-01-29T10:28:53.839639Z",
     "start_time": "2024-01-29T10:28:53.814899Z"
    },
    "id": "Nwr0Hlj75SMV",
    "outputId": "430484f0-9bd3-4b6e-e0da-5c9891594905"
   },
   "outputs": [
    {
     "data": {
      "text/html": [
       "<div>\n",
       "<style scoped>\n",
       "    .dataframe tbody tr th:only-of-type {\n",
       "        vertical-align: middle;\n",
       "    }\n",
       "\n",
       "    .dataframe tbody tr th {\n",
       "        vertical-align: top;\n",
       "    }\n",
       "\n",
       "    .dataframe thead th {\n",
       "        text-align: right;\n",
       "    }\n",
       "</style>\n",
       "<table border=\"1\" class=\"dataframe\">\n",
       "  <thead>\n",
       "    <tr style=\"text-align: right;\">\n",
       "      <th></th>\n",
       "      <th>value_call</th>\n",
       "      <th>value_call_pct</th>\n",
       "      <th>call_ask</th>\n",
       "      <th>value_put</th>\n",
       "      <th>value_put_pct</th>\n",
       "      <th>put_ask</th>\n",
       "    </tr>\n",
       "    <tr>\n",
       "      <th>strike</th>\n",
       "      <th></th>\n",
       "      <th></th>\n",
       "      <th></th>\n",
       "      <th></th>\n",
       "      <th></th>\n",
       "      <th></th>\n",
       "    </tr>\n",
       "  </thead>\n",
       "  <tbody>\n",
       "    <tr>\n",
       "      <th>2175.0</th>\n",
       "      <td>104.585638</td>\n",
       "      <td>NaN</td>\n",
       "      <td>NaN</td>\n",
       "      <td>13.248727</td>\n",
       "      <td>0.005846</td>\n",
       "      <td>0.0017</td>\n",
       "    </tr>\n",
       "    <tr>\n",
       "      <th>2200.0</th>\n",
       "      <td>84.031209</td>\n",
       "      <td>NaN</td>\n",
       "      <td>NaN</td>\n",
       "      <td>17.694297</td>\n",
       "      <td>0.007808</td>\n",
       "      <td>0.0032</td>\n",
       "    </tr>\n",
       "    <tr>\n",
       "      <th>2225.0</th>\n",
       "      <td>65.111732</td>\n",
       "      <td>NaN</td>\n",
       "      <td>NaN</td>\n",
       "      <td>23.774820</td>\n",
       "      <td>0.010491</td>\n",
       "      <td>0.0055</td>\n",
       "    </tr>\n",
       "    <tr>\n",
       "      <th>2250.0</th>\n",
       "      <td>48.653754</td>\n",
       "      <td>NaN</td>\n",
       "      <td>0.0165</td>\n",
       "      <td>32.316843</td>\n",
       "      <td>0.014260</td>\n",
       "      <td>0.0090</td>\n",
       "    </tr>\n",
       "    <tr>\n",
       "      <th>2275.0</th>\n",
       "      <td>35.764609</td>\n",
       "      <td>0.015782</td>\n",
       "      <td>0.0105</td>\n",
       "      <td>44.427698</td>\n",
       "      <td>NaN</td>\n",
       "      <td>0.0140</td>\n",
       "    </tr>\n",
       "    <tr>\n",
       "      <th>2300.0</th>\n",
       "      <td>26.473994</td>\n",
       "      <td>0.011682</td>\n",
       "      <td>0.0065</td>\n",
       "      <td>60.137083</td>\n",
       "      <td>NaN</td>\n",
       "      <td>0.0225</td>\n",
       "    </tr>\n",
       "    <tr>\n",
       "      <th>2325.0</th>\n",
       "      <td>19.662775</td>\n",
       "      <td>0.008676</td>\n",
       "      <td>0.0041</td>\n",
       "      <td>78.325864</td>\n",
       "      <td>NaN</td>\n",
       "      <td>0.0320</td>\n",
       "    </tr>\n",
       "    <tr>\n",
       "      <th>2350.0</th>\n",
       "      <td>14.653544</td>\n",
       "      <td>0.006466</td>\n",
       "      <td>0.0025</td>\n",
       "      <td>98.316633</td>\n",
       "      <td>NaN</td>\n",
       "      <td>NaN</td>\n",
       "    </tr>\n",
       "    <tr>\n",
       "      <th>2375.0</th>\n",
       "      <td>10.958756</td>\n",
       "      <td>0.004836</td>\n",
       "      <td>0.0017</td>\n",
       "      <td>119.621845</td>\n",
       "      <td>NaN</td>\n",
       "      <td>NaN</td>\n",
       "    </tr>\n",
       "  </tbody>\n",
       "</table>\n",
       "</div>"
      ],
      "text/plain": [
       "        value_call  value_call_pct  call_ask   value_put  value_put_pct  \\\n",
       "strike                                                                    \n",
       "2175.0  104.585638             NaN       NaN   13.248727       0.005846   \n",
       "2200.0   84.031209             NaN       NaN   17.694297       0.007808   \n",
       "2225.0   65.111732             NaN       NaN   23.774820       0.010491   \n",
       "2250.0   48.653754             NaN    0.0165   32.316843       0.014260   \n",
       "2275.0   35.764609        0.015782    0.0105   44.427698            NaN   \n",
       "2300.0   26.473994        0.011682    0.0065   60.137083            NaN   \n",
       "2325.0   19.662775        0.008676    0.0041   78.325864            NaN   \n",
       "2350.0   14.653544        0.006466    0.0025   98.316633            NaN   \n",
       "2375.0   10.958756        0.004836    0.0017  119.621845            NaN   \n",
       "\n",
       "        put_ask  \n",
       "strike           \n",
       "2175.0   0.0017  \n",
       "2200.0   0.0032  \n",
       "2225.0   0.0055  \n",
       "2250.0   0.0090  \n",
       "2275.0   0.0140  \n",
       "2300.0   0.0225  \n",
       "2325.0   0.0320  \n",
       "2350.0      NaN  \n",
       "2375.0      NaN  "
      ]
     },
     "execution_count": 5,
     "metadata": {},
     "output_type": "execute_result"
    }
   ],
   "source": [
    "simulation.options_chain"
   ]
  },
  {
   "cell_type": "code",
   "execution_count": null,
   "metadata": {
    "ExecuteTime": {
     "end_time": "2024-01-27T08:01:21.174652Z",
     "start_time": "2024-01-27T08:01:21.143165Z"
    },
    "collapsed": false
   },
   "outputs": [],
   "source": []
  }
 ],
 "metadata": {
  "colab": {
   "provenance": []
  },
  "kernelspec": {
   "display_name": "Python 3 (ipykernel)",
   "language": "python",
   "name": "python3"
  },
  "language_info": {
   "codemirror_mode": {
    "name": "ipython",
    "version": 3
   },
   "file_extension": ".py",
   "mimetype": "text/x-python",
   "name": "python",
   "nbconvert_exporter": "python",
   "pygments_lexer": "ipython3",
   "version": "3.12.1"
  }
 },
 "nbformat": 4,
 "nbformat_minor": 4
}
