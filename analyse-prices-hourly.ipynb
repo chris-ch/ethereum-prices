{
 "cells": [
  {
   "cell_type": "code",
   "execution_count": 14,
   "metadata": {
    "colab": {
     "base_uri": "https://localhost:8080/"
    },
    "id": "4kMo6W1p5SMO",
    "outputId": "e249ee53-b2a5-4724-efdc-392594676e02",
    "ExecuteTime": {
     "end_time": "2024-01-26T18:27:29.737820Z",
     "start_time": "2024-01-26T18:27:16.798494Z"
    }
   },
   "outputs": [
    {
     "name": "stdout",
     "output_type": "stream",
     "text": [
      "\u001B[34mUpdating dependencies\u001B[39m\r\n",
      "\u001B[2K\u001B[34mResolving dependencies...\u001B[39m \u001B[39;2m(9.8s)\u001B[39;22m\u001B[34mResolving dependencies...\u001B[39m \u001B[39;2m(2.6s)\u001B[39;22m\r\n",
      "\r\n",
      "No dependencies to install or update\r\n"
     ]
    }
   ],
   "source": [
    "!poetry update"
   ]
  },
  {
   "cell_type": "markdown",
   "metadata": {
    "collapsed": false,
    "id": "h-A4kPps5SMQ"
   },
   "source": [
    "# Option valuation model based on historical prices"
   ]
  },
  {
   "cell_type": "code",
   "execution_count": 1,
   "metadata": {
    "colab": {
     "base_uri": "https://localhost:8080/",
     "height": 443
    },
    "id": "nxChr0ny5SMS",
    "outputId": "2a84f330-be20-4baf-edb1-95e8b7d4f4ab",
    "ExecuteTime": {
     "end_time": "2024-01-26T18:19:48.732237Z",
     "start_time": "2024-01-26T18:19:46.467935Z"
    }
   },
   "outputs": [
    {
     "name": "stdout",
     "output_type": "stream",
     "text": [
      "\n",
      "loading 2014 ............\n",
      "loading 2015 ............\n",
      "loading 2016 ............\n",
      "loading 2017 ............\n",
      "loading 2018 ............\n",
      "loading 2019 ............\n",
      "loading 2020 ............\n",
      "loading 2021 ............\n",
      "loading 2022 ............\n",
      "loading 2023 ............\n",
      "loading 2024 \n",
      "interrupting at 2024/01\n"
     ]
    }
   ],
   "source": [
    "import importlib.util\n",
    "import os\n",
    "google_colab_spec = importlib.util.find_spec(\"google\") and importlib.util.find_spec(\"google.colab\")\n",
    "if google_colab_spec:\n",
    "    google_colab = importlib.import_module('google.colab')\n",
    "    google_colab.drive.mount('/content/drive', force_remount=True)\n",
    "    path = '/content/drive/MyDrive/Colab Notebooks/Ethereum Prices'\n",
    "else:\n",
    "    path = f'{os.environ[\"HOME\"]}/Library/CloudStorage/GoogleDrive-chris.perso@gmail.com/My Drive/Colab Notebooks/Ethereum Prices'\n",
    "\n",
    "import optionspricing\n",
    "import binanceprices\n",
    "\n",
    "COUNT_YEARS = 10\n",
    "BINANCE_DATETIME_FORMAT = \"%Y-%m-%d %H-%M-%S\"\n",
    "BINANCE_SYMBOL = 'ETHUSDT'\n",
    "\n",
    "prices_df = binanceprices.load_prices(path, BINANCE_SYMBOL, COUNT_YEARS)\n"
   ]
  },
  {
   "cell_type": "markdown",
   "metadata": {
    "id": "-cJhFZGk5SMS"
   },
   "source": [
    "## Option valuation model: input parameters here"
   ]
  },
  {
   "cell_type": "code",
   "outputs": [
    {
     "name": "stdout",
     "output_type": "stream",
     "text": [
      "target expiry: 2024-01-28 08:00:00+00:00 (38 hours left)\n",
      "current price: 2269.02\n",
      "-------------------------------\n",
      "trading put 2250 and call 2300\n",
      "hit ratio: 56%\n",
      "cost: 0.008 / value: 0.024, benefit/cost = 3.0x\n",
      "($) cost: 18.15 / value: 54.07, average gain = 35.92\n",
      "-------------------------------\n",
      "trading put 2225 and call 2325\n",
      "hit ratio: 46%\n",
      "cost: 0.004 / value: 0.017, benefit/cost = 4.5x\n",
      "($) cost: 8.62 / value: 39.06, average gain = 30.44\n",
      "-------------------------------\n",
      "trading put 2200 and call 2350\n",
      "hit ratio: 35%\n",
      "cost: 0.002 / value: 0.012, benefit/cost = 5.6x\n",
      "($) cost: 4.99 / value: 28.17, average gain = 23.18\n",
      "-------------------------------\n",
      "trading put 2175 and call 2375\n",
      "hit ratio: 26%\n",
      "cost: 0.001 / value: 0.009, benefit/cost = 6.9x\n",
      "($) cost: 2.95 / value: 20.21, average gain = 17.26\n"
     ]
    },
    {
     "data": {
      "text/plain": "[{'put': 2225.0, 'call': 2325.0, 'quantity': 2},\n {'put': 2200.0, 'call': 2350.0, 'quantity': 3}]"
     },
     "execution_count": 13,
     "metadata": {},
     "output_type": "execute_result"
    }
   ],
   "source": [
    "target_period_hours = 2 * 24\n",
    "strikes_universe_size = 4\n",
    "CUT_OFF_YEAR_MONTH = (2021, 7)\n",
    "\n",
    "instrument_code = BINANCE_SYMBOL[:3]\n",
    "\n",
    "headers = {\"Content-Type\": \"application/json\"}\n",
    "base_url = \"https://www.deribit.com/api/v2/public\"\n",
    "\n",
    "trading_model = optionspricing.TradingModel(base_url, headers, instrument_code, target_period_hours)\n",
    "trading_model.cutoff_year_month(CUT_OFF_YEAR_MONTH)\n",
    "target_expiry = trading_model.target_expiry\n",
    "underlying_price = trading_model.underlying_price\n",
    "remaining_hours = trading_model.remaining_hours\n",
    "\n",
    "simulation = trading_model.evaluate(prices_df, strikes_universe_size)\n",
    "print(simulation)\n",
    "simulation.allocate([1, 2], 1600. * 2./100.)"
   ],
   "metadata": {
    "collapsed": false,
    "ExecuteTime": {
     "end_time": "2024-01-26T18:25:17.317295Z",
     "start_time": "2024-01-26T18:25:15.229576Z"
    }
   },
   "execution_count": 13
  },
  {
   "cell_type": "code",
   "outputs": [
    {
     "data": {
      "text/plain": "        value_call  value_call_pct  call_ask   value_put  value_put_pct  \\\nstrike                                                                    \n2175.0  104.703768             NaN    0.0505   10.726132       0.004733   \n2200.0   83.855854             NaN    0.0350   14.878218       0.006565   \n2225.0   64.641264             NaN    0.0250   20.663628       0.009118   \n2250.0   47.826394             NaN    0.0125   28.848758       0.012730   \n2275.0   34.671766        0.015300    0.0065   40.694130            NaN   \n2300.0   25.300643        0.011165    0.0031   56.323007            NaN   \n2325.0   18.392156        0.008116    0.0017   74.414520            NaN   \n2350.0   13.254893        0.005849    0.0010   94.277257            NaN   \n2375.0    9.433695        0.004163    0.0006  115.456059            NaN   \n\n        put_ask  \nstrike           \n2175.0   0.0007  \n2200.0   0.0012  \n2225.0   0.0024  \n2250.0   0.0050  \n2275.0   0.0100  \n2300.0      NaN  \n2325.0      NaN  \n2350.0   0.0480  \n2375.0   0.0600  ",
      "text/html": "<div>\n<style scoped>\n    .dataframe tbody tr th:only-of-type {\n        vertical-align: middle;\n    }\n\n    .dataframe tbody tr th {\n        vertical-align: top;\n    }\n\n    .dataframe thead th {\n        text-align: right;\n    }\n</style>\n<table border=\"1\" class=\"dataframe\">\n  <thead>\n    <tr style=\"text-align: right;\">\n      <th></th>\n      <th>value_call</th>\n      <th>value_call_pct</th>\n      <th>call_ask</th>\n      <th>value_put</th>\n      <th>value_put_pct</th>\n      <th>put_ask</th>\n    </tr>\n    <tr>\n      <th>strike</th>\n      <th></th>\n      <th></th>\n      <th></th>\n      <th></th>\n      <th></th>\n      <th></th>\n    </tr>\n  </thead>\n  <tbody>\n    <tr>\n      <th>2175.0</th>\n      <td>104.703768</td>\n      <td>NaN</td>\n      <td>0.0505</td>\n      <td>10.726132</td>\n      <td>0.004733</td>\n      <td>0.0007</td>\n    </tr>\n    <tr>\n      <th>2200.0</th>\n      <td>83.855854</td>\n      <td>NaN</td>\n      <td>0.0350</td>\n      <td>14.878218</td>\n      <td>0.006565</td>\n      <td>0.0012</td>\n    </tr>\n    <tr>\n      <th>2225.0</th>\n      <td>64.641264</td>\n      <td>NaN</td>\n      <td>0.0250</td>\n      <td>20.663628</td>\n      <td>0.009118</td>\n      <td>0.0024</td>\n    </tr>\n    <tr>\n      <th>2250.0</th>\n      <td>47.826394</td>\n      <td>NaN</td>\n      <td>0.0125</td>\n      <td>28.848758</td>\n      <td>0.012730</td>\n      <td>0.0050</td>\n    </tr>\n    <tr>\n      <th>2275.0</th>\n      <td>34.671766</td>\n      <td>0.015300</td>\n      <td>0.0065</td>\n      <td>40.694130</td>\n      <td>NaN</td>\n      <td>0.0100</td>\n    </tr>\n    <tr>\n      <th>2300.0</th>\n      <td>25.300643</td>\n      <td>0.011165</td>\n      <td>0.0031</td>\n      <td>56.323007</td>\n      <td>NaN</td>\n      <td>NaN</td>\n    </tr>\n    <tr>\n      <th>2325.0</th>\n      <td>18.392156</td>\n      <td>0.008116</td>\n      <td>0.0017</td>\n      <td>74.414520</td>\n      <td>NaN</td>\n      <td>NaN</td>\n    </tr>\n    <tr>\n      <th>2350.0</th>\n      <td>13.254893</td>\n      <td>0.005849</td>\n      <td>0.0010</td>\n      <td>94.277257</td>\n      <td>NaN</td>\n      <td>0.0480</td>\n    </tr>\n    <tr>\n      <th>2375.0</th>\n      <td>9.433695</td>\n      <td>0.004163</td>\n      <td>0.0006</td>\n      <td>115.456059</td>\n      <td>NaN</td>\n      <td>0.0600</td>\n    </tr>\n  </tbody>\n</table>\n</div>"
     },
     "execution_count": 3,
     "metadata": {},
     "output_type": "execute_result"
    }
   ],
   "source": [
    "simulation.options_chain"
   ],
   "metadata": {
    "id": "Nwr0Hlj75SMV",
    "outputId": "430484f0-9bd3-4b6e-e0da-5c9891594905",
    "ExecuteTime": {
     "end_time": "2024-01-26T18:19:53.955406Z",
     "start_time": "2024-01-26T18:19:53.915437Z"
    }
   },
   "execution_count": 3
  },
  {
   "cell_type": "code",
   "outputs": [],
   "source": [],
   "metadata": {
    "collapsed": false
   }
  }
 ],
 "metadata": {
  "colab": {
   "provenance": []
  },
  "kernelspec": {
   "display_name": "Python 3 (ipykernel)",
   "language": "python",
   "name": "python3"
  },
  "language_info": {
   "codemirror_mode": {
    "name": "ipython",
    "version": 3
   },
   "file_extension": ".py",
   "mimetype": "text/x-python",
   "name": "python",
   "nbconvert_exporter": "python",
   "pygments_lexer": "ipython3",
   "version": "3.12.1"
  }
 },
 "nbformat": 4,
 "nbformat_minor": 4
}
