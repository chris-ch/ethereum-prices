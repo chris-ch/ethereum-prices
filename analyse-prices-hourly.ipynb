{
 "cells": [
  {
   "cell_type": "code",
   "execution_count": 8,
   "metadata": {
    "ExecuteTime": {
     "end_time": "2024-01-26T18:27:29.737820Z",
     "start_time": "2024-01-26T18:27:16.798494Z"
    },
    "colab": {
     "base_uri": "https://localhost:8080/"
    },
    "id": "4kMo6W1p5SMO",
    "outputId": "e249ee53-b2a5-4724-efdc-392594676e02"
   },
   "outputs": [
    {
     "name": "stdout",
     "output_type": "stream",
     "text": [
      "\u001b[34mUpdating dependencies\u001b[39m\n",
      "\u001b[2K\u001b[34mResolving dependencies...\u001b[39m \u001b[39;2m(9.0s)\u001b[39;22m\n",
      "\n",
      "No dependencies to install or update\n"
     ]
    }
   ],
   "source": [
    "!bash --login -c \"poetry update\""
   ]
  },
  {
   "cell_type": "markdown",
   "metadata": {
    "collapsed": false,
    "id": "h-A4kPps5SMQ"
   },
   "source": [
    "# Option valuation model based on historical prices"
   ]
  },
  {
   "cell_type": "markdown",
   "metadata": {},
   "source": [
    "This code assumes `aws configure` has been run in the environment of the notebook."
   ]
  },
  {
   "cell_type": "code",
   "execution_count": 1,
   "metadata": {
    "ExecuteTime": {
     "end_time": "2024-01-28T09:44:12.952782Z",
     "start_time": "2024-01-28T09:44:10.909325Z"
    },
    "colab": {
     "base_uri": "https://localhost:8080/",
     "height": 443
    },
    "id": "nxChr0ny5SMS",
    "outputId": "2a84f330-be20-4baf-edb1-95e8b7d4f4ab"
   },
   "outputs": [],
   "source": [
    "import optionspricing\n",
    "import boto3\n",
    "import helpers\n",
    "import pandas\n",
    "from dotenv import load_dotenv\n",
    "\n",
    "load_dotenv()\n",
    "\n",
    "BINANCE_ETH = \"ETHUSDT\"\n",
    "BINANCE_XRP = \"XRPUSDC\"\n",
    "BINANCE_SOL = \"SOLUSDC\"\n",
    "\n",
    "BINANCE_SYMBOL = BINANCE_ETH\n",
    "USD_QUOTES = [\"SOL\", \"XRP\", \"MATIC\"]\n",
    "quote_in_usd = len([prefix for prefix in USD_QUOTES if BINANCE_SYMBOL.upper().startswith(prefix)]) > 0\n",
    "\n",
    "s3 = boto3.resource('s3')\n",
    "\n",
    "data_file = helpers.fetch_object(s3, \"test-binance-prices-255120844515\", f\"{BINANCE_SYMBOL}-full.csv.zip\")\n",
    "prices_df = pandas.read_csv(data_file, compression='zip', header=0, index_col=\"dateTime\")\n",
    "prices_df.index = pandas.to_datetime(prices_df.index)"
   ]
  },
  {
   "cell_type": "markdown",
   "metadata": {
    "id": "-cJhFZGk5SMS"
   },
   "source": [
    "## Option valuation model: input parameters here"
   ]
  },
  {
   "cell_type": "code",
   "execution_count": 5,
   "metadata": {
    "ExecuteTime": {
     "end_time": "2024-01-29T10:28:52.874110Z",
     "start_time": "2024-01-29T10:28:49.030564Z"
    },
    "collapsed": false
   },
   "outputs": [
    {
     "name": "stderr",
     "output_type": "stream",
     "text": [
      "WARNING:root:calling option chain: https://www.deribit.com/api/v2/public/get_instruments?currency=ETH&kind=option&expired=false\n"
     ]
    },
    {
     "name": "stdout",
     "output_type": "stream",
     "text": [
      "target expiry: Tue 09 Apr, 08:00 (23 hours left)\n",
      "current price: 3597.42\n",
      "-------------------------------\n",
      "hit ratio: 27%\n",
      "cost: 0.032 / value: 0.023, gain% = -0.81%\n",
      "($) cost: 113.32 / value: 84.20, average gain = -29.12\n",
      "buy put 3575.0\n",
      "buy call 3625.0\n",
      "-------------------------------\n",
      "hit ratio: 26%\n",
      "cost: 0.026 / value: 0.019, gain% = -0.69%\n",
      "($) cost: 91.73 / value: 66.95, average gain = -24.79\n",
      "buy put 3550.0\n",
      "buy call 3650.0\n",
      "-------------------------------\n",
      "hit ratio: 23%\n",
      "cost: 0.019 / value: 0.013, gain% = -0.63%\n",
      "($) cost: 70.15 / value: 47.53, average gain = -22.62\n",
      "buy put 3525.0\n",
      "buy call 3700.0\n",
      "-------------------------------\n",
      "hit ratio: 20%\n",
      "cost: 0.013 / value: 0.009, gain% = -0.40%\n",
      "($) cost: 48.57 / value: 34.09, average gain = -14.48\n",
      "buy put 3500.0\n",
      "buy call 3750.0\n"
     ]
    }
   ],
   "source": [
    "target_period_hours = 1 * 24\n",
    "strikes_universe_size = 4\n",
    "CUT_OFF_YEAR_MONTH = (2021, 1)\n",
    "\n",
    "instrument_code = BINANCE_SYMBOL[:3]\n",
    "\n",
    "headers = {\"Content-Type\": \"application/json\"}\n",
    "base_url = \"https://www.deribit.com/api/v2/public\"\n",
    "\n",
    "trading_model = optionspricing.TradingModel(base_url, headers, instrument_code, target_period_hours)\n",
    "trading_model.cutoff_year_month(CUT_OFF_YEAR_MONTH)\n",
    "target_expiry = trading_model.target_expiry\n",
    "underlying_price = trading_model.underlying_price\n",
    "remaining_hours = trading_model.remaining_hours\n",
    "\n",
    "option_chain_df = trading_model.evaluate(prices_df, strikes_universe_size)\n",
    "simulation = trading_model.simulate_strategy_long_straddle(option_chain_df, strikes_universe_size, quote_in_usd=quote_in_usd)\n",
    "print(simulation)"
   ]
  },
  {
   "cell_type": "code",
   "execution_count": 15,
   "metadata": {
    "ExecuteTime": {
     "end_time": "2024-01-29T10:28:53.839639Z",
     "start_time": "2024-01-29T10:28:53.814899Z"
    },
    "id": "Nwr0Hlj75SMV",
    "outputId": "430484f0-9bd3-4b6e-e0da-5c9891594905"
   },
   "outputs": [
    {
     "data": {
      "text/html": [
       "<div>\n",
       "<style scoped>\n",
       "    .dataframe tbody tr th:only-of-type {\n",
       "        vertical-align: middle;\n",
       "    }\n",
       "\n",
       "    .dataframe tbody tr th {\n",
       "        vertical-align: top;\n",
       "    }\n",
       "\n",
       "    .dataframe thead th {\n",
       "        text-align: right;\n",
       "    }\n",
       "</style>\n",
       "<table border=\"1\" class=\"dataframe\">\n",
       "  <thead>\n",
       "    <tr style=\"text-align: right;\">\n",
       "      <th></th>\n",
       "      <th>value_call</th>\n",
       "      <th>value_call_pct</th>\n",
       "      <th>call_bid</th>\n",
       "      <th>call_ask</th>\n",
       "      <th>value_put</th>\n",
       "      <th>value_put_pct</th>\n",
       "      <th>put_bid</th>\n",
       "      <th>put_ask</th>\n",
       "    </tr>\n",
       "    <tr>\n",
       "      <th>strike</th>\n",
       "      <th></th>\n",
       "      <th></th>\n",
       "      <th></th>\n",
       "      <th></th>\n",
       "      <th></th>\n",
       "      <th></th>\n",
       "      <th></th>\n",
       "      <th></th>\n",
       "    </tr>\n",
       "  </thead>\n",
       "  <tbody>\n",
       "    <tr>\n",
       "      <th>3500.0</th>\n",
       "      <td>153.112809</td>\n",
       "      <td>NaN</td>\n",
       "      <td>0.0405</td>\n",
       "      <td>0.0465</td>\n",
       "      <td>33.188285</td>\n",
       "      <td>0.009209</td>\n",
       "      <td>0.0115</td>\n",
       "      <td>0.0125</td>\n",
       "    </tr>\n",
       "    <tr>\n",
       "      <th>3525.0</th>\n",
       "      <td>134.176139</td>\n",
       "      <td>NaN</td>\n",
       "      <td>0.0370</td>\n",
       "      <td>0.0405</td>\n",
       "      <td>39.251615</td>\n",
       "      <td>0.010891</td>\n",
       "      <td>0.0140</td>\n",
       "      <td>0.0150</td>\n",
       "    </tr>\n",
       "    <tr>\n",
       "      <th>3550.0</th>\n",
       "      <td>116.447980</td>\n",
       "      <td>NaN</td>\n",
       "      <td>0.0335</td>\n",
       "      <td>0.0360</td>\n",
       "      <td>46.523456</td>\n",
       "      <td>0.012909</td>\n",
       "      <td>0.0170</td>\n",
       "      <td>0.0175</td>\n",
       "    </tr>\n",
       "    <tr>\n",
       "      <th>3575.0</th>\n",
       "      <td>100.183013</td>\n",
       "      <td>NaN</td>\n",
       "      <td>0.0300</td>\n",
       "      <td>0.0325</td>\n",
       "      <td>55.258489</td>\n",
       "      <td>0.015333</td>\n",
       "      <td>0.0200</td>\n",
       "      <td>0.0210</td>\n",
       "    </tr>\n",
       "    <tr>\n",
       "      <th>3600.0</th>\n",
       "      <td>85.744017</td>\n",
       "      <td>NaN</td>\n",
       "      <td>0.0270</td>\n",
       "      <td>0.0280</td>\n",
       "      <td>65.819493</td>\n",
       "      <td>0.018263</td>\n",
       "      <td>0.0235</td>\n",
       "      <td>0.0250</td>\n",
       "    </tr>\n",
       "    <tr>\n",
       "      <th>3625.0</th>\n",
       "      <td>73.403827</td>\n",
       "      <td>0.020368</td>\n",
       "      <td>0.0235</td>\n",
       "      <td>0.0250</td>\n",
       "      <td>78.479303</td>\n",
       "      <td>NaN</td>\n",
       "      <td>0.0275</td>\n",
       "      <td>0.0285</td>\n",
       "    </tr>\n",
       "    <tr>\n",
       "      <th>3650.0</th>\n",
       "      <td>62.869078</td>\n",
       "      <td>0.017445</td>\n",
       "      <td>0.0210</td>\n",
       "      <td>0.0220</td>\n",
       "      <td>92.944554</td>\n",
       "      <td>NaN</td>\n",
       "      <td>NaN</td>\n",
       "      <td>NaN</td>\n",
       "    </tr>\n",
       "    <tr>\n",
       "      <th>3675.0</th>\n",
       "      <td>53.814820</td>\n",
       "      <td>0.014932</td>\n",
       "      <td>0.0185</td>\n",
       "      <td>0.0195</td>\n",
       "      <td>108.890296</td>\n",
       "      <td>NaN</td>\n",
       "      <td>0.0005</td>\n",
       "      <td>NaN</td>\n",
       "    </tr>\n",
       "    <tr>\n",
       "      <th>3700.0</th>\n",
       "      <td>45.988805</td>\n",
       "      <td>0.012761</td>\n",
       "      <td>0.0165</td>\n",
       "      <td>0.0175</td>\n",
       "      <td>126.064281</td>\n",
       "      <td>NaN</td>\n",
       "      <td>0.0005</td>\n",
       "      <td>NaN</td>\n",
       "    </tr>\n",
       "  </tbody>\n",
       "</table>\n",
       "</div>"
      ],
      "text/plain": [
       "        value_call  value_call_pct  call_bid  call_ask   value_put  \\\n",
       "strike                                                               \n",
       "3500.0  153.112809             NaN    0.0405    0.0465   33.188285   \n",
       "3525.0  134.176139             NaN    0.0370    0.0405   39.251615   \n",
       "3550.0  116.447980             NaN    0.0335    0.0360   46.523456   \n",
       "3575.0  100.183013             NaN    0.0300    0.0325   55.258489   \n",
       "3600.0   85.744017             NaN    0.0270    0.0280   65.819493   \n",
       "3625.0   73.403827        0.020368    0.0235    0.0250   78.479303   \n",
       "3650.0   62.869078        0.017445    0.0210    0.0220   92.944554   \n",
       "3675.0   53.814820        0.014932    0.0185    0.0195  108.890296   \n",
       "3700.0   45.988805        0.012761    0.0165    0.0175  126.064281   \n",
       "\n",
       "        value_put_pct  put_bid  put_ask  \n",
       "strike                                   \n",
       "3500.0       0.009209   0.0115   0.0125  \n",
       "3525.0       0.010891   0.0140   0.0150  \n",
       "3550.0       0.012909   0.0170   0.0175  \n",
       "3575.0       0.015333   0.0200   0.0210  \n",
       "3600.0       0.018263   0.0235   0.0250  \n",
       "3625.0            NaN   0.0275   0.0285  \n",
       "3650.0            NaN      NaN      NaN  \n",
       "3675.0            NaN   0.0005      NaN  \n",
       "3700.0            NaN   0.0005      NaN  "
      ]
     },
     "execution_count": 15,
     "metadata": {},
     "output_type": "execute_result"
    }
   ],
   "source": [
    "simulation.options_chain"
   ]
  },
  {
   "cell_type": "markdown",
   "metadata": {},
   "source": [
    "# Sanity checks"
   ]
  },
  {
   "cell_type": "code",
   "execution_count": 8,
   "metadata": {},
   "outputs": [
    {
     "name": "stdout",
     "output_type": "stream",
     "text": [
      "target expiry: Tue 09 Apr, 08:00 (23 hours left)\n",
      "current price: 3597.42\n",
      "-------------------------------\n",
      "hit ratio: 61%\n",
      "cost: -0.013 / value: -0.012, gain% = 0.16%\n",
      "($) cost: -47.85 / value: -42.23, average gain = 5.62\n",
      "buy put 3475.0\n",
      "sell put 3550.0\n",
      "sell call 3650.0\n",
      "buy call 3800.0\n"
     ]
    }
   ],
   "source": [
    "size = 6\n",
    "option_chain_df = trading_model.evaluate(prices_df, strikes_universe_size=size)\n",
    "put_weights = [0.] * (2 * size + 1)\n",
    "call_weights = [0.] * (2 * size + 1)\n",
    "put_weights[size - 5] = 1.\n",
    "put_weights[size - 2] = -1.\n",
    "call_weights[size + 2] = -1.\n",
    "call_weights[size + 5] = 1.\n",
    "\n",
    "simulation = trading_model.simulate_strategy(option_chain_df, put_weights, call_weights, quote_in_usd=quote_in_usd)\n",
    "print(simulation)"
   ]
  }
 ],
 "metadata": {
  "colab": {
   "provenance": []
  },
  "kernelspec": {
   "display_name": "Python 3 (ipykernel)",
   "language": "python",
   "name": "python3"
  },
  "language_info": {
   "codemirror_mode": {
    "name": "ipython",
    "version": 3
   },
   "file_extension": ".py",
   "mimetype": "text/x-python",
   "name": "python",
   "nbconvert_exporter": "python",
   "pygments_lexer": "ipython3",
   "version": "3.12.1"
  }
 },
 "nbformat": 4,
 "nbformat_minor": 4
}
