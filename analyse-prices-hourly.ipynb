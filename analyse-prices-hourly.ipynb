{
 "cells": [
  {
   "cell_type": "code",
   "execution_count": 14,
   "metadata": {
    "colab": {
     "base_uri": "https://localhost:8080/"
    },
    "id": "4kMo6W1p5SMO",
    "outputId": "e249ee53-b2a5-4724-efdc-392594676e02",
    "ExecuteTime": {
     "end_time": "2024-01-26T18:27:29.737820Z",
     "start_time": "2024-01-26T18:27:16.798494Z"
    }
   },
   "outputs": [
    {
     "name": "stdout",
     "output_type": "stream",
     "text": [
      "\u001B[34mUpdating dependencies\u001B[39m\r\n",
      "\u001B[2K\u001B[34mResolving dependencies...\u001B[39m \u001B[39;2m(9.8s)\u001B[39;22m\u001B[34mResolving dependencies...\u001B[39m \u001B[39;2m(2.6s)\u001B[39;22m\r\n",
      "\r\n",
      "No dependencies to install or update\r\n"
     ]
    }
   ],
   "source": [
    "!poetry update"
   ]
  },
  {
   "cell_type": "markdown",
   "metadata": {
    "collapsed": false,
    "id": "h-A4kPps5SMQ"
   },
   "source": [
    "# Option valuation model based on historical prices"
   ]
  },
  {
   "cell_type": "code",
   "execution_count": 1,
   "metadata": {
    "colab": {
     "base_uri": "https://localhost:8080/",
     "height": 443
    },
    "id": "nxChr0ny5SMS",
    "outputId": "2a84f330-be20-4baf-edb1-95e8b7d4f4ab",
    "ExecuteTime": {
     "end_time": "2024-01-28T09:44:12.952782Z",
     "start_time": "2024-01-28T09:44:10.909325Z"
    }
   },
   "outputs": [
    {
     "name": "stdout",
     "output_type": "stream",
     "text": [
      "\n",
      "loading 2014 ............\n",
      "loading 2015 ............\n",
      "loading 2016 ............\n",
      "loading 2017 ............\n",
      "loading 2018 ............\n",
      "loading 2019 ............\n",
      "loading 2020 ............\n",
      "loading 2021 ............\n",
      "loading 2022 ............\n",
      "loading 2023 ............\n",
      "loading 2024 \n",
      "interrupting at 2024/01\n"
     ]
    }
   ],
   "source": [
    "import importlib.util\n",
    "import os\n",
    "google_colab_spec = importlib.util.find_spec(\"google\") and importlib.util.find_spec(\"google.colab\")\n",
    "if google_colab_spec:\n",
    "    google_colab = importlib.import_module('google.colab')\n",
    "    google_colab.drive.mount('/content/drive', force_remount=True)\n",
    "    path = '/content/drive/MyDrive/Colab Notebooks/Ethereum Prices'\n",
    "else:\n",
    "    path = f'{os.environ[\"HOME\"]}/Library/CloudStorage/GoogleDrive-chris.perso@gmail.com/My Drive/Colab Notebooks/Ethereum Prices'\n",
    "\n",
    "import optionspricing\n",
    "import binanceprices\n",
    "\n",
    "COUNT_YEARS = 10\n",
    "BINANCE_DATETIME_FORMAT = \"%Y-%m-%d %H-%M-%S\"\n",
    "BINANCE_SYMBOL = 'ETHUSDT'\n",
    "\n",
    "prices_df = binanceprices.load_prices(path, BINANCE_SYMBOL, COUNT_YEARS)\n"
   ]
  },
  {
   "cell_type": "markdown",
   "metadata": {
    "id": "-cJhFZGk5SMS"
   },
   "source": [
    "## Option valuation model: input parameters here"
   ]
  },
  {
   "cell_type": "code",
   "outputs": [
    {
     "name": "stdout",
     "output_type": "stream",
     "text": [
      "target expiry: 2024-02-01 08:00:00+00:00 (70 hours left)\n",
      "current price: 2270.17\n",
      "-------------------------------\n",
      "trading put 2250 and call 2300 (hit ratio: 47%)\n",
      "cost: 0.021 / value: 0.034, benefit/cost = 1.6x\n",
      "($) cost: 47.67 / value: 76.80, average gain = 29.12\n",
      "-------------------------------\n",
      "trading put 2225 and call 2325 (hit ratio: 43%)\n",
      "cost: 0.014 / value: 0.026, benefit/cost = 1.9x\n",
      "($) cost: 31.78 / value: 59.68, average gain = 27.90\n",
      "-------------------------------\n",
      "trading put 2200 and call 2350 (hit ratio: 37%)\n",
      "cost: 0.009 / value: 0.020, benefit/cost = 2.2x\n",
      "($) cost: 21.11 / value: 46.47, average gain = 25.36\n",
      "-------------------------------\n",
      "trading put 2175 and call 2375 (hit ratio: 31%)\n",
      "cost: 0.006 / value: 0.016, benefit/cost = 2.5x\n",
      "($) cost: 14.53 / value: 36.25, average gain = 21.73\n"
     ]
    },
    {
     "data": {
      "text/plain": "[{'put': 2225.0, 'call': 2325.0, 'quantity': 0},\n {'put': 2200.0, 'call': 2350.0, 'quantity': 1}]"
     },
     "execution_count": 8,
     "metadata": {},
     "output_type": "execute_result"
    }
   ],
   "source": [
    "target_period_hours = 3 * 24\n",
    "strikes_universe_size = 4\n",
    "CUT_OFF_YEAR_MONTH = (2022, 1)\n",
    "\n",
    "instrument_code = BINANCE_SYMBOL[:3]\n",
    "\n",
    "headers = {\"Content-Type\": \"application/json\"}\n",
    "base_url = \"https://www.deribit.com/api/v2/public\"\n",
    "\n",
    "trading_model = optionspricing.TradingModel(base_url, headers, instrument_code, target_period_hours)\n",
    "trading_model.cutoff_year_month(CUT_OFF_YEAR_MONTH)\n",
    "target_expiry = trading_model.target_expiry\n",
    "underlying_price = trading_model.underlying_price\n",
    "remaining_hours = trading_model.remaining_hours\n",
    "\n",
    "simulation = trading_model.evaluate(prices_df, strikes_universe_size)\n",
    "print(simulation)\n",
    "simulation.allocate([1, 2], 1500. * 2./100.)"
   ],
   "metadata": {
    "collapsed": false,
    "ExecuteTime": {
     "end_time": "2024-01-29T10:28:52.874110Z",
     "start_time": "2024-01-29T10:28:49.030564Z"
    }
   },
   "execution_count": 8
  },
  {
   "cell_type": "code",
   "outputs": [
    {
     "data": {
      "text/plain": "        value_call  value_call_pct  call_ask   value_put  value_put_pct  \\\nstrike                                                                    \n2175.0  114.938104             NaN    0.0535   19.778018       0.008712   \n2200.0   95.049126             NaN    0.0440   24.889040       0.010964   \n2225.0   76.690561             NaN    0.0350   31.530475       0.013889   \n2250.0   60.500794             NaN    0.0205   40.340708       0.017770   \n2275.0   47.006775        0.020706    0.0145   51.846689            NaN   \n2300.0   36.455045        0.016058    0.0100   66.294959            NaN   \n2325.0   28.154131        0.012402    0.0065   82.994045            NaN   \n2350.0   21.578549        0.009505    0.0043  101.418463            NaN   \n2375.0   16.476585        0.007258    0.0029  121.316499            NaN   \n\n        put_ask  \nstrike           \n2175.0   0.0035  \n2200.0   0.0050  \n2225.0   0.0075  \n2250.0   0.0110  \n2275.0   0.0160  \n2300.0   0.0230  \n2325.0      NaN  \n2350.0      NaN  \n2375.0      NaN  ",
      "text/html": "<div>\n<style scoped>\n    .dataframe tbody tr th:only-of-type {\n        vertical-align: middle;\n    }\n\n    .dataframe tbody tr th {\n        vertical-align: top;\n    }\n\n    .dataframe thead th {\n        text-align: right;\n    }\n</style>\n<table border=\"1\" class=\"dataframe\">\n  <thead>\n    <tr style=\"text-align: right;\">\n      <th></th>\n      <th>value_call</th>\n      <th>value_call_pct</th>\n      <th>call_ask</th>\n      <th>value_put</th>\n      <th>value_put_pct</th>\n      <th>put_ask</th>\n    </tr>\n    <tr>\n      <th>strike</th>\n      <th></th>\n      <th></th>\n      <th></th>\n      <th></th>\n      <th></th>\n      <th></th>\n    </tr>\n  </thead>\n  <tbody>\n    <tr>\n      <th>2175.0</th>\n      <td>114.938104</td>\n      <td>NaN</td>\n      <td>0.0535</td>\n      <td>19.778018</td>\n      <td>0.008712</td>\n      <td>0.0035</td>\n    </tr>\n    <tr>\n      <th>2200.0</th>\n      <td>95.049126</td>\n      <td>NaN</td>\n      <td>0.0440</td>\n      <td>24.889040</td>\n      <td>0.010964</td>\n      <td>0.0050</td>\n    </tr>\n    <tr>\n      <th>2225.0</th>\n      <td>76.690561</td>\n      <td>NaN</td>\n      <td>0.0350</td>\n      <td>31.530475</td>\n      <td>0.013889</td>\n      <td>0.0075</td>\n    </tr>\n    <tr>\n      <th>2250.0</th>\n      <td>60.500794</td>\n      <td>NaN</td>\n      <td>0.0205</td>\n      <td>40.340708</td>\n      <td>0.017770</td>\n      <td>0.0110</td>\n    </tr>\n    <tr>\n      <th>2275.0</th>\n      <td>47.006775</td>\n      <td>0.020706</td>\n      <td>0.0145</td>\n      <td>51.846689</td>\n      <td>NaN</td>\n      <td>0.0160</td>\n    </tr>\n    <tr>\n      <th>2300.0</th>\n      <td>36.455045</td>\n      <td>0.016058</td>\n      <td>0.0100</td>\n      <td>66.294959</td>\n      <td>NaN</td>\n      <td>0.0230</td>\n    </tr>\n    <tr>\n      <th>2325.0</th>\n      <td>28.154131</td>\n      <td>0.012402</td>\n      <td>0.0065</td>\n      <td>82.994045</td>\n      <td>NaN</td>\n      <td>NaN</td>\n    </tr>\n    <tr>\n      <th>2350.0</th>\n      <td>21.578549</td>\n      <td>0.009505</td>\n      <td>0.0043</td>\n      <td>101.418463</td>\n      <td>NaN</td>\n      <td>NaN</td>\n    </tr>\n    <tr>\n      <th>2375.0</th>\n      <td>16.476585</td>\n      <td>0.007258</td>\n      <td>0.0029</td>\n      <td>121.316499</td>\n      <td>NaN</td>\n      <td>NaN</td>\n    </tr>\n  </tbody>\n</table>\n</div>"
     },
     "execution_count": 9,
     "metadata": {},
     "output_type": "execute_result"
    }
   ],
   "source": [
    "simulation.options_chain"
   ],
   "metadata": {
    "id": "Nwr0Hlj75SMV",
    "outputId": "430484f0-9bd3-4b6e-e0da-5c9891594905",
    "ExecuteTime": {
     "end_time": "2024-01-29T10:28:53.839639Z",
     "start_time": "2024-01-29T10:28:53.814899Z"
    }
   },
   "execution_count": 9
  },
  {
   "cell_type": "code",
   "outputs": [],
   "source": [],
   "metadata": {
    "collapsed": false,
    "ExecuteTime": {
     "end_time": "2024-01-27T08:01:21.174652Z",
     "start_time": "2024-01-27T08:01:21.143165Z"
    }
   },
   "execution_count": 3
  },
  {
   "cell_type": "code",
   "outputs": [],
   "source": [],
   "metadata": {
    "collapsed": false
   }
  }
 ],
 "metadata": {
  "colab": {
   "provenance": []
  },
  "kernelspec": {
   "display_name": "Python 3 (ipykernel)",
   "language": "python",
   "name": "python3"
  },
  "language_info": {
   "codemirror_mode": {
    "name": "ipython",
    "version": 3
   },
   "file_extension": ".py",
   "mimetype": "text/x-python",
   "name": "python",
   "nbconvert_exporter": "python",
   "pygments_lexer": "ipython3",
   "version": "3.12.1"
  }
 },
 "nbformat": 4,
 "nbformat_minor": 4
}
